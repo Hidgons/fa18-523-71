{
 "cells": [
  {
   "cell_type": "code",
   "execution_count": 2,
   "metadata": {},
   "outputs": [
    {
     "name": "stderr",
     "output_type": "stream",
     "text": [
      "C:\\Users\\umabk\\Anaconda2\\envs\\myenv\\lib\\site-packages\\sklearn\\ensemble\\weight_boosting.py:29: DeprecationWarning: numpy.core.umath_tests is an internal NumPy module and should not be imported. It will be removed in a future NumPy release.\n",
      "  from numpy.core.umath_tests import inner1d\n"
     ]
    }
   ],
   "source": [
    "import numpy as np\n",
    "import pandas as pd\n",
    "from matplotlib import pyplot as plt\n",
    "import warnings\n",
    "warnings.filterwarnings('ignore')\n",
    "import seaborn as sns\n",
    "from sklearn import preprocessing\n",
    "from sklearn import datasets \n",
    "from sklearn.metrics import confusion_matrix\n",
    "from sklearn.model_selection import train_test_split \n",
    "from sklearn import svm, datasets\n",
    "from sklearn.ensemble import RandomForestClassifier"
   ]
  },
  {
   "cell_type": "code",
   "execution_count": 3,
   "metadata": {},
   "outputs": [
    {
     "data": {
      "text/html": [
       "<div>\n",
       "<style scoped>\n",
       "    .dataframe tbody tr th:only-of-type {\n",
       "        vertical-align: middle;\n",
       "    }\n",
       "\n",
       "    .dataframe tbody tr th {\n",
       "        vertical-align: top;\n",
       "    }\n",
       "\n",
       "    .dataframe thead th {\n",
       "        text-align: right;\n",
       "    }\n",
       "</style>\n",
       "<table border=\"1\" class=\"dataframe\">\n",
       "  <thead>\n",
       "    <tr style=\"text-align: right;\">\n",
       "      <th></th>\n",
       "      <th>SK_ID_CURR</th>\n",
       "      <th>TARGET</th>\n",
       "      <th>NAME_CONTRACT_TYPE</th>\n",
       "      <th>CODE_GENDER</th>\n",
       "      <th>FLAG_OWN_CAR</th>\n",
       "      <th>FLAG_OWN_REALTY</th>\n",
       "      <th>CNT_CHILDREN</th>\n",
       "      <th>AMT_INCOME_TOTAL</th>\n",
       "      <th>AMT_CREDIT</th>\n",
       "      <th>AMT_ANNUITY</th>\n",
       "      <th>...</th>\n",
       "      <th>FLAG_DOCUMENT_18</th>\n",
       "      <th>FLAG_DOCUMENT_19</th>\n",
       "      <th>FLAG_DOCUMENT_20</th>\n",
       "      <th>FLAG_DOCUMENT_21</th>\n",
       "      <th>AMT_REQ_CREDIT_BUREAU_HOUR</th>\n",
       "      <th>AMT_REQ_CREDIT_BUREAU_DAY</th>\n",
       "      <th>AMT_REQ_CREDIT_BUREAU_WEEK</th>\n",
       "      <th>AMT_REQ_CREDIT_BUREAU_MON</th>\n",
       "      <th>AMT_REQ_CREDIT_BUREAU_QRT</th>\n",
       "      <th>AMT_REQ_CREDIT_BUREAU_YEAR</th>\n",
       "    </tr>\n",
       "  </thead>\n",
       "  <tbody>\n",
       "    <tr>\n",
       "      <th>0</th>\n",
       "      <td>100002</td>\n",
       "      <td>1</td>\n",
       "      <td>Cash loans</td>\n",
       "      <td>M</td>\n",
       "      <td>N</td>\n",
       "      <td>Y</td>\n",
       "      <td>0</td>\n",
       "      <td>202500.0</td>\n",
       "      <td>406597.5</td>\n",
       "      <td>24700.5</td>\n",
       "      <td>...</td>\n",
       "      <td>0</td>\n",
       "      <td>0</td>\n",
       "      <td>0</td>\n",
       "      <td>0</td>\n",
       "      <td>0.0</td>\n",
       "      <td>0.0</td>\n",
       "      <td>0.0</td>\n",
       "      <td>0.0</td>\n",
       "      <td>0.0</td>\n",
       "      <td>1.0</td>\n",
       "    </tr>\n",
       "    <tr>\n",
       "      <th>1</th>\n",
       "      <td>100003</td>\n",
       "      <td>0</td>\n",
       "      <td>Cash loans</td>\n",
       "      <td>F</td>\n",
       "      <td>N</td>\n",
       "      <td>N</td>\n",
       "      <td>0</td>\n",
       "      <td>270000.0</td>\n",
       "      <td>1293502.5</td>\n",
       "      <td>35698.5</td>\n",
       "      <td>...</td>\n",
       "      <td>0</td>\n",
       "      <td>0</td>\n",
       "      <td>0</td>\n",
       "      <td>0</td>\n",
       "      <td>0.0</td>\n",
       "      <td>0.0</td>\n",
       "      <td>0.0</td>\n",
       "      <td>0.0</td>\n",
       "      <td>0.0</td>\n",
       "      <td>0.0</td>\n",
       "    </tr>\n",
       "    <tr>\n",
       "      <th>2</th>\n",
       "      <td>100004</td>\n",
       "      <td>0</td>\n",
       "      <td>Revolving loans</td>\n",
       "      <td>M</td>\n",
       "      <td>Y</td>\n",
       "      <td>Y</td>\n",
       "      <td>0</td>\n",
       "      <td>67500.0</td>\n",
       "      <td>135000.0</td>\n",
       "      <td>6750.0</td>\n",
       "      <td>...</td>\n",
       "      <td>0</td>\n",
       "      <td>0</td>\n",
       "      <td>0</td>\n",
       "      <td>0</td>\n",
       "      <td>0.0</td>\n",
       "      <td>0.0</td>\n",
       "      <td>0.0</td>\n",
       "      <td>0.0</td>\n",
       "      <td>0.0</td>\n",
       "      <td>0.0</td>\n",
       "    </tr>\n",
       "    <tr>\n",
       "      <th>3</th>\n",
       "      <td>100006</td>\n",
       "      <td>0</td>\n",
       "      <td>Cash loans</td>\n",
       "      <td>F</td>\n",
       "      <td>N</td>\n",
       "      <td>Y</td>\n",
       "      <td>0</td>\n",
       "      <td>135000.0</td>\n",
       "      <td>312682.5</td>\n",
       "      <td>29686.5</td>\n",
       "      <td>...</td>\n",
       "      <td>0</td>\n",
       "      <td>0</td>\n",
       "      <td>0</td>\n",
       "      <td>0</td>\n",
       "      <td>NaN</td>\n",
       "      <td>NaN</td>\n",
       "      <td>NaN</td>\n",
       "      <td>NaN</td>\n",
       "      <td>NaN</td>\n",
       "      <td>NaN</td>\n",
       "    </tr>\n",
       "    <tr>\n",
       "      <th>4</th>\n",
       "      <td>100007</td>\n",
       "      <td>0</td>\n",
       "      <td>Cash loans</td>\n",
       "      <td>M</td>\n",
       "      <td>N</td>\n",
       "      <td>Y</td>\n",
       "      <td>0</td>\n",
       "      <td>121500.0</td>\n",
       "      <td>513000.0</td>\n",
       "      <td>21865.5</td>\n",
       "      <td>...</td>\n",
       "      <td>0</td>\n",
       "      <td>0</td>\n",
       "      <td>0</td>\n",
       "      <td>0</td>\n",
       "      <td>0.0</td>\n",
       "      <td>0.0</td>\n",
       "      <td>0.0</td>\n",
       "      <td>0.0</td>\n",
       "      <td>0.0</td>\n",
       "      <td>0.0</td>\n",
       "    </tr>\n",
       "  </tbody>\n",
       "</table>\n",
       "<p>5 rows × 122 columns</p>\n",
       "</div>"
      ],
      "text/plain": [
       "   SK_ID_CURR  TARGET NAME_CONTRACT_TYPE CODE_GENDER FLAG_OWN_CAR  \\\n",
       "0      100002       1         Cash loans           M            N   \n",
       "1      100003       0         Cash loans           F            N   \n",
       "2      100004       0    Revolving loans           M            Y   \n",
       "3      100006       0         Cash loans           F            N   \n",
       "4      100007       0         Cash loans           M            N   \n",
       "\n",
       "  FLAG_OWN_REALTY  CNT_CHILDREN  AMT_INCOME_TOTAL  AMT_CREDIT  AMT_ANNUITY  \\\n",
       "0               Y             0          202500.0    406597.5      24700.5   \n",
       "1               N             0          270000.0   1293502.5      35698.5   \n",
       "2               Y             0           67500.0    135000.0       6750.0   \n",
       "3               Y             0          135000.0    312682.5      29686.5   \n",
       "4               Y             0          121500.0    513000.0      21865.5   \n",
       "\n",
       "              ...              FLAG_DOCUMENT_18 FLAG_DOCUMENT_19  \\\n",
       "0             ...                             0                0   \n",
       "1             ...                             0                0   \n",
       "2             ...                             0                0   \n",
       "3             ...                             0                0   \n",
       "4             ...                             0                0   \n",
       "\n",
       "  FLAG_DOCUMENT_20 FLAG_DOCUMENT_21 AMT_REQ_CREDIT_BUREAU_HOUR  \\\n",
       "0                0                0                        0.0   \n",
       "1                0                0                        0.0   \n",
       "2                0                0                        0.0   \n",
       "3                0                0                        NaN   \n",
       "4                0                0                        0.0   \n",
       "\n",
       "  AMT_REQ_CREDIT_BUREAU_DAY  AMT_REQ_CREDIT_BUREAU_WEEK  \\\n",
       "0                       0.0                         0.0   \n",
       "1                       0.0                         0.0   \n",
       "2                       0.0                         0.0   \n",
       "3                       NaN                         NaN   \n",
       "4                       0.0                         0.0   \n",
       "\n",
       "   AMT_REQ_CREDIT_BUREAU_MON  AMT_REQ_CREDIT_BUREAU_QRT  \\\n",
       "0                        0.0                        0.0   \n",
       "1                        0.0                        0.0   \n",
       "2                        0.0                        0.0   \n",
       "3                        NaN                        NaN   \n",
       "4                        0.0                        0.0   \n",
       "\n",
       "   AMT_REQ_CREDIT_BUREAU_YEAR  \n",
       "0                         1.0  \n",
       "1                         0.0  \n",
       "2                         0.0  \n",
       "3                         NaN  \n",
       "4                         0.0  \n",
       "\n",
       "[5 rows x 122 columns]"
      ]
     },
     "execution_count": 3,
     "metadata": {},
     "output_type": "execute_result"
    }
   ],
   "source": [
    "train_df=pd.read_csv(\"application_train.csv\")\n",
    "train_df.head()"
   ]
  },
  {
   "cell_type": "markdown",
   "metadata": {},
   "source": [
    "* find the columns with missing values and remove the ones that don't make sense\n",
    "* outliers and noise in data\n",
    "* histogram and label plot\n",
    "* dummy variable creation\n",
    "\n",
    "* EDA:\n",
    "    * Univariate\n",
    "    * Bivariate\n",
    "    * Correlation\n",
    "\n",
    "* Feature Importance\n",
    "* Feature Elimination\n",
    "* Model evaluation"
   ]
  },
  {
   "cell_type": "code",
   "execution_count": 4,
   "metadata": {},
   "outputs": [
    {
     "name": "stdout",
     "output_type": "stream",
     "text": [
      "The dataframe shape is : (307511, 122)\n"
     ]
    }
   ],
   "source": [
    "# the size of the dataframe\n",
    "\n",
    "print(\"The dataframe shape is :\",train_df.shape)"
   ]
  },
  {
   "cell_type": "code",
   "execution_count": 5,
   "metadata": {},
   "outputs": [
    {
     "name": "stdout",
     "output_type": "stream",
     "text": [
      "Of the 122 The no. of numeric columns 106\n"
     ]
    },
    {
     "data": {
      "text/html": [
       "<div>\n",
       "<style scoped>\n",
       "    .dataframe tbody tr th:only-of-type {\n",
       "        vertical-align: middle;\n",
       "    }\n",
       "\n",
       "    .dataframe tbody tr th {\n",
       "        vertical-align: top;\n",
       "    }\n",
       "\n",
       "    .dataframe thead th {\n",
       "        text-align: right;\n",
       "    }\n",
       "</style>\n",
       "<table border=\"1\" class=\"dataframe\">\n",
       "  <thead>\n",
       "    <tr style=\"text-align: right;\">\n",
       "      <th></th>\n",
       "      <th>SK_ID_CURR</th>\n",
       "      <th>TARGET</th>\n",
       "      <th>CNT_CHILDREN</th>\n",
       "      <th>DAYS_BIRTH</th>\n",
       "      <th>DAYS_EMPLOYED</th>\n",
       "      <th>DAYS_ID_PUBLISH</th>\n",
       "      <th>FLAG_MOBIL</th>\n",
       "      <th>FLAG_EMP_PHONE</th>\n",
       "      <th>FLAG_WORK_PHONE</th>\n",
       "      <th>FLAG_CONT_MOBILE</th>\n",
       "      <th>...</th>\n",
       "      <th>FLAG_DOCUMENT_12</th>\n",
       "      <th>FLAG_DOCUMENT_13</th>\n",
       "      <th>FLAG_DOCUMENT_14</th>\n",
       "      <th>FLAG_DOCUMENT_15</th>\n",
       "      <th>FLAG_DOCUMENT_16</th>\n",
       "      <th>FLAG_DOCUMENT_17</th>\n",
       "      <th>FLAG_DOCUMENT_18</th>\n",
       "      <th>FLAG_DOCUMENT_19</th>\n",
       "      <th>FLAG_DOCUMENT_20</th>\n",
       "      <th>FLAG_DOCUMENT_21</th>\n",
       "    </tr>\n",
       "  </thead>\n",
       "  <tbody>\n",
       "    <tr>\n",
       "      <th>count</th>\n",
       "      <td>307511.000000</td>\n",
       "      <td>307511.000000</td>\n",
       "      <td>307511.000000</td>\n",
       "      <td>307511.000000</td>\n",
       "      <td>307511.000000</td>\n",
       "      <td>307511.000000</td>\n",
       "      <td>307511.000000</td>\n",
       "      <td>307511.000000</td>\n",
       "      <td>307511.000000</td>\n",
       "      <td>307511.000000</td>\n",
       "      <td>...</td>\n",
       "      <td>307511.000000</td>\n",
       "      <td>307511.000000</td>\n",
       "      <td>307511.000000</td>\n",
       "      <td>307511.00000</td>\n",
       "      <td>307511.000000</td>\n",
       "      <td>307511.000000</td>\n",
       "      <td>307511.000000</td>\n",
       "      <td>307511.000000</td>\n",
       "      <td>307511.000000</td>\n",
       "      <td>307511.000000</td>\n",
       "    </tr>\n",
       "    <tr>\n",
       "      <th>mean</th>\n",
       "      <td>278180.518577</td>\n",
       "      <td>0.080729</td>\n",
       "      <td>0.417052</td>\n",
       "      <td>-16036.995067</td>\n",
       "      <td>63815.045904</td>\n",
       "      <td>-2994.202373</td>\n",
       "      <td>0.999997</td>\n",
       "      <td>0.819889</td>\n",
       "      <td>0.199368</td>\n",
       "      <td>0.998133</td>\n",
       "      <td>...</td>\n",
       "      <td>0.000007</td>\n",
       "      <td>0.003525</td>\n",
       "      <td>0.002936</td>\n",
       "      <td>0.00121</td>\n",
       "      <td>0.009928</td>\n",
       "      <td>0.000267</td>\n",
       "      <td>0.008130</td>\n",
       "      <td>0.000595</td>\n",
       "      <td>0.000507</td>\n",
       "      <td>0.000335</td>\n",
       "    </tr>\n",
       "    <tr>\n",
       "      <th>std</th>\n",
       "      <td>102790.175348</td>\n",
       "      <td>0.272419</td>\n",
       "      <td>0.722121</td>\n",
       "      <td>4363.988632</td>\n",
       "      <td>141275.766519</td>\n",
       "      <td>1509.450419</td>\n",
       "      <td>0.001803</td>\n",
       "      <td>0.384280</td>\n",
       "      <td>0.399526</td>\n",
       "      <td>0.043164</td>\n",
       "      <td>...</td>\n",
       "      <td>0.002550</td>\n",
       "      <td>0.059268</td>\n",
       "      <td>0.054110</td>\n",
       "      <td>0.03476</td>\n",
       "      <td>0.099144</td>\n",
       "      <td>0.016327</td>\n",
       "      <td>0.089798</td>\n",
       "      <td>0.024387</td>\n",
       "      <td>0.022518</td>\n",
       "      <td>0.018299</td>\n",
       "    </tr>\n",
       "    <tr>\n",
       "      <th>min</th>\n",
       "      <td>100002.000000</td>\n",
       "      <td>0.000000</td>\n",
       "      <td>0.000000</td>\n",
       "      <td>-25229.000000</td>\n",
       "      <td>-17912.000000</td>\n",
       "      <td>-7197.000000</td>\n",
       "      <td>0.000000</td>\n",
       "      <td>0.000000</td>\n",
       "      <td>0.000000</td>\n",
       "      <td>0.000000</td>\n",
       "      <td>...</td>\n",
       "      <td>0.000000</td>\n",
       "      <td>0.000000</td>\n",
       "      <td>0.000000</td>\n",
       "      <td>0.00000</td>\n",
       "      <td>0.000000</td>\n",
       "      <td>0.000000</td>\n",
       "      <td>0.000000</td>\n",
       "      <td>0.000000</td>\n",
       "      <td>0.000000</td>\n",
       "      <td>0.000000</td>\n",
       "    </tr>\n",
       "    <tr>\n",
       "      <th>25%</th>\n",
       "      <td>189145.500000</td>\n",
       "      <td>0.000000</td>\n",
       "      <td>0.000000</td>\n",
       "      <td>-19682.000000</td>\n",
       "      <td>-2760.000000</td>\n",
       "      <td>-4299.000000</td>\n",
       "      <td>1.000000</td>\n",
       "      <td>1.000000</td>\n",
       "      <td>0.000000</td>\n",
       "      <td>1.000000</td>\n",
       "      <td>...</td>\n",
       "      <td>0.000000</td>\n",
       "      <td>0.000000</td>\n",
       "      <td>0.000000</td>\n",
       "      <td>0.00000</td>\n",
       "      <td>0.000000</td>\n",
       "      <td>0.000000</td>\n",
       "      <td>0.000000</td>\n",
       "      <td>0.000000</td>\n",
       "      <td>0.000000</td>\n",
       "      <td>0.000000</td>\n",
       "    </tr>\n",
       "    <tr>\n",
       "      <th>50%</th>\n",
       "      <td>278202.000000</td>\n",
       "      <td>0.000000</td>\n",
       "      <td>0.000000</td>\n",
       "      <td>-15750.000000</td>\n",
       "      <td>-1213.000000</td>\n",
       "      <td>-3254.000000</td>\n",
       "      <td>1.000000</td>\n",
       "      <td>1.000000</td>\n",
       "      <td>0.000000</td>\n",
       "      <td>1.000000</td>\n",
       "      <td>...</td>\n",
       "      <td>0.000000</td>\n",
       "      <td>0.000000</td>\n",
       "      <td>0.000000</td>\n",
       "      <td>0.00000</td>\n",
       "      <td>0.000000</td>\n",
       "      <td>0.000000</td>\n",
       "      <td>0.000000</td>\n",
       "      <td>0.000000</td>\n",
       "      <td>0.000000</td>\n",
       "      <td>0.000000</td>\n",
       "    </tr>\n",
       "    <tr>\n",
       "      <th>75%</th>\n",
       "      <td>367142.500000</td>\n",
       "      <td>0.000000</td>\n",
       "      <td>1.000000</td>\n",
       "      <td>-12413.000000</td>\n",
       "      <td>-289.000000</td>\n",
       "      <td>-1720.000000</td>\n",
       "      <td>1.000000</td>\n",
       "      <td>1.000000</td>\n",
       "      <td>0.000000</td>\n",
       "      <td>1.000000</td>\n",
       "      <td>...</td>\n",
       "      <td>0.000000</td>\n",
       "      <td>0.000000</td>\n",
       "      <td>0.000000</td>\n",
       "      <td>0.00000</td>\n",
       "      <td>0.000000</td>\n",
       "      <td>0.000000</td>\n",
       "      <td>0.000000</td>\n",
       "      <td>0.000000</td>\n",
       "      <td>0.000000</td>\n",
       "      <td>0.000000</td>\n",
       "    </tr>\n",
       "    <tr>\n",
       "      <th>max</th>\n",
       "      <td>456255.000000</td>\n",
       "      <td>1.000000</td>\n",
       "      <td>19.000000</td>\n",
       "      <td>-7489.000000</td>\n",
       "      <td>365243.000000</td>\n",
       "      <td>0.000000</td>\n",
       "      <td>1.000000</td>\n",
       "      <td>1.000000</td>\n",
       "      <td>1.000000</td>\n",
       "      <td>1.000000</td>\n",
       "      <td>...</td>\n",
       "      <td>1.000000</td>\n",
       "      <td>1.000000</td>\n",
       "      <td>1.000000</td>\n",
       "      <td>1.00000</td>\n",
       "      <td>1.000000</td>\n",
       "      <td>1.000000</td>\n",
       "      <td>1.000000</td>\n",
       "      <td>1.000000</td>\n",
       "      <td>1.000000</td>\n",
       "      <td>1.000000</td>\n",
       "    </tr>\n",
       "  </tbody>\n",
       "</table>\n",
       "<p>8 rows × 41 columns</p>\n",
       "</div>"
      ],
      "text/plain": [
       "          SK_ID_CURR         TARGET   CNT_CHILDREN     DAYS_BIRTH  \\\n",
       "count  307511.000000  307511.000000  307511.000000  307511.000000   \n",
       "mean   278180.518577       0.080729       0.417052  -16036.995067   \n",
       "std    102790.175348       0.272419       0.722121    4363.988632   \n",
       "min    100002.000000       0.000000       0.000000  -25229.000000   \n",
       "25%    189145.500000       0.000000       0.000000  -19682.000000   \n",
       "50%    278202.000000       0.000000       0.000000  -15750.000000   \n",
       "75%    367142.500000       0.000000       1.000000  -12413.000000   \n",
       "max    456255.000000       1.000000      19.000000   -7489.000000   \n",
       "\n",
       "       DAYS_EMPLOYED  DAYS_ID_PUBLISH     FLAG_MOBIL  FLAG_EMP_PHONE  \\\n",
       "count  307511.000000    307511.000000  307511.000000   307511.000000   \n",
       "mean    63815.045904     -2994.202373       0.999997        0.819889   \n",
       "std    141275.766519      1509.450419       0.001803        0.384280   \n",
       "min    -17912.000000     -7197.000000       0.000000        0.000000   \n",
       "25%     -2760.000000     -4299.000000       1.000000        1.000000   \n",
       "50%     -1213.000000     -3254.000000       1.000000        1.000000   \n",
       "75%      -289.000000     -1720.000000       1.000000        1.000000   \n",
       "max    365243.000000         0.000000       1.000000        1.000000   \n",
       "\n",
       "       FLAG_WORK_PHONE  FLAG_CONT_MOBILE        ...         FLAG_DOCUMENT_12  \\\n",
       "count    307511.000000     307511.000000        ...            307511.000000   \n",
       "mean          0.199368          0.998133        ...                 0.000007   \n",
       "std           0.399526          0.043164        ...                 0.002550   \n",
       "min           0.000000          0.000000        ...                 0.000000   \n",
       "25%           0.000000          1.000000        ...                 0.000000   \n",
       "50%           0.000000          1.000000        ...                 0.000000   \n",
       "75%           0.000000          1.000000        ...                 0.000000   \n",
       "max           1.000000          1.000000        ...                 1.000000   \n",
       "\n",
       "       FLAG_DOCUMENT_13  FLAG_DOCUMENT_14  FLAG_DOCUMENT_15  FLAG_DOCUMENT_16  \\\n",
       "count     307511.000000     307511.000000      307511.00000     307511.000000   \n",
       "mean           0.003525          0.002936           0.00121          0.009928   \n",
       "std            0.059268          0.054110           0.03476          0.099144   \n",
       "min            0.000000          0.000000           0.00000          0.000000   \n",
       "25%            0.000000          0.000000           0.00000          0.000000   \n",
       "50%            0.000000          0.000000           0.00000          0.000000   \n",
       "75%            0.000000          0.000000           0.00000          0.000000   \n",
       "max            1.000000          1.000000           1.00000          1.000000   \n",
       "\n",
       "       FLAG_DOCUMENT_17  FLAG_DOCUMENT_18  FLAG_DOCUMENT_19  FLAG_DOCUMENT_20  \\\n",
       "count     307511.000000     307511.000000     307511.000000     307511.000000   \n",
       "mean           0.000267          0.008130          0.000595          0.000507   \n",
       "std            0.016327          0.089798          0.024387          0.022518   \n",
       "min            0.000000          0.000000          0.000000          0.000000   \n",
       "25%            0.000000          0.000000          0.000000          0.000000   \n",
       "50%            0.000000          0.000000          0.000000          0.000000   \n",
       "75%            0.000000          0.000000          0.000000          0.000000   \n",
       "max            1.000000          1.000000          1.000000          1.000000   \n",
       "\n",
       "       FLAG_DOCUMENT_21  \n",
       "count     307511.000000  \n",
       "mean           0.000335  \n",
       "std            0.018299  \n",
       "min            0.000000  \n",
       "25%            0.000000  \n",
       "50%            0.000000  \n",
       "75%            0.000000  \n",
       "max            1.000000  \n",
       "\n",
       "[8 rows x 41 columns]"
      ]
     },
     "execution_count": 5,
     "metadata": {},
     "output_type": "execute_result"
    }
   ],
   "source": [
    "# the columns and of int type and summary\n",
    "\n",
    "print(\"Of the 122 The no. of numeric columns\",len(train_df.select_dtypes(include=['int64','float64']).columns))\n",
    "train_df.select_dtypes(include=['int64']).describe()"
   ]
  },
  {
   "cell_type": "code",
   "execution_count": 6,
   "metadata": {},
   "outputs": [
    {
     "name": "stdout",
     "output_type": "stream",
     "text": [
      "Of the 122 The no. of categorical columns 16\n"
     ]
    },
    {
     "data": {
      "text/html": [
       "<div>\n",
       "<style scoped>\n",
       "    .dataframe tbody tr th:only-of-type {\n",
       "        vertical-align: middle;\n",
       "    }\n",
       "\n",
       "    .dataframe tbody tr th {\n",
       "        vertical-align: top;\n",
       "    }\n",
       "\n",
       "    .dataframe thead th {\n",
       "        text-align: right;\n",
       "    }\n",
       "</style>\n",
       "<table border=\"1\" class=\"dataframe\">\n",
       "  <thead>\n",
       "    <tr style=\"text-align: right;\">\n",
       "      <th></th>\n",
       "      <th>NAME_CONTRACT_TYPE</th>\n",
       "      <th>CODE_GENDER</th>\n",
       "      <th>FLAG_OWN_CAR</th>\n",
       "      <th>FLAG_OWN_REALTY</th>\n",
       "      <th>NAME_TYPE_SUITE</th>\n",
       "      <th>NAME_INCOME_TYPE</th>\n",
       "      <th>NAME_EDUCATION_TYPE</th>\n",
       "      <th>NAME_FAMILY_STATUS</th>\n",
       "      <th>NAME_HOUSING_TYPE</th>\n",
       "      <th>OCCUPATION_TYPE</th>\n",
       "      <th>WEEKDAY_APPR_PROCESS_START</th>\n",
       "      <th>ORGANIZATION_TYPE</th>\n",
       "      <th>FONDKAPREMONT_MODE</th>\n",
       "      <th>HOUSETYPE_MODE</th>\n",
       "      <th>WALLSMATERIAL_MODE</th>\n",
       "      <th>EMERGENCYSTATE_MODE</th>\n",
       "    </tr>\n",
       "  </thead>\n",
       "  <tbody>\n",
       "    <tr>\n",
       "      <th>count</th>\n",
       "      <td>307511</td>\n",
       "      <td>307511</td>\n",
       "      <td>307511</td>\n",
       "      <td>307511</td>\n",
       "      <td>306219</td>\n",
       "      <td>307511</td>\n",
       "      <td>307511</td>\n",
       "      <td>307511</td>\n",
       "      <td>307511</td>\n",
       "      <td>211120</td>\n",
       "      <td>307511</td>\n",
       "      <td>307511</td>\n",
       "      <td>97216</td>\n",
       "      <td>153214</td>\n",
       "      <td>151170</td>\n",
       "      <td>161756</td>\n",
       "    </tr>\n",
       "    <tr>\n",
       "      <th>unique</th>\n",
       "      <td>2</td>\n",
       "      <td>3</td>\n",
       "      <td>2</td>\n",
       "      <td>2</td>\n",
       "      <td>7</td>\n",
       "      <td>8</td>\n",
       "      <td>5</td>\n",
       "      <td>6</td>\n",
       "      <td>6</td>\n",
       "      <td>18</td>\n",
       "      <td>7</td>\n",
       "      <td>58</td>\n",
       "      <td>4</td>\n",
       "      <td>3</td>\n",
       "      <td>7</td>\n",
       "      <td>2</td>\n",
       "    </tr>\n",
       "    <tr>\n",
       "      <th>top</th>\n",
       "      <td>Cash loans</td>\n",
       "      <td>F</td>\n",
       "      <td>N</td>\n",
       "      <td>Y</td>\n",
       "      <td>Unaccompanied</td>\n",
       "      <td>Working</td>\n",
       "      <td>Secondary / secondary special</td>\n",
       "      <td>Married</td>\n",
       "      <td>House / apartment</td>\n",
       "      <td>Laborers</td>\n",
       "      <td>TUESDAY</td>\n",
       "      <td>Business Entity Type 3</td>\n",
       "      <td>reg oper account</td>\n",
       "      <td>block of flats</td>\n",
       "      <td>Panel</td>\n",
       "      <td>No</td>\n",
       "    </tr>\n",
       "    <tr>\n",
       "      <th>freq</th>\n",
       "      <td>278232</td>\n",
       "      <td>202448</td>\n",
       "      <td>202924</td>\n",
       "      <td>213312</td>\n",
       "      <td>248526</td>\n",
       "      <td>158774</td>\n",
       "      <td>218391</td>\n",
       "      <td>196432</td>\n",
       "      <td>272868</td>\n",
       "      <td>55186</td>\n",
       "      <td>53901</td>\n",
       "      <td>67992</td>\n",
       "      <td>73830</td>\n",
       "      <td>150503</td>\n",
       "      <td>66040</td>\n",
       "      <td>159428</td>\n",
       "    </tr>\n",
       "  </tbody>\n",
       "</table>\n",
       "</div>"
      ],
      "text/plain": [
       "       NAME_CONTRACT_TYPE CODE_GENDER FLAG_OWN_CAR FLAG_OWN_REALTY  \\\n",
       "count              307511      307511       307511          307511   \n",
       "unique                  2           3            2               2   \n",
       "top            Cash loans           F            N               Y   \n",
       "freq               278232      202448       202924          213312   \n",
       "\n",
       "       NAME_TYPE_SUITE NAME_INCOME_TYPE            NAME_EDUCATION_TYPE  \\\n",
       "count           306219           307511                         307511   \n",
       "unique               7                8                              5   \n",
       "top      Unaccompanied          Working  Secondary / secondary special   \n",
       "freq            248526           158774                         218391   \n",
       "\n",
       "       NAME_FAMILY_STATUS  NAME_HOUSING_TYPE OCCUPATION_TYPE  \\\n",
       "count              307511             307511          211120   \n",
       "unique                  6                  6              18   \n",
       "top               Married  House / apartment        Laborers   \n",
       "freq               196432             272868           55186   \n",
       "\n",
       "       WEEKDAY_APPR_PROCESS_START       ORGANIZATION_TYPE FONDKAPREMONT_MODE  \\\n",
       "count                      307511                  307511              97216   \n",
       "unique                          7                      58                  4   \n",
       "top                       TUESDAY  Business Entity Type 3   reg oper account   \n",
       "freq                        53901                   67992              73830   \n",
       "\n",
       "        HOUSETYPE_MODE WALLSMATERIAL_MODE EMERGENCYSTATE_MODE  \n",
       "count           153214             151170              161756  \n",
       "unique               3                  7                   2  \n",
       "top     block of flats              Panel                  No  \n",
       "freq            150503              66040              159428  "
      ]
     },
     "execution_count": 6,
     "metadata": {},
     "output_type": "execute_result"
    }
   ],
   "source": [
    "print(\"Of the 122 The no. of categorical columns\",len(train_df.select_dtypes(include=['object']).columns))\n",
    "train_df.select_dtypes(include=['object']).describe()"
   ]
  },
  {
   "cell_type": "code",
   "execution_count": 7,
   "metadata": {},
   "outputs": [
    {
     "name": "stdout",
     "output_type": "stream",
     "text": [
      "TARGET [1, 0]\n",
      "NAME_CONTRACT_TYPE ['Cash loans', 'Revolving loans']\n",
      "FLAG_OWN_CAR ['N', 'Y']\n",
      "FLAG_OWN_REALTY ['Y', 'N']\n",
      "FLAG_MOBIL [1, 0]\n",
      "FLAG_EMP_PHONE [1, 0]\n",
      "FLAG_WORK_PHONE [0, 1]\n",
      "FLAG_CONT_MOBILE [1, 0]\n",
      "FLAG_PHONE [1, 0]\n",
      "FLAG_EMAIL [0, 1]\n",
      "REG_REGION_NOT_LIVE_REGION [0, 1]\n",
      "REG_REGION_NOT_WORK_REGION [0, 1]\n",
      "LIVE_REGION_NOT_WORK_REGION [0, 1]\n",
      "REG_CITY_NOT_LIVE_CITY [0, 1]\n",
      "REG_CITY_NOT_WORK_CITY [0, 1]\n",
      "LIVE_CITY_NOT_WORK_CITY [0, 1]\n",
      "FLAG_DOCUMENT_2 [0, 1]\n",
      "FLAG_DOCUMENT_3 [1, 0]\n",
      "FLAG_DOCUMENT_4 [0, 1]\n",
      "FLAG_DOCUMENT_5 [0, 1]\n",
      "FLAG_DOCUMENT_6 [0, 1]\n",
      "FLAG_DOCUMENT_7 [0, 1]\n",
      "FLAG_DOCUMENT_8 [0, 1]\n",
      "FLAG_DOCUMENT_9 [0, 1]\n",
      "FLAG_DOCUMENT_10 [0, 1]\n",
      "FLAG_DOCUMENT_11 [0, 1]\n",
      "FLAG_DOCUMENT_12 [0, 1]\n",
      "FLAG_DOCUMENT_13 [0, 1]\n",
      "FLAG_DOCUMENT_14 [0, 1]\n",
      "FLAG_DOCUMENT_15 [0, 1]\n",
      "FLAG_DOCUMENT_16 [0, 1]\n",
      "FLAG_DOCUMENT_17 [0, 1]\n",
      "FLAG_DOCUMENT_18 [0, 1]\n",
      "FLAG_DOCUMENT_19 [0, 1]\n",
      "FLAG_DOCUMENT_20 [0, 1]\n",
      "FLAG_DOCUMENT_21 [0, 1]\n"
     ]
    }
   ],
   "source": [
    "cols=train_df.columns.tolist()\n",
    "bi=[]\n",
    "for i in cols:\n",
    "    num_uniq=len(train_df[i].unique().tolist())\n",
    "    if num_uniq==2:\n",
    "        print(i,train_df[i].unique().tolist())\n",
    "        bi.append(i)"
   ]
  },
  {
   "cell_type": "code",
   "execution_count": 8,
   "metadata": {},
   "outputs": [
    {
     "name": "stdout",
     "output_type": "stream",
     "text": [
      "CODE_GENDER ['M', 'F', 'XNA'] \n",
      "\n",
      "NAME_TYPE_SUITE ['Unaccompanied', 'Family', 'Spouse, partner', 'Children', 'Other_A', nan, 'Other_B', 'Group of people'] \n",
      "\n",
      "NAME_INCOME_TYPE ['Working', 'State servant', 'Commercial associate', 'Pensioner', 'Unemployed', 'Student', 'Businessman', 'Maternity leave'] \n",
      "\n",
      "NAME_EDUCATION_TYPE ['Secondary / secondary special', 'Higher education', 'Incomplete higher', 'Lower secondary', 'Academic degree'] \n",
      "\n",
      "NAME_FAMILY_STATUS ['Single / not married', 'Married', 'Civil marriage', 'Widow', 'Separated', 'Unknown'] \n",
      "\n",
      "NAME_HOUSING_TYPE ['House / apartment', 'Rented apartment', 'With parents', 'Municipal apartment', 'Office apartment', 'Co-op apartment'] \n",
      "\n",
      "OCCUPATION_TYPE ['Laborers', 'Core staff', 'Accountants', 'Managers', nan, 'Drivers', 'Sales staff', 'Cleaning staff', 'Cooking staff', 'Private service staff', 'Medicine staff', 'Security staff', 'High skill tech staff', 'Waiters/barmen staff', 'Low-skill Laborers', 'Realty agents', 'Secretaries', 'IT staff', 'HR staff'] \n",
      "\n",
      "WEEKDAY_APPR_PROCESS_START ['WEDNESDAY', 'MONDAY', 'THURSDAY', 'SUNDAY', 'SATURDAY', 'FRIDAY', 'TUESDAY'] \n",
      "\n",
      "ORGANIZATION_TYPE ['Business Entity Type 3', 'School', 'Government', 'Religion', 'Other', 'XNA', 'Electricity', 'Medicine', 'Business Entity Type 2', 'Self-employed', 'Transport: type 2', 'Construction', 'Housing', 'Kindergarten', 'Trade: type 7', 'Industry: type 11', 'Military', 'Services', 'Security Ministries', 'Transport: type 4', 'Industry: type 1', 'Emergency', 'Security', 'Trade: type 2', 'University', 'Transport: type 3', 'Police', 'Business Entity Type 1', 'Postal', 'Industry: type 4', 'Agriculture', 'Restaurant', 'Culture', 'Hotel', 'Industry: type 7', 'Trade: type 3', 'Industry: type 3', 'Bank', 'Industry: type 9', 'Insurance', 'Trade: type 6', 'Industry: type 2', 'Transport: type 1', 'Industry: type 12', 'Mobile', 'Trade: type 1', 'Industry: type 5', 'Industry: type 10', 'Legal Services', 'Advertising', 'Trade: type 5', 'Cleaning', 'Industry: type 13', 'Trade: type 4', 'Telecom', 'Industry: type 8', 'Realtor', 'Industry: type 6'] \n",
      "\n",
      "FONDKAPREMONT_MODE ['reg oper account', nan, 'org spec account', 'reg oper spec account', 'not specified'] \n",
      "\n",
      "HOUSETYPE_MODE ['block of flats', nan, 'terraced house', 'specific housing'] \n",
      "\n",
      "WALLSMATERIAL_MODE ['Stone, brick', 'Block', nan, 'Panel', 'Mixed', 'Wooden', 'Others', 'Monolithic'] \n",
      "\n",
      "EMERGENCYSTATE_MODE ['No', nan, 'Yes'] \n",
      "\n"
     ]
    }
   ],
   "source": [
    "cols2=train_df.select_dtypes(include=['object']).columns.tolist()\n",
    "Ser=[]\n",
    "for i in cols2:\n",
    "    num_uniq=len(train_df[i].unique().tolist())\n",
    "    if num_uniq>2:\n",
    "        print(i,train_df[i].unique().tolist(),'\\n')\n",
    "        Ser.append(i)"
   ]
  },
  {
   "cell_type": "markdown",
   "metadata": {},
   "source": [
    "There seem to be a lot of NANs that have to  treated lets check the columns with NANs in the dataframe given"
   ]
  },
  {
   "cell_type": "code",
   "execution_count": 9,
   "metadata": {},
   "outputs": [],
   "source": [
    "def missing_values(df):\n",
    "    check_df = pd.concat([df.isnull().sum(), 100 * df.isnull().sum() / len(df)], axis=1)\n",
    "    check_df.columns=['no_NANs','percentage_NANS']\n",
    "    return check_df\n",
    "\n",
    "check_df= missing_values(train_df)\n",
    "\n"
   ]
  },
  {
   "cell_type": "code",
   "execution_count": 10,
   "metadata": {},
   "outputs": [
    {
     "data": {
      "text/html": [
       "<div>\n",
       "<style scoped>\n",
       "    .dataframe tbody tr th:only-of-type {\n",
       "        vertical-align: middle;\n",
       "    }\n",
       "\n",
       "    .dataframe tbody tr th {\n",
       "        vertical-align: top;\n",
       "    }\n",
       "\n",
       "    .dataframe thead th {\n",
       "        text-align: right;\n",
       "    }\n",
       "</style>\n",
       "<table border=\"1\" class=\"dataframe\">\n",
       "  <thead>\n",
       "    <tr style=\"text-align: right;\">\n",
       "      <th></th>\n",
       "      <th>no_NANs</th>\n",
       "      <th>percentage_NANS</th>\n",
       "    </tr>\n",
       "  </thead>\n",
       "  <tbody>\n",
       "    <tr>\n",
       "      <th>DAYS_LAST_PHONE_CHANGE</th>\n",
       "      <td>1</td>\n",
       "      <td>0.000325</td>\n",
       "    </tr>\n",
       "    <tr>\n",
       "      <th>CNT_FAM_MEMBERS</th>\n",
       "      <td>2</td>\n",
       "      <td>0.000650</td>\n",
       "    </tr>\n",
       "    <tr>\n",
       "      <th>AMT_ANNUITY</th>\n",
       "      <td>12</td>\n",
       "      <td>0.003902</td>\n",
       "    </tr>\n",
       "    <tr>\n",
       "      <th>AMT_GOODS_PRICE</th>\n",
       "      <td>278</td>\n",
       "      <td>0.090403</td>\n",
       "    </tr>\n",
       "    <tr>\n",
       "      <th>EXT_SOURCE_2</th>\n",
       "      <td>660</td>\n",
       "      <td>0.214626</td>\n",
       "    </tr>\n",
       "    <tr>\n",
       "      <th>DEF_60_CNT_SOCIAL_CIRCLE</th>\n",
       "      <td>1021</td>\n",
       "      <td>0.332021</td>\n",
       "    </tr>\n",
       "    <tr>\n",
       "      <th>OBS_60_CNT_SOCIAL_CIRCLE</th>\n",
       "      <td>1021</td>\n",
       "      <td>0.332021</td>\n",
       "    </tr>\n",
       "    <tr>\n",
       "      <th>DEF_30_CNT_SOCIAL_CIRCLE</th>\n",
       "      <td>1021</td>\n",
       "      <td>0.332021</td>\n",
       "    </tr>\n",
       "    <tr>\n",
       "      <th>OBS_30_CNT_SOCIAL_CIRCLE</th>\n",
       "      <td>1021</td>\n",
       "      <td>0.332021</td>\n",
       "    </tr>\n",
       "    <tr>\n",
       "      <th>NAME_TYPE_SUITE</th>\n",
       "      <td>1292</td>\n",
       "      <td>0.420148</td>\n",
       "    </tr>\n",
       "    <tr>\n",
       "      <th>AMT_REQ_CREDIT_BUREAU_MON</th>\n",
       "      <td>41519</td>\n",
       "      <td>13.501631</td>\n",
       "    </tr>\n",
       "    <tr>\n",
       "      <th>AMT_REQ_CREDIT_BUREAU_WEEK</th>\n",
       "      <td>41519</td>\n",
       "      <td>13.501631</td>\n",
       "    </tr>\n",
       "    <tr>\n",
       "      <th>AMT_REQ_CREDIT_BUREAU_DAY</th>\n",
       "      <td>41519</td>\n",
       "      <td>13.501631</td>\n",
       "    </tr>\n",
       "    <tr>\n",
       "      <th>AMT_REQ_CREDIT_BUREAU_HOUR</th>\n",
       "      <td>41519</td>\n",
       "      <td>13.501631</td>\n",
       "    </tr>\n",
       "    <tr>\n",
       "      <th>AMT_REQ_CREDIT_BUREAU_QRT</th>\n",
       "      <td>41519</td>\n",
       "      <td>13.501631</td>\n",
       "    </tr>\n",
       "    <tr>\n",
       "      <th>AMT_REQ_CREDIT_BUREAU_YEAR</th>\n",
       "      <td>41519</td>\n",
       "      <td>13.501631</td>\n",
       "    </tr>\n",
       "    <tr>\n",
       "      <th>EXT_SOURCE_3</th>\n",
       "      <td>60965</td>\n",
       "      <td>19.825307</td>\n",
       "    </tr>\n",
       "    <tr>\n",
       "      <th>OCCUPATION_TYPE</th>\n",
       "      <td>96391</td>\n",
       "      <td>31.345545</td>\n",
       "    </tr>\n",
       "    <tr>\n",
       "      <th>EMERGENCYSTATE_MODE</th>\n",
       "      <td>145755</td>\n",
       "      <td>47.398304</td>\n",
       "    </tr>\n",
       "    <tr>\n",
       "      <th>TOTALAREA_MODE</th>\n",
       "      <td>148431</td>\n",
       "      <td>48.268517</td>\n",
       "    </tr>\n",
       "    <tr>\n",
       "      <th>YEARS_BEGINEXPLUATATION_AVG</th>\n",
       "      <td>150007</td>\n",
       "      <td>48.781019</td>\n",
       "    </tr>\n",
       "    <tr>\n",
       "      <th>YEARS_BEGINEXPLUATATION_MODE</th>\n",
       "      <td>150007</td>\n",
       "      <td>48.781019</td>\n",
       "    </tr>\n",
       "    <tr>\n",
       "      <th>YEARS_BEGINEXPLUATATION_MEDI</th>\n",
       "      <td>150007</td>\n",
       "      <td>48.781019</td>\n",
       "    </tr>\n",
       "    <tr>\n",
       "      <th>FLOORSMAX_AVG</th>\n",
       "      <td>153020</td>\n",
       "      <td>49.760822</td>\n",
       "    </tr>\n",
       "    <tr>\n",
       "      <th>FLOORSMAX_MEDI</th>\n",
       "      <td>153020</td>\n",
       "      <td>49.760822</td>\n",
       "    </tr>\n",
       "    <tr>\n",
       "      <th>FLOORSMAX_MODE</th>\n",
       "      <td>153020</td>\n",
       "      <td>49.760822</td>\n",
       "    </tr>\n",
       "    <tr>\n",
       "      <th>HOUSETYPE_MODE</th>\n",
       "      <td>154297</td>\n",
       "      <td>50.176091</td>\n",
       "    </tr>\n",
       "    <tr>\n",
       "      <th>LIVINGAREA_AVG</th>\n",
       "      <td>154350</td>\n",
       "      <td>50.193326</td>\n",
       "    </tr>\n",
       "    <tr>\n",
       "      <th>LIVINGAREA_MODE</th>\n",
       "      <td>154350</td>\n",
       "      <td>50.193326</td>\n",
       "    </tr>\n",
       "    <tr>\n",
       "      <th>LIVINGAREA_MEDI</th>\n",
       "      <td>154350</td>\n",
       "      <td>50.193326</td>\n",
       "    </tr>\n",
       "    <tr>\n",
       "      <th>...</th>\n",
       "      <td>...</td>\n",
       "      <td>...</td>\n",
       "    </tr>\n",
       "    <tr>\n",
       "      <th>ELEVATORS_AVG</th>\n",
       "      <td>163891</td>\n",
       "      <td>53.295980</td>\n",
       "    </tr>\n",
       "    <tr>\n",
       "      <th>ELEVATORS_MEDI</th>\n",
       "      <td>163891</td>\n",
       "      <td>53.295980</td>\n",
       "    </tr>\n",
       "    <tr>\n",
       "      <th>ELEVATORS_MODE</th>\n",
       "      <td>163891</td>\n",
       "      <td>53.295980</td>\n",
       "    </tr>\n",
       "    <tr>\n",
       "      <th>NONLIVINGAREA_MEDI</th>\n",
       "      <td>169682</td>\n",
       "      <td>55.179164</td>\n",
       "    </tr>\n",
       "    <tr>\n",
       "      <th>NONLIVINGAREA_MODE</th>\n",
       "      <td>169682</td>\n",
       "      <td>55.179164</td>\n",
       "    </tr>\n",
       "    <tr>\n",
       "      <th>NONLIVINGAREA_AVG</th>\n",
       "      <td>169682</td>\n",
       "      <td>55.179164</td>\n",
       "    </tr>\n",
       "    <tr>\n",
       "      <th>EXT_SOURCE_1</th>\n",
       "      <td>173378</td>\n",
       "      <td>56.381073</td>\n",
       "    </tr>\n",
       "    <tr>\n",
       "      <th>BASEMENTAREA_MEDI</th>\n",
       "      <td>179943</td>\n",
       "      <td>58.515956</td>\n",
       "    </tr>\n",
       "    <tr>\n",
       "      <th>BASEMENTAREA_AVG</th>\n",
       "      <td>179943</td>\n",
       "      <td>58.515956</td>\n",
       "    </tr>\n",
       "    <tr>\n",
       "      <th>BASEMENTAREA_MODE</th>\n",
       "      <td>179943</td>\n",
       "      <td>58.515956</td>\n",
       "    </tr>\n",
       "    <tr>\n",
       "      <th>LANDAREA_MODE</th>\n",
       "      <td>182590</td>\n",
       "      <td>59.376738</td>\n",
       "    </tr>\n",
       "    <tr>\n",
       "      <th>LANDAREA_MEDI</th>\n",
       "      <td>182590</td>\n",
       "      <td>59.376738</td>\n",
       "    </tr>\n",
       "    <tr>\n",
       "      <th>LANDAREA_AVG</th>\n",
       "      <td>182590</td>\n",
       "      <td>59.376738</td>\n",
       "    </tr>\n",
       "    <tr>\n",
       "      <th>OWN_CAR_AGE</th>\n",
       "      <td>202929</td>\n",
       "      <td>65.990810</td>\n",
       "    </tr>\n",
       "    <tr>\n",
       "      <th>YEARS_BUILD_MODE</th>\n",
       "      <td>204488</td>\n",
       "      <td>66.497784</td>\n",
       "    </tr>\n",
       "    <tr>\n",
       "      <th>YEARS_BUILD_MEDI</th>\n",
       "      <td>204488</td>\n",
       "      <td>66.497784</td>\n",
       "    </tr>\n",
       "    <tr>\n",
       "      <th>YEARS_BUILD_AVG</th>\n",
       "      <td>204488</td>\n",
       "      <td>66.497784</td>\n",
       "    </tr>\n",
       "    <tr>\n",
       "      <th>FLOORSMIN_MODE</th>\n",
       "      <td>208642</td>\n",
       "      <td>67.848630</td>\n",
       "    </tr>\n",
       "    <tr>\n",
       "      <th>FLOORSMIN_MEDI</th>\n",
       "      <td>208642</td>\n",
       "      <td>67.848630</td>\n",
       "    </tr>\n",
       "    <tr>\n",
       "      <th>FLOORSMIN_AVG</th>\n",
       "      <td>208642</td>\n",
       "      <td>67.848630</td>\n",
       "    </tr>\n",
       "    <tr>\n",
       "      <th>LIVINGAPARTMENTS_MODE</th>\n",
       "      <td>210199</td>\n",
       "      <td>68.354953</td>\n",
       "    </tr>\n",
       "    <tr>\n",
       "      <th>LIVINGAPARTMENTS_MEDI</th>\n",
       "      <td>210199</td>\n",
       "      <td>68.354953</td>\n",
       "    </tr>\n",
       "    <tr>\n",
       "      <th>LIVINGAPARTMENTS_AVG</th>\n",
       "      <td>210199</td>\n",
       "      <td>68.354953</td>\n",
       "    </tr>\n",
       "    <tr>\n",
       "      <th>FONDKAPREMONT_MODE</th>\n",
       "      <td>210295</td>\n",
       "      <td>68.386172</td>\n",
       "    </tr>\n",
       "    <tr>\n",
       "      <th>NONLIVINGAPARTMENTS_MEDI</th>\n",
       "      <td>213514</td>\n",
       "      <td>69.432963</td>\n",
       "    </tr>\n",
       "    <tr>\n",
       "      <th>NONLIVINGAPARTMENTS_MODE</th>\n",
       "      <td>213514</td>\n",
       "      <td>69.432963</td>\n",
       "    </tr>\n",
       "    <tr>\n",
       "      <th>NONLIVINGAPARTMENTS_AVG</th>\n",
       "      <td>213514</td>\n",
       "      <td>69.432963</td>\n",
       "    </tr>\n",
       "    <tr>\n",
       "      <th>COMMONAREA_MODE</th>\n",
       "      <td>214865</td>\n",
       "      <td>69.872297</td>\n",
       "    </tr>\n",
       "    <tr>\n",
       "      <th>COMMONAREA_AVG</th>\n",
       "      <td>214865</td>\n",
       "      <td>69.872297</td>\n",
       "    </tr>\n",
       "    <tr>\n",
       "      <th>COMMONAREA_MEDI</th>\n",
       "      <td>214865</td>\n",
       "      <td>69.872297</td>\n",
       "    </tr>\n",
       "  </tbody>\n",
       "</table>\n",
       "<p>67 rows × 2 columns</p>\n",
       "</div>"
      ],
      "text/plain": [
       "                              no_NANs  percentage_NANS\n",
       "DAYS_LAST_PHONE_CHANGE              1         0.000325\n",
       "CNT_FAM_MEMBERS                     2         0.000650\n",
       "AMT_ANNUITY                        12         0.003902\n",
       "AMT_GOODS_PRICE                   278         0.090403\n",
       "EXT_SOURCE_2                      660         0.214626\n",
       "DEF_60_CNT_SOCIAL_CIRCLE         1021         0.332021\n",
       "OBS_60_CNT_SOCIAL_CIRCLE         1021         0.332021\n",
       "DEF_30_CNT_SOCIAL_CIRCLE         1021         0.332021\n",
       "OBS_30_CNT_SOCIAL_CIRCLE         1021         0.332021\n",
       "NAME_TYPE_SUITE                  1292         0.420148\n",
       "AMT_REQ_CREDIT_BUREAU_MON       41519        13.501631\n",
       "AMT_REQ_CREDIT_BUREAU_WEEK      41519        13.501631\n",
       "AMT_REQ_CREDIT_BUREAU_DAY       41519        13.501631\n",
       "AMT_REQ_CREDIT_BUREAU_HOUR      41519        13.501631\n",
       "AMT_REQ_CREDIT_BUREAU_QRT       41519        13.501631\n",
       "AMT_REQ_CREDIT_BUREAU_YEAR      41519        13.501631\n",
       "EXT_SOURCE_3                    60965        19.825307\n",
       "OCCUPATION_TYPE                 96391        31.345545\n",
       "EMERGENCYSTATE_MODE            145755        47.398304\n",
       "TOTALAREA_MODE                 148431        48.268517\n",
       "YEARS_BEGINEXPLUATATION_AVG    150007        48.781019\n",
       "YEARS_BEGINEXPLUATATION_MODE   150007        48.781019\n",
       "YEARS_BEGINEXPLUATATION_MEDI   150007        48.781019\n",
       "FLOORSMAX_AVG                  153020        49.760822\n",
       "FLOORSMAX_MEDI                 153020        49.760822\n",
       "FLOORSMAX_MODE                 153020        49.760822\n",
       "HOUSETYPE_MODE                 154297        50.176091\n",
       "LIVINGAREA_AVG                 154350        50.193326\n",
       "LIVINGAREA_MODE                154350        50.193326\n",
       "LIVINGAREA_MEDI                154350        50.193326\n",
       "...                               ...              ...\n",
       "ELEVATORS_AVG                  163891        53.295980\n",
       "ELEVATORS_MEDI                 163891        53.295980\n",
       "ELEVATORS_MODE                 163891        53.295980\n",
       "NONLIVINGAREA_MEDI             169682        55.179164\n",
       "NONLIVINGAREA_MODE             169682        55.179164\n",
       "NONLIVINGAREA_AVG              169682        55.179164\n",
       "EXT_SOURCE_1                   173378        56.381073\n",
       "BASEMENTAREA_MEDI              179943        58.515956\n",
       "BASEMENTAREA_AVG               179943        58.515956\n",
       "BASEMENTAREA_MODE              179943        58.515956\n",
       "LANDAREA_MODE                  182590        59.376738\n",
       "LANDAREA_MEDI                  182590        59.376738\n",
       "LANDAREA_AVG                   182590        59.376738\n",
       "OWN_CAR_AGE                    202929        65.990810\n",
       "YEARS_BUILD_MODE               204488        66.497784\n",
       "YEARS_BUILD_MEDI               204488        66.497784\n",
       "YEARS_BUILD_AVG                204488        66.497784\n",
       "FLOORSMIN_MODE                 208642        67.848630\n",
       "FLOORSMIN_MEDI                 208642        67.848630\n",
       "FLOORSMIN_AVG                  208642        67.848630\n",
       "LIVINGAPARTMENTS_MODE          210199        68.354953\n",
       "LIVINGAPARTMENTS_MEDI          210199        68.354953\n",
       "LIVINGAPARTMENTS_AVG           210199        68.354953\n",
       "FONDKAPREMONT_MODE             210295        68.386172\n",
       "NONLIVINGAPARTMENTS_MEDI       213514        69.432963\n",
       "NONLIVINGAPARTMENTS_MODE       213514        69.432963\n",
       "NONLIVINGAPARTMENTS_AVG        213514        69.432963\n",
       "COMMONAREA_MODE                214865        69.872297\n",
       "COMMONAREA_AVG                 214865        69.872297\n",
       "COMMONAREA_MEDI                214865        69.872297\n",
       "\n",
       "[67 rows x 2 columns]"
      ]
     },
     "execution_count": 10,
     "metadata": {},
     "output_type": "execute_result"
    }
   ],
   "source": [
    "check_df=check_df[check_df.no_NANs>0]\n",
    "check_df.sort_values(by='percentage_NANS', inplace=True)\n",
    "\n",
    "check_df"
   ]
  },
  {
   "cell_type": "markdown",
   "metadata": {},
   "source": [
    "* Less than 1% , the instances can be removed from the data. \n",
    "\n",
    "* The columns between 13- 30% can have the data replaced by median or mode \n",
    "\n"
   ]
  },
  {
   "cell_type": "code",
   "execution_count": 11,
   "metadata": {},
   "outputs": [],
   "source": [
    "rmna_cols = check_df.index[check_df.percentage_NANS<1].tolist()\n",
    "\n",
    "for i in rmna_cols:\n",
    "    train_df = train_df[pd.notnull(train_df[i])]\n",
    "\n"
   ]
  },
  {
   "cell_type": "code",
   "execution_count": 12,
   "metadata": {},
   "outputs": [
    {
     "name": "stdout",
     "output_type": "stream",
     "text": [
      "The no. of columns with missing values now is:  57 \n",
      " The minimum percentage of NANs in a column: 13.498789942567424 \n",
      " The maximum percentage of NANs is: 69.9009296262121\n"
     ]
    }
   ],
   "source": [
    "check_df2= missing_values(train_df)\n",
    "check_df2=check_df2[check_df2.no_NANs>0]\n",
    "check_df2.sort_values(by='percentage_NANS', inplace=True)\n",
    "\n",
    "print(\"The no. of columns with missing values now is: \",len(check_df2),\\\n",
    "      \"\\n The minimum percentage of NANs in a column:\",check_df2.percentage_NANS.min(),\\\n",
    "     \"\\n The maximum percentage of NANs is:\",check_df2.percentage_NANS.max())"
   ]
  },
  {
   "cell_type": "code",
   "execution_count": 13,
   "metadata": {},
   "outputs": [
    {
     "data": {
      "text/plain": [
       "count    263423.000000\n",
       "mean          0.267782\n",
       "std           0.915330\n",
       "min           0.000000\n",
       "25%           0.000000\n",
       "50%           0.000000\n",
       "75%           0.000000\n",
       "max          27.000000\n",
       "Name: AMT_REQ_CREDIT_BUREAU_MON, dtype: float64"
      ]
     },
     "execution_count": 13,
     "metadata": {},
     "output_type": "execute_result"
    }
   ],
   "source": [
    "train_df.AMT_REQ_CREDIT_BUREAU_MON.describe()"
   ]
  },
  {
   "cell_type": "code",
   "execution_count": 14,
   "metadata": {},
   "outputs": [
    {
     "data": {
      "image/png": "[encoded data removed]",
      "text/plain": [
       "<Figure size 432x288 with 1 Axes>"
      ]
     },
     "metadata": {},
     "output_type": "display_data"
    }
   ],
   "source": [
    "train_df.AMT_REQ_CREDIT_BUREAU_MON.hist()\n",
    "plt.title(\"The distribution of AMT_REQ_CREDIT_BUREAU_MO column\")\n",
    "plt.show()"
   ]
  },
  {
   "cell_type": "code",
   "execution_count": 15,
   "metadata": {},
   "outputs": [],
   "source": [
    "# train_df.AMT_REQ_CREDIT_BUREAU_MON.sort_values(ascending=False)"
   ]
  },
  {
   "cell_type": "code",
   "execution_count": 16,
   "metadata": {},
   "outputs": [
    {
     "data": {
      "text/plain": [
       "<matplotlib.axes._subplots.AxesSubplot at 0x1e5800a5da0>"
      ]
     },
     "execution_count": 16,
     "metadata": {},
     "output_type": "execute_result"
    },
    {
     "data": {
      "image/png": "[encoded data removed]",
      "text/plain": [
       "<Figure size 432x288 with 1 Axes>"
      ]
     },
     "metadata": {},
     "output_type": "display_data"
    }
   ],
   "source": [
    "train_df.boxplot(['AMT_REQ_CREDIT_BUREAU_MON'])"
   ]
  },
  {
   "cell_type": "code",
   "execution_count": 17,
   "metadata": {},
   "outputs": [
    {
     "data": {
      "image/png": "[encoded data removed]",
      "text/plain": [
       "<Figure size 432x288 with 1 Axes>"
      ]
     },
     "metadata": {},
     "output_type": "display_data"
    }
   ],
   "source": [
    "train_df.boxplot(['AMT_REQ_CREDIT_BUREAU_HOUR','AMT_REQ_CREDIT_BUREAU_DAY','AMT_REQ_CREDIT_BUREAU_MON','AMT_REQ_CREDIT_BUREAU_YEAR'])\n",
    "plt.xlabel('columns')\n",
    "plt.xticks( fontsize = 3)\n",
    "plt.show()\n"
   ]
  },
  {
   "cell_type": "code",
   "execution_count": 18,
   "metadata": {},
   "outputs": [],
   "source": [
    "col_df= train_df[['AMT_REQ_CREDIT_BUREAU_DAY','AMT_REQ_CREDIT_BUREAU_MON','AMT_REQ_CREDIT_BUREAU_YEAR']]\n",
    "# all columns are NaN for the same people\n",
    "#col_df[pd.isnull(col_df).any(axis=1)]"
   ]
  },
  {
   "cell_type": "markdown",
   "metadata": {},
   "source": [
    "Number of enquiries to Credit Bureau about the client one hour before application is seen in AMT_REQ_CREDIT_BUREAU_hour and so on for the rest of the columns, they all can be reduced to one column for convinience and therefore  AMT_REQ_CREDIT_BUREAU_YEAR is selected and others are dropped.\n",
    "The NaNs in the selected column are replaced by the Median"
   ]
  },
  {
   "cell_type": "code",
   "execution_count": 19,
   "metadata": {},
   "outputs": [],
   "source": [
    "train_df.drop(['AMT_REQ_CREDIT_BUREAU_DAY','AMT_REQ_CREDIT_BUREAU_MON','AMT_REQ_CREDIT_BUREAU_HOUR','AMT_REQ_CREDIT_BUREAU_WEEK','AMT_REQ_CREDIT_BUREAU_QRT'], axis=1, inplace=True)"
   ]
  },
  {
   "cell_type": "code",
   "execution_count": 20,
   "metadata": {},
   "outputs": [],
   "source": [
    "med=train_df['AMT_REQ_CREDIT_BUREAU_YEAR'].median()"
   ]
  },
  {
   "cell_type": "code",
   "execution_count": 21,
   "metadata": {},
   "outputs": [],
   "source": [
    "train_df['AMT_REQ_CREDIT_BUREAU_YEAR'].fillna(med, inplace=True)"
   ]
  },
  {
   "cell_type": "code",
   "execution_count": 22,
   "metadata": {},
   "outputs": [
    {
     "name": "stdout",
     "output_type": "stream",
     "text": [
      "The no. of columns with missing values now is:  51 \n",
      " The minimum percentage of NANs in a column: 19.78484948987131 \n",
      " The maximum percentage of NANs is: 69.9009296262121\n"
     ]
    }
   ],
   "source": [
    "check_df3= missing_values(train_df)\n",
    "check_df3=check_df3[check_df3.no_NANs>0]\n",
    "check_df3.sort_values(by='percentage_NANS', inplace=True)\n",
    "\n",
    "print(\"The no. of columns with missing values now is: \",len(check_df3),\\\n",
    "      \"\\n The minimum percentage of NANs in a column:\",check_df3.percentage_NANS.min(),\\\n",
    "     \"\\n The maximum percentage of NANs is:\",check_df3.percentage_NANS.max())"
   ]
  },
  {
   "cell_type": "code",
   "execution_count": 23,
   "metadata": {},
   "outputs": [
    {
     "data": {
      "text/plain": [
       "<matplotlib.axes._subplots.AxesSubplot at 0x1e58007a320>"
      ]
     },
     "execution_count": 23,
     "metadata": {},
     "output_type": "execute_result"
    },
    {
     "data": {
      "image/png": "[encoded data removed]",
      "text/plain": [
       "<Figure size 432x288 with 1 Axes>"
      ]
     },
     "metadata": {},
     "output_type": "display_data"
    }
   ],
   "source": [
    "#EXT_SOURCE_3\n",
    "\n",
    "train_df.boxplot(['EXT_SOURCE_3'])"
   ]
  },
  {
   "cell_type": "code",
   "execution_count": 24,
   "metadata": {},
   "outputs": [
    {
     "data": {
      "image/png": "[encoded data removed]",
      "text/plain": [
       "<Figure size 432x288 with 1 Axes>"
      ]
     },
     "metadata": {},
     "output_type": "display_data"
    },
    {
     "name": "stdout",
     "output_type": "stream",
     "text": [
      "ratio of 1's to total: 0.08099996387888261\n"
     ]
    }
   ],
   "source": [
    "# RARE EVENT MODELLING\n",
    "sns.countplot(train_df['TARGET'],label=\"Count\")\n",
    "plt.show()\n",
    "print(\"ratio of 1's to total:\",len(train_df[train_df['TARGET']==1])/len(train_df['TARGET']))"
   ]
  },
  {
   "cell_type": "code",
   "execution_count": 25,
   "metadata": {},
   "outputs": [
    {
     "data": {
      "image/png": "[encoded data removed]",
      "text/plain": [
       "<Figure size 432x288 with 1 Axes>"
      ]
     },
     "metadata": {},
     "output_type": "display_data"
    },
    {
     "name": "stdout",
     "output_type": "stream",
     "text": [
      "ratio of 1's to total: 0.09352541866525037\n"
     ]
    }
   ],
   "source": [
    "check_na_df= train_df[train_df['EXT_SOURCE_3'].isnull()==True]\n",
    "sns.countplot(check_na_df['TARGET'],label=\"Count\")\n",
    "plt.show()\n",
    "\n",
    "print(\"ratio of 1's to total:\",len(check_na_df[check_na_df['TARGET']==1])/len(check_na_df['TARGET']))"
   ]
  },
  {
   "cell_type": "code",
   "execution_count": 26,
   "metadata": {},
   "outputs": [
    {
     "data": {
      "image/png": "[encoded data removed]",
      "text/plain": [
       "<Figure size 432x288 with 1 Axes>"
      ]
     },
     "metadata": {},
     "output_type": "display_data"
    },
    {
     "name": "stdout",
     "output_type": "stream",
     "text": [
      "ratio of 1's to total: 0.05269922879177378\n"
     ]
    }
   ],
   "source": [
    "med_ext3= train_df['EXT_SOURCE_3'].median()\n",
    "\n",
    "check_median_df= train_df[train_df['EXT_SOURCE_3']==med_ext3]\n",
    "sns.countplot(check_median_df['TARGET'],label=\"Count\")\n",
    "plt.show()\n",
    "print(\"ratio of 1's to total:\",len(check_median_df[check_median_df['TARGET']==1])/len(check_median_df['TARGET']))\n"
   ]
  },
  {
   "cell_type": "code",
   "execution_count": 27,
   "metadata": {},
   "outputs": [],
   "source": [
    "train_df['EXT_SOURCE_3'].fillna(med_ext3, inplace=True)"
   ]
  },
  {
   "cell_type": "code",
   "execution_count": 28,
   "metadata": {},
   "outputs": [
    {
     "data": {
      "text/plain": [
       "<matplotlib.axes._subplots.AxesSubplot at 0x1e58013c908>"
      ]
     },
     "execution_count": 28,
     "metadata": {},
     "output_type": "execute_result"
    },
    {
     "data": {
      "image/png": "[encoded data removed]",
      "text/plain": [
       "<Figure size 360x432 with 1 Axes>"
      ]
     },
     "metadata": {},
     "output_type": "display_data"
    }
   ],
   "source": [
    "train_df.boxplot('EXT_SOURCE_3','TARGET',rot = 30,figsize=(5,6))"
   ]
  },
  {
   "cell_type": "code",
   "execution_count": 29,
   "metadata": {},
   "outputs": [
    {
     "name": "stdout",
     "output_type": "stream",
     "text": [
      "The no. of columns with missing values now is:  50 \n",
      " The minimum percentage of NANs in a column: 31.33835307407128 \n",
      " The maximum percentage of NANs is: 69.9009296262121\n"
     ]
    }
   ],
   "source": [
    "check_df4= missing_values(train_df)\n",
    "check_df4=check_df4[check_df4.no_NANs>0]\n",
    "check_df4.sort_values(by='percentage_NANS', inplace=True)\n",
    "\n",
    "print(\"The no. of columns with missing values now is: \",len(check_df4),\\\n",
    "      \"\\n The minimum percentage of NANs in a column:\",check_df4.percentage_NANS.min(),\\\n",
    "     \"\\n The maximum percentage of NANs is:\",check_df4.percentage_NANS.max())"
   ]
  },
  {
   "cell_type": "code",
   "execution_count": 30,
   "metadata": {},
   "outputs": [],
   "source": [
    "na_cols=check_df4.index.values.tolist()\n",
    "# na_cols"
   ]
  },
  {
   "cell_type": "code",
   "execution_count": 31,
   "metadata": {},
   "outputs": [
    {
     "data": {
      "image/png": "[encoded data removed]",
      "text/plain": [
       "<Figure size 842.4x595.44 with 1 Axes>"
      ]
     },
     "metadata": {},
     "output_type": "display_data"
    }
   ],
   "source": [
    "fig, ax = plt.subplots()\n",
    "sns.countplot(train_df['OCCUPATION_TYPE'],label=\"Count\")\n",
    "fig.set_size_inches(11.7, 8.27)\n",
    "plt.xticks( fontsize = 5)\n",
    "plt.show()"
   ]
  },
  {
   "cell_type": "code",
   "execution_count": 32,
   "metadata": {},
   "outputs": [
    {
     "data": {
      "image/png": "[encoded data removed]",
      "text/plain": [
       "<Figure size 432x1944 with 18 Axes>"
      ]
     },
     "metadata": {},
     "output_type": "display_data"
    }
   ],
   "source": [
    "g = sns.catplot(x=\"AMT_INCOME_TOTAL\", y=\"TARGET\", row=\"OCCUPATION_TYPE\",\n",
    "                kind=\"box\", orient=\"h\", height=1.5, aspect=4,\n",
    "                data=train_df)\n",
    "\n",
    "g.set(xscale=\"log\")\n",
    "plt.show()"
   ]
  },
  {
   "cell_type": "code",
   "execution_count": 33,
   "metadata": {},
   "outputs": [
    {
     "data": {
      "text/html": [
       "<div>\n",
       "<style scoped>\n",
       "    .dataframe tbody tr th:only-of-type {\n",
       "        vertical-align: middle;\n",
       "    }\n",
       "\n",
       "    .dataframe tbody tr th {\n",
       "        vertical-align: top;\n",
       "    }\n",
       "\n",
       "    .dataframe thead th {\n",
       "        text-align: right;\n",
       "    }\n",
       "</style>\n",
       "<table border=\"1\" class=\"dataframe\">\n",
       "  <thead>\n",
       "    <tr style=\"text-align: right;\">\n",
       "      <th></th>\n",
       "      <th>OCCUPATION_TYPE_total</th>\n",
       "      <th>TARGETis1</th>\n",
       "      <th>Percentage_occ</th>\n",
       "      <th>Percentage_default</th>\n",
       "    </tr>\n",
       "    <tr>\n",
       "      <th>OCCUPATION_TYPE</th>\n",
       "      <th></th>\n",
       "      <th></th>\n",
       "      <th></th>\n",
       "      <th></th>\n",
       "    </tr>\n",
       "  </thead>\n",
       "  <tbody>\n",
       "    <tr>\n",
       "      <th>Accountants</th>\n",
       "      <td>9698</td>\n",
       "      <td>472</td>\n",
       "      <td>4.638061</td>\n",
       "      <td>4.866983</td>\n",
       "    </tr>\n",
       "    <tr>\n",
       "      <th>Cleaning staff</th>\n",
       "      <td>4615</td>\n",
       "      <td>445</td>\n",
       "      <td>2.207120</td>\n",
       "      <td>9.642470</td>\n",
       "    </tr>\n",
       "    <tr>\n",
       "      <th>Cooking staff</th>\n",
       "      <td>5898</td>\n",
       "      <td>620</td>\n",
       "      <td>2.820714</td>\n",
       "      <td>10.512038</td>\n",
       "    </tr>\n",
       "    <tr>\n",
       "      <th>Core staff</th>\n",
       "      <td>27263</td>\n",
       "      <td>1726</td>\n",
       "      <td>13.038509</td>\n",
       "      <td>6.330925</td>\n",
       "    </tr>\n",
       "    <tr>\n",
       "      <th>Drivers</th>\n",
       "      <td>18456</td>\n",
       "      <td>2098</td>\n",
       "      <td>8.826568</td>\n",
       "      <td>11.367577</td>\n",
       "    </tr>\n",
       "    <tr>\n",
       "      <th>HR staff</th>\n",
       "      <td>558</td>\n",
       "      <td>34</td>\n",
       "      <td>0.266863</td>\n",
       "      <td>6.093190</td>\n",
       "    </tr>\n",
       "    <tr>\n",
       "      <th>High skill tech staff</th>\n",
       "      <td>11261</td>\n",
       "      <td>696</td>\n",
       "      <td>5.385565</td>\n",
       "      <td>6.180623</td>\n",
       "    </tr>\n",
       "    <tr>\n",
       "      <th>IT staff</th>\n",
       "      <td>511</td>\n",
       "      <td>34</td>\n",
       "      <td>0.244385</td>\n",
       "      <td>6.653620</td>\n",
       "    </tr>\n",
       "    <tr>\n",
       "      <th>Laborers</th>\n",
       "      <td>54730</td>\n",
       "      <td>5806</td>\n",
       "      <td>26.174580</td>\n",
       "      <td>10.608441</td>\n",
       "    </tr>\n",
       "    <tr>\n",
       "      <th>Low-skill Laborers</th>\n",
       "      <td>2077</td>\n",
       "      <td>359</td>\n",
       "      <td>0.993324</td>\n",
       "      <td>17.284545</td>\n",
       "    </tr>\n",
       "    <tr>\n",
       "      <th>Managers</th>\n",
       "      <td>21114</td>\n",
       "      <td>1320</td>\n",
       "      <td>10.097754</td>\n",
       "      <td>6.251776</td>\n",
       "    </tr>\n",
       "    <tr>\n",
       "      <th>Medicine staff</th>\n",
       "      <td>8459</td>\n",
       "      <td>566</td>\n",
       "      <td>4.045510</td>\n",
       "      <td>6.691098</td>\n",
       "    </tr>\n",
       "    <tr>\n",
       "      <th>Private service staff</th>\n",
       "      <td>2629</td>\n",
       "      <td>172</td>\n",
       "      <td>1.257317</td>\n",
       "      <td>6.542412</td>\n",
       "    </tr>\n",
       "    <tr>\n",
       "      <th>Realty agents</th>\n",
       "      <td>742</td>\n",
       "      <td>59</td>\n",
       "      <td>0.354861</td>\n",
       "      <td>7.951482</td>\n",
       "    </tr>\n",
       "    <tr>\n",
       "      <th>Sales staff</th>\n",
       "      <td>31790</td>\n",
       "      <td>3063</td>\n",
       "      <td>15.203543</td>\n",
       "      <td>9.635105</td>\n",
       "    </tr>\n",
       "    <tr>\n",
       "      <th>Secretaries</th>\n",
       "      <td>1293</td>\n",
       "      <td>92</td>\n",
       "      <td>0.618376</td>\n",
       "      <td>7.115236</td>\n",
       "    </tr>\n",
       "    <tr>\n",
       "      <th>Security staff</th>\n",
       "      <td>6667</td>\n",
       "      <td>717</td>\n",
       "      <td>3.188488</td>\n",
       "      <td>10.754462</td>\n",
       "    </tr>\n",
       "    <tr>\n",
       "      <th>Waiters/barmen staff</th>\n",
       "      <td>1335</td>\n",
       "      <td>152</td>\n",
       "      <td>0.638463</td>\n",
       "      <td>11.385768</td>\n",
       "    </tr>\n",
       "  </tbody>\n",
       "</table>\n",
       "</div>"
      ],
      "text/plain": [
       "                       OCCUPATION_TYPE_total  TARGETis1  Percentage_occ  \\\n",
       "OCCUPATION_TYPE                                                           \n",
       "Accountants                             9698        472        4.638061   \n",
       "Cleaning staff                          4615        445        2.207120   \n",
       "Cooking staff                           5898        620        2.820714   \n",
       "Core staff                             27263       1726       13.038509   \n",
       "Drivers                                18456       2098        8.826568   \n",
       "HR staff                                 558         34        0.266863   \n",
       "High skill tech staff                  11261        696        5.385565   \n",
       "IT staff                                 511         34        0.244385   \n",
       "Laborers                               54730       5806       26.174580   \n",
       "Low-skill Laborers                      2077        359        0.993324   \n",
       "Managers                               21114       1320       10.097754   \n",
       "Medicine staff                          8459        566        4.045510   \n",
       "Private service staff                   2629        172        1.257317   \n",
       "Realty agents                            742         59        0.354861   \n",
       "Sales staff                            31790       3063       15.203543   \n",
       "Secretaries                             1293         92        0.618376   \n",
       "Security staff                          6667        717        3.188488   \n",
       "Waiters/barmen staff                    1335        152        0.638463   \n",
       "\n",
       "                       Percentage_default  \n",
       "OCCUPATION_TYPE                            \n",
       "Accountants                      4.866983  \n",
       "Cleaning staff                   9.642470  \n",
       "Cooking staff                   10.512038  \n",
       "Core staff                       6.330925  \n",
       "Drivers                         11.367577  \n",
       "HR staff                         6.093190  \n",
       "High skill tech staff            6.180623  \n",
       "IT staff                         6.653620  \n",
       "Laborers                        10.608441  \n",
       "Low-skill Laborers              17.284545  \n",
       "Managers                         6.251776  \n",
       "Medicine staff                   6.691098  \n",
       "Private service staff            6.542412  \n",
       "Realty agents                    7.951482  \n",
       "Sales staff                      9.635105  \n",
       "Secretaries                      7.115236  \n",
       "Security staff                  10.754462  \n",
       "Waiters/barmen staff            11.385768  "
      ]
     },
     "execution_count": 33,
     "metadata": {},
     "output_type": "execute_result"
    }
   ],
   "source": [
    "df_1=train_df.groupby('OCCUPATION_TYPE')['OCCUPATION_TYPE'].count()\n",
    "df_2=train_df.groupby('OCCUPATION_TYPE')['TARGET'].sum()\n",
    "df_occup_tar = pd.concat([df_1,df_2], axis=1)\n",
    "df_occup_tar.columns=['OCCUPATION_TYPE_total','TARGETis1']\n",
    "sum_total=df_occup_tar.OCCUPATION_TYPE_total.sum()\n",
    "df_occup_tar['Percentage_occ']= df_occup_tar.OCCUPATION_TYPE_total*100/sum_total\n",
    "df_occup_tar['Percentage_default']= df_occup_tar.TARGETis1*100/df_occup_tar.OCCUPATION_TYPE_total\n",
    "df_occup_tar\n",
    "#df.groupby('a')['a'].transform('count')"
   ]
  },
  {
   "cell_type": "code",
   "execution_count": 34,
   "metadata": {},
   "outputs": [
    {
     "data": {
      "image/png": "[encoded data removed]",
      "text/plain": [
       "<Figure size 432x288 with 1 Axes>"
      ]
     },
     "metadata": {},
     "output_type": "display_data"
    },
    {
     "name": "stdout",
     "output_type": "stream",
     "text": [
      "ratio of 1's to total len: 0.06534290354691676\n",
      "6236 no. of instances\n",
      "ratio of 1's when occ is null to total no. of 1s : 0.252807394494669\n"
     ]
    }
   ],
   "source": [
    "check_occupation_na= train_df[train_df.OCCUPATION_TYPE.isnull()==True ]\n",
    "sns.countplot(check_occupation_na['TARGET'],label=\"Count\")\n",
    "plt.show()\n",
    "print(\"ratio of 1's to total len:\",len(check_occupation_na[check_occupation_na['TARGET']==1])/len(check_occupation_na['TARGET']))\n",
    "print(len(check_occupation_na[check_occupation_na['TARGET']==1]),\"no. of instances\")\n",
    "print(\"ratio of 1's when occ is null to total no. of 1s :\",\\\n",
    "      len(check_occupation_na[check_occupation_na['TARGET']==1])/len(train_df[train_df.TARGET==1]))"
   ]
  },
  {
   "cell_type": "markdown",
   "metadata": {},
   "source": [
    "# Treating Missing Values of  OCCUPATION_TYPE\n",
    "\n",
    "Thats a lot of data, lets replace the missing values by classifying them using the intuitive columns"
   ]
  },
  {
   "cell_type": "code",
   "execution_count": 35,
   "metadata": {},
   "outputs": [
    {
     "data": {
      "text/plain": [
       "Index(['SK_ID_CURR', 'TARGET', 'NAME_CONTRACT_TYPE', 'CODE_GENDER',\n",
       "       'FLAG_OWN_CAR', 'FLAG_OWN_REALTY', 'CNT_CHILDREN', 'AMT_INCOME_TOTAL',\n",
       "       'AMT_CREDIT', 'AMT_ANNUITY',\n",
       "       ...\n",
       "       'FLAG_DOCUMENT_13', 'FLAG_DOCUMENT_14', 'FLAG_DOCUMENT_15',\n",
       "       'FLAG_DOCUMENT_16', 'FLAG_DOCUMENT_17', 'FLAG_DOCUMENT_18',\n",
       "       'FLAG_DOCUMENT_19', 'FLAG_DOCUMENT_20', 'FLAG_DOCUMENT_21',\n",
       "       'AMT_REQ_CREDIT_BUREAU_YEAR'],\n",
       "      dtype='object', length=117)"
      ]
     },
     "execution_count": 35,
     "metadata": {},
     "output_type": "execute_result"
    }
   ],
   "source": [
    "# correlations = train_df.corr()['OCCUPATION_TYPE'].sort_values()\n",
    "\n",
    "# print('Most Positive Correlations:\\n', correlations.tail(15))\n",
    "# print('\\nMost Negative Correlations:\\n', correlations.head(15))\n",
    "\n",
    "train_df.columns #'CODE_GENDER','FLAG_OWN_CAR','AMT_INCOME_TOTAL','AMT_CREDIT','NAME_CONTRACT_TYPE','NAME_EDUCATION_TYPE','DAYS_EMPLOYED',\n",
    "#'FLAG_EMAIL','REGION_RATING_CLIENT'"
   ]
  },
  {
   "cell_type": "code",
   "execution_count": 36,
   "metadata": {},
   "outputs": [],
   "source": [
    "train_df_occ=train_df[['SK_ID_CURR','OCCUPATION_TYPE','CODE_GENDER','FLAG_OWN_CAR','AMT_INCOME_TOTAL','AMT_CREDIT','NAME_CONTRACT_TYPE',\\\n",
    "          'NAME_EDUCATION_TYPE','DAYS_EMPLOYED',\\\n",
    "          'FLAG_EMAIL','REGION_RATING_CLIENT']]"
   ]
  },
  {
   "cell_type": "code",
   "execution_count": 37,
   "metadata": {},
   "outputs": [
    {
     "data": {
      "text/html": [
       "<div>\n",
       "<style scoped>\n",
       "    .dataframe tbody tr th:only-of-type {\n",
       "        vertical-align: middle;\n",
       "    }\n",
       "\n",
       "    .dataframe tbody tr th {\n",
       "        vertical-align: top;\n",
       "    }\n",
       "\n",
       "    .dataframe thead th {\n",
       "        text-align: right;\n",
       "    }\n",
       "</style>\n",
       "<table border=\"1\" class=\"dataframe\">\n",
       "  <thead>\n",
       "    <tr style=\"text-align: right;\">\n",
       "      <th></th>\n",
       "      <th>no_NANs</th>\n",
       "      <th>percentage_NANS</th>\n",
       "    </tr>\n",
       "  </thead>\n",
       "  <tbody>\n",
       "    <tr>\n",
       "      <th>SK_ID_CURR</th>\n",
       "      <td>0</td>\n",
       "      <td>0.000000</td>\n",
       "    </tr>\n",
       "    <tr>\n",
       "      <th>OCCUPATION_TYPE</th>\n",
       "      <td>95435</td>\n",
       "      <td>31.338353</td>\n",
       "    </tr>\n",
       "    <tr>\n",
       "      <th>CODE_GENDER</th>\n",
       "      <td>0</td>\n",
       "      <td>0.000000</td>\n",
       "    </tr>\n",
       "    <tr>\n",
       "      <th>FLAG_OWN_CAR</th>\n",
       "      <td>0</td>\n",
       "      <td>0.000000</td>\n",
       "    </tr>\n",
       "    <tr>\n",
       "      <th>AMT_INCOME_TOTAL</th>\n",
       "      <td>0</td>\n",
       "      <td>0.000000</td>\n",
       "    </tr>\n",
       "    <tr>\n",
       "      <th>AMT_CREDIT</th>\n",
       "      <td>0</td>\n",
       "      <td>0.000000</td>\n",
       "    </tr>\n",
       "    <tr>\n",
       "      <th>NAME_CONTRACT_TYPE</th>\n",
       "      <td>0</td>\n",
       "      <td>0.000000</td>\n",
       "    </tr>\n",
       "    <tr>\n",
       "      <th>NAME_EDUCATION_TYPE</th>\n",
       "      <td>0</td>\n",
       "      <td>0.000000</td>\n",
       "    </tr>\n",
       "    <tr>\n",
       "      <th>DAYS_EMPLOYED</th>\n",
       "      <td>0</td>\n",
       "      <td>0.000000</td>\n",
       "    </tr>\n",
       "    <tr>\n",
       "      <th>FLAG_EMAIL</th>\n",
       "      <td>0</td>\n",
       "      <td>0.000000</td>\n",
       "    </tr>\n",
       "    <tr>\n",
       "      <th>REGION_RATING_CLIENT</th>\n",
       "      <td>0</td>\n",
       "      <td>0.000000</td>\n",
       "    </tr>\n",
       "  </tbody>\n",
       "</table>\n",
       "</div>"
      ],
      "text/plain": [
       "                      no_NANs  percentage_NANS\n",
       "SK_ID_CURR                  0         0.000000\n",
       "OCCUPATION_TYPE         95435        31.338353\n",
       "CODE_GENDER                 0         0.000000\n",
       "FLAG_OWN_CAR                0         0.000000\n",
       "AMT_INCOME_TOTAL            0         0.000000\n",
       "AMT_CREDIT                  0         0.000000\n",
       "NAME_CONTRACT_TYPE          0         0.000000\n",
       "NAME_EDUCATION_TYPE         0         0.000000\n",
       "DAYS_EMPLOYED               0         0.000000\n",
       "FLAG_EMAIL                  0         0.000000\n",
       "REGION_RATING_CLIENT        0         0.000000"
      ]
     },
     "execution_count": 37,
     "metadata": {},
     "output_type": "execute_result"
    }
   ],
   "source": [
    "missing_values(train_df_occ) #all the columns are "
   ]
  },
  {
   "cell_type": "code",
   "execution_count": 38,
   "metadata": {},
   "outputs": [],
   "source": [
    "test_df_occ=train_df_occ[train_df_occ['OCCUPATION_TYPE'].isnull()==True]\n",
    "test_df_occ.fillna(0,inplace=True)"
   ]
  },
  {
   "cell_type": "code",
   "execution_count": 39,
   "metadata": {},
   "outputs": [],
   "source": [
    "train_df_occ=train_df_occ[train_df_occ['OCCUPATION_TYPE'].isnull()==False]"
   ]
  },
  {
   "cell_type": "markdown",
   "metadata": {},
   "source": [
    "Check for any outliers and treat them"
   ]
  },
  {
   "cell_type": "code",
   "execution_count": 40,
   "metadata": {},
   "outputs": [
    {
     "data": {
      "text/plain": [
       "<matplotlib.axes._subplots.AxesSubplot at 0x1e5ba41b0f0>"
      ]
     },
     "execution_count": 40,
     "metadata": {},
     "output_type": "execute_result"
    },
    {
     "data": {
      "image/png": "[encoded data removed]",
      "text/plain": [
       "<Figure size 432x288 with 1 Axes>"
      ]
     },
     "metadata": {},
     "output_type": "display_data"
    }
   ],
   "source": [
    "train_df_occ.boxplot('AMT_INCOME_TOTAL')"
   ]
  },
  {
   "cell_type": "code",
   "execution_count": 41,
   "metadata": {},
   "outputs": [
    {
     "data": {
      "text/plain": [
       "12840     117000000.0\n",
       "77768       9000000.0\n",
       "131127      6750000.0\n",
       "204564      4500000.0\n",
       "287463      4500000.0\n",
       "103006      4500000.0\n",
       "187833      4500000.0\n",
       "181698      3950059.5\n",
       "20216       3825000.0\n",
       "284311      3600000.0\n",
       "Name: AMT_INCOME_TOTAL, dtype: float64"
      ]
     },
     "execution_count": 41,
     "metadata": {},
     "output_type": "execute_result"
    }
   ],
   "source": [
    "train_df_occ.AMT_INCOME_TOTAL.sort_values(ascending=False)[:10]\n",
    "#we can see that top value is an outlier  removing the istance                                                  "
   ]
  },
  {
   "cell_type": "code",
   "execution_count": 42,
   "metadata": {},
   "outputs": [],
   "source": [
    "train_df_occ=train_df_occ[train_df_occ.AMT_INCOME_TOTAL!=117000000.0]"
   ]
  },
  {
   "cell_type": "code",
   "execution_count": 43,
   "metadata": {},
   "outputs": [
    {
     "data": {
      "text/plain": [
       "<matplotlib.axes._subplots.AxesSubplot at 0x1e5ba3a6ba8>"
      ]
     },
     "execution_count": 43,
     "metadata": {},
     "output_type": "execute_result"
    },
    {
     "data": {
      "image/png": "[encoded data removed]",
      "text/plain": [
       "<Figure size 432x288 with 1 Axes>"
      ]
     },
     "metadata": {},
     "output_type": "display_data"
    }
   ],
   "source": [
    "train_df_occ.boxplot('AMT_INCOME_TOTAL')"
   ]
  },
  {
   "cell_type": "code",
   "execution_count": 44,
   "metadata": {},
   "outputs": [
    {
     "data": {
      "text/plain": [
       "<matplotlib.axes._subplots.AxesSubplot at 0x1e5ba3c1e10>"
      ]
     },
     "execution_count": 44,
     "metadata": {},
     "output_type": "execute_result"
    },
    {
     "data": {
      "image/png": "[encoded data removed]",
      "text/plain": [
       "<Figure size 432x288 with 1 Axes>"
      ]
     },
     "metadata": {},
     "output_type": "display_data"
    }
   ],
   "source": [
    "train_df_occ.AMT_INCOME_TOTAL.hist() # we'll still be needing to transform the column"
   ]
  },
  {
   "cell_type": "code",
   "execution_count": 45,
   "metadata": {},
   "outputs": [
    {
     "data": {
      "text/plain": [
       "<matplotlib.axes._subplots.AxesSubplot at 0x1e5ba44c828>"
      ]
     },
     "execution_count": 45,
     "metadata": {},
     "output_type": "execute_result"
    },
    {
     "data": {
      "image/png": "[encoded data removed]",
      "text/plain": [
       "<Figure size 432x288 with 1 Axes>"
      ]
     },
     "metadata": {},
     "output_type": "display_data"
    }
   ],
   "source": [
    "#AMT_CREDIT\n",
    "train_df_occ.AMT_CREDIT.hist()"
   ]
  },
  {
   "cell_type": "code",
   "execution_count": 46,
   "metadata": {},
   "outputs": [
    {
     "data": {
      "text/plain": [
       "<matplotlib.axes._subplots.AxesSubplot at 0x1e5bab08da0>"
      ]
     },
     "execution_count": 46,
     "metadata": {},
     "output_type": "execute_result"
    },
    {
     "data": {
      "image/png": "[encoded data removed]",
      "text/plain": [
       "<Figure size 432x288 with 1 Axes>"
      ]
     },
     "metadata": {},
     "output_type": "display_data"
    }
   ],
   "source": [
    "train_df_occ.boxplot('AMT_CREDIT')"
   ]
  },
  {
   "cell_type": "code",
   "execution_count": 47,
   "metadata": {},
   "outputs": [
    {
     "data": {
      "text/plain": [
       "<matplotlib.axes._subplots.AxesSubplot at 0x1e5baf04c18>"
      ]
     },
     "execution_count": 47,
     "metadata": {},
     "output_type": "execute_result"
    },
    {
     "data": {
      "image/png": "[encoded data removed]",
      "text/plain": [
       "<Figure size 432x288 with 1 Axes>"
      ]
     },
     "metadata": {},
     "output_type": "display_data"
    }
   ],
   "source": [
    "#DAYS_EMPLOYED\n",
    "train_df_occ.boxplot('DAYS_EMPLOYED')"
   ]
  },
  {
   "cell_type": "code",
   "execution_count": 48,
   "metadata": {},
   "outputs": [
    {
     "data": {
      "text/plain": [
       "<matplotlib.axes._subplots.AxesSubplot at 0x1e5baf44160>"
      ]
     },
     "execution_count": 48,
     "metadata": {},
     "output_type": "execute_result"
    },
    {
     "data": {
      "image/png": "[encoded data removed]",
      "text/plain": [
       "<Figure size 432x288 with 1 Axes>"
      ]
     },
     "metadata": {},
     "output_type": "display_data"
    }
   ],
   "source": [
    "train_df_occ['DAYS_EMPLOYED'].plot.hist(title = 'Days Employment Histogram')"
   ]
  },
  {
   "cell_type": "code",
   "execution_count": 49,
   "metadata": {},
   "outputs": [
    {
     "data": {
      "text/plain": [
       "280994   -17912\n",
       "273069   -17583\n",
       "35191    -17531\n",
       "234168   -17522\n",
       "143265   -17139\n",
       "296917   -16852\n",
       "39095    -16849\n",
       "249164   -16836\n",
       "218832   -16767\n",
       "164817   -16678\n",
       "143266   -16651\n",
       "241444   -16632\n",
       "228384   -16607\n",
       "297930   -16554\n",
       "62757    -16538\n",
       "Name: DAYS_EMPLOYED, dtype: int64"
      ]
     },
     "execution_count": 49,
     "metadata": {},
     "output_type": "execute_result"
    }
   ],
   "source": [
    "train_df_occ.DAYS_EMPLOYED.sort_values(ascending=True)[:15]"
   ]
  },
  {
   "cell_type": "code",
   "execution_count": 50,
   "metadata": {},
   "outputs": [
    {
     "data": {
      "text/plain": [
       "280994    49.073973\n",
       "273069    48.172603\n",
       "35191     48.030137\n",
       "234168    48.005479\n",
       "143265    46.956164\n",
       "296917    46.169863\n",
       "39095     46.161644\n",
       "249164    46.126027\n",
       "218832    45.936986\n",
       "164817    45.693151\n",
       "143266    45.619178\n",
       "241444    45.567123\n",
       "228384    45.498630\n",
       "297930    45.353425\n",
       "62757     45.309589\n",
       "Name: YEARS_EMPLOYED, dtype: float64"
      ]
     },
     "execution_count": 50,
     "metadata": {},
     "output_type": "execute_result"
    }
   ],
   "source": [
    "train_df_occ['YEARS_EMPLOYED']=train_df_occ.DAYS_EMPLOYED/-365\n",
    "train_df_occ.YEARS_EMPLOYED.sort_values(ascending=False)[:15]"
   ]
  },
  {
   "cell_type": "code",
   "execution_count": 51,
   "metadata": {},
   "outputs": [
    {
     "data": {
      "image/png": "[encoded data removed]",
      "text/plain": [
       "<Figure size 432x288 with 1 Axes>"
      ]
     },
     "metadata": {},
     "output_type": "display_data"
    }
   ],
   "source": [
    "train_df_occ['YEARS_EMPLOYED'].hist()\n",
    "plt.show()"
   ]
  },
  {
   "cell_type": "code",
   "execution_count": 52,
   "metadata": {},
   "outputs": [],
   "source": [
    "train_df_occ.drop('DAYS_EMPLOYED',axis=1, inplace=True)"
   ]
  },
  {
   "cell_type": "code",
   "execution_count": 53,
   "metadata": {},
   "outputs": [
    {
     "data": {
      "image/png": "[encoded data removed]",
      "text/plain": [
       "<Figure size 432x288 with 1 Axes>"
      ]
     },
     "metadata": {},
     "output_type": "display_data"
    }
   ],
   "source": [
    "#REGION_RATING_CLIENT\n",
    "train_df_occ.boxplot('REGION_RATING_CLIENT')\n",
    "plt.show()"
   ]
  },
  {
   "cell_type": "code",
   "execution_count": 54,
   "metadata": {},
   "outputs": [
    {
     "data": {
      "image/png": "[encoded data removed]",
      "text/plain": [
       "<Figure size 432x288 with 1 Axes>"
      ]
     },
     "metadata": {},
     "output_type": "display_data"
    }
   ],
   "source": [
    "sns.countplot(train_df_occ['REGION_RATING_CLIENT'],label=\"Count\")\n",
    "plt.show()"
   ]
  },
  {
   "cell_type": "markdown",
   "metadata": {},
   "source": [
    "Winsorizing  the two columns showing high outliers"
   ]
  },
  {
   "cell_type": "code",
   "execution_count": 55,
   "metadata": {},
   "outputs": [],
   "source": [
    "def Winsorize_check(data):\n",
    "    quantiles = data.quantile([0.05, 0.95])\n",
    "    q_05 = quantiles.loc[0.05]\n",
    "    q_95 = quantiles.loc[0.95]\n",
    "\n",
    "    out = np.where(data.values <= q_05,q_05, np.where(data >= q_95, q_95, data))\n",
    "    return out"
   ]
  },
  {
   "cell_type": "code",
   "execution_count": 56,
   "metadata": {},
   "outputs": [],
   "source": [
    "colstotreat=['AMT_CREDIT','AMT_INCOME_TOTAL']\n",
    "for i in colstotreat:\n",
    "    train_df_occ[i]=Winsorize_check(train_df_occ[i])"
   ]
  },
  {
   "cell_type": "code",
   "execution_count": 57,
   "metadata": {},
   "outputs": [
    {
     "data": {
      "text/plain": [
       "<matplotlib.axes._subplots.AxesSubplot at 0x1e5bafdf4e0>"
      ]
     },
     "execution_count": 57,
     "metadata": {},
     "output_type": "execute_result"
    },
    {
     "data": {
      "image/png": "[encoded data removed]",
      "text/plain": [
       "<Figure size 432x288 with 1 Axes>"
      ]
     },
     "metadata": {},
     "output_type": "display_data"
    }
   ],
   "source": [
    "train_df_occ.AMT_INCOME_TOTAL.hist() "
   ]
  },
  {
   "cell_type": "code",
   "execution_count": 58,
   "metadata": {},
   "outputs": [
    {
     "data": {
      "text/plain": [
       "<matplotlib.axes._subplots.AxesSubplot at 0x1e5bb02eb38>"
      ]
     },
     "execution_count": 58,
     "metadata": {},
     "output_type": "execute_result"
    },
    {
     "data": {
      "image/png": "[encoded data removed]",
      "text/plain": [
       "<Figure size 432x288 with 1 Axes>"
      ]
     },
     "metadata": {},
     "output_type": "display_data"
    }
   ],
   "source": [
    "train_df_occ.AMT_CREDIT.hist() "
   ]
  },
  {
   "cell_type": "code",
   "execution_count": 59,
   "metadata": {},
   "outputs": [
    {
     "data": {
      "text/html": [
       "<div>\n",
       "<style scoped>\n",
       "    .dataframe tbody tr th:only-of-type {\n",
       "        vertical-align: middle;\n",
       "    }\n",
       "\n",
       "    .dataframe tbody tr th {\n",
       "        vertical-align: top;\n",
       "    }\n",
       "\n",
       "    .dataframe thead th {\n",
       "        text-align: right;\n",
       "    }\n",
       "</style>\n",
       "<table border=\"1\" class=\"dataframe\">\n",
       "  <thead>\n",
       "    <tr style=\"text-align: right;\">\n",
       "      <th></th>\n",
       "      <th>SK_ID_CURR</th>\n",
       "      <th>OCCUPATION_TYPE</th>\n",
       "      <th>CODE_GENDER</th>\n",
       "      <th>AMT_INCOME_TOTAL</th>\n",
       "      <th>AMT_CREDIT</th>\n",
       "      <th>NAME_EDUCATION_TYPE</th>\n",
       "      <th>FLAG_EMAIL</th>\n",
       "      <th>REGION_RATING_CLIENT</th>\n",
       "      <th>YEARS_EMPLOYED</th>\n",
       "      <th>FLAG_OWN_CAR_1</th>\n",
       "      <th>NAME_CONTRACT_TYPE_1</th>\n",
       "    </tr>\n",
       "  </thead>\n",
       "  <tbody>\n",
       "    <tr>\n",
       "      <th>0</th>\n",
       "      <td>100002</td>\n",
       "      <td>Laborers</td>\n",
       "      <td>M</td>\n",
       "      <td>202500.0</td>\n",
       "      <td>406597.5</td>\n",
       "      <td>Secondary / secondary special</td>\n",
       "      <td>0</td>\n",
       "      <td>2</td>\n",
       "      <td>1.745205</td>\n",
       "      <td>0</td>\n",
       "      <td>0</td>\n",
       "    </tr>\n",
       "    <tr>\n",
       "      <th>1</th>\n",
       "      <td>100003</td>\n",
       "      <td>Core staff</td>\n",
       "      <td>F</td>\n",
       "      <td>270000.0</td>\n",
       "      <td>1293502.5</td>\n",
       "      <td>Higher education</td>\n",
       "      <td>0</td>\n",
       "      <td>1</td>\n",
       "      <td>3.254795</td>\n",
       "      <td>0</td>\n",
       "      <td>0</td>\n",
       "    </tr>\n",
       "  </tbody>\n",
       "</table>\n",
       "</div>"
      ],
      "text/plain": [
       "   SK_ID_CURR OCCUPATION_TYPE CODE_GENDER  AMT_INCOME_TOTAL  AMT_CREDIT  \\\n",
       "0      100002        Laborers           M          202500.0    406597.5   \n",
       "1      100003      Core staff           F          270000.0   1293502.5   \n",
       "\n",
       "             NAME_EDUCATION_TYPE  FLAG_EMAIL  REGION_RATING_CLIENT  \\\n",
       "0  Secondary / secondary special           0                     2   \n",
       "1               Higher education           0                     1   \n",
       "\n",
       "   YEARS_EMPLOYED  FLAG_OWN_CAR_1  NAME_CONTRACT_TYPE_1  \n",
       "0        1.745205               0                     0  \n",
       "1        3.254795               0                     0  "
      ]
     },
     "execution_count": 59,
     "metadata": {},
     "output_type": "execute_result"
    }
   ],
   "source": [
    "#'CODE_GENDER','FLAG_OWN_CAR','NAME_CONTRACT_TYPE','NAME_EDUCATION_TYPE'\n",
    "train_df_occ['FLAG_OWN_CAR_1']= np.where(train_df_occ['FLAG_OWN_CAR']=='N',0,1)\n",
    "train_df_occ.drop(['FLAG_OWN_CAR'],axis=1,inplace=True)\n",
    "train_df_occ['NAME_CONTRACT_TYPE_1']= np.where(train_df_occ['NAME_CONTRACT_TYPE']=='Cash loans',0,1)\n",
    "train_df_occ.drop(['NAME_CONTRACT_TYPE'],axis=1,inplace=True)\n",
    "train_df_occ.head(2)"
   ]
  },
  {
   "cell_type": "code",
   "execution_count": 60,
   "metadata": {},
   "outputs": [],
   "source": [
    "def getdummies(df):\n",
    "    t1=df.select_dtypes(include='object')\n",
    "    t1dummies=pd.get_dummies(t1)\n",
    "    return t1dummies"
   ]
  },
  {
   "cell_type": "code",
   "execution_count": 61,
   "metadata": {},
   "outputs": [
    {
     "data": {
      "text/html": [
       "<div>\n",
       "<style scoped>\n",
       "    .dataframe tbody tr th:only-of-type {\n",
       "        vertical-align: middle;\n",
       "    }\n",
       "\n",
       "    .dataframe tbody tr th {\n",
       "        vertical-align: top;\n",
       "    }\n",
       "\n",
       "    .dataframe thead th {\n",
       "        text-align: right;\n",
       "    }\n",
       "</style>\n",
       "<table border=\"1\" class=\"dataframe\">\n",
       "  <thead>\n",
       "    <tr style=\"text-align: right;\">\n",
       "      <th></th>\n",
       "      <th>CODE_GENDER_F</th>\n",
       "      <th>CODE_GENDER_M</th>\n",
       "      <th>CODE_GENDER_XNA</th>\n",
       "      <th>NAME_EDUCATION_TYPE_Academic degree</th>\n",
       "      <th>NAME_EDUCATION_TYPE_Higher education</th>\n",
       "      <th>NAME_EDUCATION_TYPE_Incomplete higher</th>\n",
       "      <th>NAME_EDUCATION_TYPE_Lower secondary</th>\n",
       "      <th>NAME_EDUCATION_TYPE_Secondary / secondary special</th>\n",
       "    </tr>\n",
       "  </thead>\n",
       "  <tbody>\n",
       "    <tr>\n",
       "      <th>0</th>\n",
       "      <td>0</td>\n",
       "      <td>1</td>\n",
       "      <td>0</td>\n",
       "      <td>0</td>\n",
       "      <td>0</td>\n",
       "      <td>0</td>\n",
       "      <td>0</td>\n",
       "      <td>1</td>\n",
       "    </tr>\n",
       "    <tr>\n",
       "      <th>1</th>\n",
       "      <td>1</td>\n",
       "      <td>0</td>\n",
       "      <td>0</td>\n",
       "      <td>0</td>\n",
       "      <td>1</td>\n",
       "      <td>0</td>\n",
       "      <td>0</td>\n",
       "      <td>0</td>\n",
       "    </tr>\n",
       "    <tr>\n",
       "      <th>2</th>\n",
       "      <td>0</td>\n",
       "      <td>1</td>\n",
       "      <td>0</td>\n",
       "      <td>0</td>\n",
       "      <td>0</td>\n",
       "      <td>0</td>\n",
       "      <td>0</td>\n",
       "      <td>1</td>\n",
       "    </tr>\n",
       "  </tbody>\n",
       "</table>\n",
       "</div>"
      ],
      "text/plain": [
       "   CODE_GENDER_F  CODE_GENDER_M  CODE_GENDER_XNA  \\\n",
       "0              0              1                0   \n",
       "1              1              0                0   \n",
       "2              0              1                0   \n",
       "\n",
       "   NAME_EDUCATION_TYPE_Academic degree  NAME_EDUCATION_TYPE_Higher education  \\\n",
       "0                                    0                                     0   \n",
       "1                                    0                                     1   \n",
       "2                                    0                                     0   \n",
       "\n",
       "   NAME_EDUCATION_TYPE_Incomplete higher  NAME_EDUCATION_TYPE_Lower secondary  \\\n",
       "0                                      0                                    0   \n",
       "1                                      0                                    0   \n",
       "2                                      0                                    0   \n",
       "\n",
       "   NAME_EDUCATION_TYPE_Secondary / secondary special  \n",
       "0                                                  1  \n",
       "1                                                  0  \n",
       "2                                                  1  "
      ]
     },
     "execution_count": 61,
     "metadata": {},
     "output_type": "execute_result"
    }
   ],
   "source": [
    "#CODE_GENDER and NAME_EDUCATION_TYPE dummy variables are added for both\n",
    "\n",
    "dummies_df= train_df_occ[['CODE_GENDER','NAME_EDUCATION_TYPE']]\n",
    "dummies_df=getdummies(dummies_df)\n",
    "dummies_df.head(3)"
   ]
  },
  {
   "cell_type": "code",
   "execution_count": 62,
   "metadata": {},
   "outputs": [
    {
     "data": {
      "text/html": [
       "<div>\n",
       "<style scoped>\n",
       "    .dataframe tbody tr th:only-of-type {\n",
       "        vertical-align: middle;\n",
       "    }\n",
       "\n",
       "    .dataframe tbody tr th {\n",
       "        vertical-align: top;\n",
       "    }\n",
       "\n",
       "    .dataframe thead th {\n",
       "        text-align: right;\n",
       "    }\n",
       "</style>\n",
       "<table border=\"1\" class=\"dataframe\">\n",
       "  <thead>\n",
       "    <tr style=\"text-align: right;\">\n",
       "      <th></th>\n",
       "      <th>SK_ID_CURR</th>\n",
       "      <th>OCCUPATION_TYPE</th>\n",
       "      <th>AMT_INCOME_TOTAL</th>\n",
       "      <th>AMT_CREDIT</th>\n",
       "      <th>FLAG_EMAIL</th>\n",
       "      <th>REGION_RATING_CLIENT</th>\n",
       "      <th>YEARS_EMPLOYED</th>\n",
       "      <th>FLAG_OWN_CAR_1</th>\n",
       "      <th>NAME_CONTRACT_TYPE_1</th>\n",
       "      <th>CODE_GENDER_F</th>\n",
       "      <th>CODE_GENDER_M</th>\n",
       "      <th>CODE_GENDER_XNA</th>\n",
       "      <th>NAME_EDUCATION_TYPE_Academic degree</th>\n",
       "      <th>NAME_EDUCATION_TYPE_Higher education</th>\n",
       "      <th>NAME_EDUCATION_TYPE_Incomplete higher</th>\n",
       "      <th>NAME_EDUCATION_TYPE_Lower secondary</th>\n",
       "      <th>NAME_EDUCATION_TYPE_Secondary / secondary special</th>\n",
       "    </tr>\n",
       "  </thead>\n",
       "  <tbody>\n",
       "    <tr>\n",
       "      <th>0</th>\n",
       "      <td>100002</td>\n",
       "      <td>Laborers</td>\n",
       "      <td>202500.0</td>\n",
       "      <td>406597.5</td>\n",
       "      <td>0</td>\n",
       "      <td>2</td>\n",
       "      <td>1.745205</td>\n",
       "      <td>0</td>\n",
       "      <td>0</td>\n",
       "      <td>0</td>\n",
       "      <td>1</td>\n",
       "      <td>0</td>\n",
       "      <td>0</td>\n",
       "      <td>0</td>\n",
       "      <td>0</td>\n",
       "      <td>0</td>\n",
       "      <td>1</td>\n",
       "    </tr>\n",
       "    <tr>\n",
       "      <th>1</th>\n",
       "      <td>100003</td>\n",
       "      <td>Core staff</td>\n",
       "      <td>270000.0</td>\n",
       "      <td>1293502.5</td>\n",
       "      <td>0</td>\n",
       "      <td>1</td>\n",
       "      <td>3.254795</td>\n",
       "      <td>0</td>\n",
       "      <td>0</td>\n",
       "      <td>1</td>\n",
       "      <td>0</td>\n",
       "      <td>0</td>\n",
       "      <td>0</td>\n",
       "      <td>1</td>\n",
       "      <td>0</td>\n",
       "      <td>0</td>\n",
       "      <td>0</td>\n",
       "    </tr>\n",
       "    <tr>\n",
       "      <th>2</th>\n",
       "      <td>100004</td>\n",
       "      <td>Laborers</td>\n",
       "      <td>72000.0</td>\n",
       "      <td>143910.0</td>\n",
       "      <td>0</td>\n",
       "      <td>2</td>\n",
       "      <td>0.616438</td>\n",
       "      <td>1</td>\n",
       "      <td>1</td>\n",
       "      <td>0</td>\n",
       "      <td>1</td>\n",
       "      <td>0</td>\n",
       "      <td>0</td>\n",
       "      <td>0</td>\n",
       "      <td>0</td>\n",
       "      <td>0</td>\n",
       "      <td>1</td>\n",
       "    </tr>\n",
       "  </tbody>\n",
       "</table>\n",
       "</div>"
      ],
      "text/plain": [
       "   SK_ID_CURR OCCUPATION_TYPE  AMT_INCOME_TOTAL  AMT_CREDIT  FLAG_EMAIL  \\\n",
       "0      100002        Laborers          202500.0    406597.5           0   \n",
       "1      100003      Core staff          270000.0   1293502.5           0   \n",
       "2      100004        Laborers           72000.0    143910.0           0   \n",
       "\n",
       "   REGION_RATING_CLIENT  YEARS_EMPLOYED  FLAG_OWN_CAR_1  NAME_CONTRACT_TYPE_1  \\\n",
       "0                     2        1.745205               0                     0   \n",
       "1                     1        3.254795               0                     0   \n",
       "2                     2        0.616438               1                     1   \n",
       "\n",
       "   CODE_GENDER_F  CODE_GENDER_M  CODE_GENDER_XNA  \\\n",
       "0              0              1                0   \n",
       "1              1              0                0   \n",
       "2              0              1                0   \n",
       "\n",
       "   NAME_EDUCATION_TYPE_Academic degree  NAME_EDUCATION_TYPE_Higher education  \\\n",
       "0                                    0                                     0   \n",
       "1                                    0                                     1   \n",
       "2                                    0                                     0   \n",
       "\n",
       "   NAME_EDUCATION_TYPE_Incomplete higher  NAME_EDUCATION_TYPE_Lower secondary  \\\n",
       "0                                      0                                    0   \n",
       "1                                      0                                    0   \n",
       "2                                      0                                    0   \n",
       "\n",
       "   NAME_EDUCATION_TYPE_Secondary / secondary special  \n",
       "0                                                  1  \n",
       "1                                                  0  \n",
       "2                                                  1  "
      ]
     },
     "execution_count": 62,
     "metadata": {},
     "output_type": "execute_result"
    }
   ],
   "source": [
    "train_df_occ.drop(['CODE_GENDER','NAME_EDUCATION_TYPE'],axis=1,inplace=True)\n",
    "train_df_occ1=pd.concat([train_df_occ, dummies_df], axis=1, sort=False)\n",
    "train_df_occ1.head(3)"
   ]
  },
  {
   "cell_type": "code",
   "execution_count": 63,
   "metadata": {},
   "outputs": [],
   "source": [
    "#making all vars standardized\n",
    "#AMT_INCOME_TOTAL\tAMT_CREDIT REGION_RATING_CLIENT\tYEARS_EMPLOYED\n",
    "scaler = preprocessing.StandardScaler()\n",
    "a= scaler.fit_transform(train_df_occ[['AMT_INCOME_TOTAL','AMT_CREDIT','REGION_RATING_CLIENT','YEARS_EMPLOYED']])\n",
    "scaled_df = pd.DataFrame(a, columns= ['AMT_INCOME_TOTAL','AMT_CREDIT','REGION_RATING_CLIENT','YEARS_EMPLOYED'])\n"
   ]
  },
  {
   "cell_type": "code",
   "execution_count": 64,
   "metadata": {},
   "outputs": [
    {
     "data": {
      "text/html": [
       "<div>\n",
       "<style scoped>\n",
       "    .dataframe tbody tr th:only-of-type {\n",
       "        vertical-align: middle;\n",
       "    }\n",
       "\n",
       "    .dataframe tbody tr th {\n",
       "        vertical-align: top;\n",
       "    }\n",
       "\n",
       "    .dataframe thead th {\n",
       "        text-align: right;\n",
       "    }\n",
       "</style>\n",
       "<table border=\"1\" class=\"dataframe\">\n",
       "  <thead>\n",
       "    <tr style=\"text-align: right;\">\n",
       "      <th></th>\n",
       "      <th>SK_ID_CURR</th>\n",
       "      <th>OCCUPATION_TYPE</th>\n",
       "      <th>FLAG_EMAIL</th>\n",
       "      <th>FLAG_OWN_CAR_1</th>\n",
       "      <th>NAME_CONTRACT_TYPE_1</th>\n",
       "      <th>CODE_GENDER_F</th>\n",
       "      <th>CODE_GENDER_M</th>\n",
       "      <th>CODE_GENDER_XNA</th>\n",
       "      <th>NAME_EDUCATION_TYPE_Academic degree</th>\n",
       "      <th>NAME_EDUCATION_TYPE_Higher education</th>\n",
       "      <th>NAME_EDUCATION_TYPE_Incomplete higher</th>\n",
       "      <th>NAME_EDUCATION_TYPE_Lower secondary</th>\n",
       "      <th>NAME_EDUCATION_TYPE_Secondary / secondary special</th>\n",
       "      <th>AMT_INCOME_TOTAL</th>\n",
       "      <th>AMT_CREDIT</th>\n",
       "      <th>REGION_RATING_CLIENT</th>\n",
       "      <th>YEARS_EMPLOYED</th>\n",
       "    </tr>\n",
       "  </thead>\n",
       "  <tbody>\n",
       "    <tr>\n",
       "      <th>0</th>\n",
       "      <td>100002</td>\n",
       "      <td>Laborers</td>\n",
       "      <td>0</td>\n",
       "      <td>0</td>\n",
       "      <td>0</td>\n",
       "      <td>0</td>\n",
       "      <td>1</td>\n",
       "      <td>0</td>\n",
       "      <td>0</td>\n",
       "      <td>0</td>\n",
       "      <td>0</td>\n",
       "      <td>0</td>\n",
       "      <td>1</td>\n",
       "      <td>0.447788</td>\n",
       "      <td>-0.529721</td>\n",
       "      <td>-0.098914</td>\n",
       "      <td>-0.746129</td>\n",
       "    </tr>\n",
       "    <tr>\n",
       "      <th>1</th>\n",
       "      <td>100003</td>\n",
       "      <td>Core staff</td>\n",
       "      <td>0</td>\n",
       "      <td>0</td>\n",
       "      <td>0</td>\n",
       "      <td>1</td>\n",
       "      <td>0</td>\n",
       "      <td>0</td>\n",
       "      <td>0</td>\n",
       "      <td>1</td>\n",
       "      <td>0</td>\n",
       "      <td>0</td>\n",
       "      <td>0</td>\n",
       "      <td>1.367392</td>\n",
       "      <td>1.952526</td>\n",
       "      <td>-2.063813</td>\n",
       "      <td>-0.510197</td>\n",
       "    </tr>\n",
       "    <tr>\n",
       "      <th>2</th>\n",
       "      <td>100004</td>\n",
       "      <td>Laborers</td>\n",
       "      <td>0</td>\n",
       "      <td>1</td>\n",
       "      <td>1</td>\n",
       "      <td>0</td>\n",
       "      <td>1</td>\n",
       "      <td>0</td>\n",
       "      <td>0</td>\n",
       "      <td>0</td>\n",
       "      <td>0</td>\n",
       "      <td>0</td>\n",
       "      <td>1</td>\n",
       "      <td>-1.330114</td>\n",
       "      <td>-1.264924</td>\n",
       "      <td>-0.098914</td>\n",
       "      <td>-0.922544</td>\n",
       "    </tr>\n",
       "    <tr>\n",
       "      <th>3</th>\n",
       "      <td>100006</td>\n",
       "      <td>Laborers</td>\n",
       "      <td>0</td>\n",
       "      <td>0</td>\n",
       "      <td>0</td>\n",
       "      <td>1</td>\n",
       "      <td>0</td>\n",
       "      <td>0</td>\n",
       "      <td>0</td>\n",
       "      <td>0</td>\n",
       "      <td>0</td>\n",
       "      <td>0</td>\n",
       "      <td>1</td>\n",
       "      <td>-0.471817</td>\n",
       "      <td>-0.792568</td>\n",
       "      <td>-0.098914</td>\n",
       "      <td>0.282382</td>\n",
       "    </tr>\n",
       "    <tr>\n",
       "      <th>4</th>\n",
       "      <td>100007</td>\n",
       "      <td>Core staff</td>\n",
       "      <td>0</td>\n",
       "      <td>0</td>\n",
       "      <td>0</td>\n",
       "      <td>0</td>\n",
       "      <td>1</td>\n",
       "      <td>0</td>\n",
       "      <td>0</td>\n",
       "      <td>0</td>\n",
       "      <td>0</td>\n",
       "      <td>0</td>\n",
       "      <td>1</td>\n",
       "      <td>-0.655737</td>\n",
       "      <td>-0.231924</td>\n",
       "      <td>-0.098914</td>\n",
       "      <td>0.281954</td>\n",
       "    </tr>\n",
       "  </tbody>\n",
       "</table>\n",
       "</div>"
      ],
      "text/plain": [
       "   SK_ID_CURR OCCUPATION_TYPE  FLAG_EMAIL  FLAG_OWN_CAR_1  \\\n",
       "0      100002        Laborers           0               0   \n",
       "1      100003      Core staff           0               0   \n",
       "2      100004        Laborers           0               1   \n",
       "3      100006        Laborers           0               0   \n",
       "4      100007      Core staff           0               0   \n",
       "\n",
       "   NAME_CONTRACT_TYPE_1  CODE_GENDER_F  CODE_GENDER_M  CODE_GENDER_XNA  \\\n",
       "0                     0              0              1                0   \n",
       "1                     0              1              0                0   \n",
       "2                     1              0              1                0   \n",
       "3                     0              1              0                0   \n",
       "4                     0              0              1                0   \n",
       "\n",
       "   NAME_EDUCATION_TYPE_Academic degree  NAME_EDUCATION_TYPE_Higher education  \\\n",
       "0                                    0                                     0   \n",
       "1                                    0                                     1   \n",
       "2                                    0                                     0   \n",
       "3                                    0                                     0   \n",
       "4                                    0                                     0   \n",
       "\n",
       "   NAME_EDUCATION_TYPE_Incomplete higher  NAME_EDUCATION_TYPE_Lower secondary  \\\n",
       "0                                      0                                    0   \n",
       "1                                      0                                    0   \n",
       "2                                      0                                    0   \n",
       "3                                      0                                    0   \n",
       "4                                      0                                    0   \n",
       "\n",
       "   NAME_EDUCATION_TYPE_Secondary / secondary special  AMT_INCOME_TOTAL  \\\n",
       "0                                                  1          0.447788   \n",
       "1                                                  0          1.367392   \n",
       "2                                                  1         -1.330114   \n",
       "3                                                  1         -0.471817   \n",
       "4                                                  1         -0.655737   \n",
       "\n",
       "   AMT_CREDIT  REGION_RATING_CLIENT  YEARS_EMPLOYED  \n",
       "0   -0.529721             -0.098914       -0.746129  \n",
       "1    1.952526             -2.063813       -0.510197  \n",
       "2   -1.264924             -0.098914       -0.922544  \n",
       "3   -0.792568             -0.098914        0.282382  \n",
       "4   -0.231924             -0.098914        0.281954  "
      ]
     },
     "execution_count": 64,
     "metadata": {},
     "output_type": "execute_result"
    }
   ],
   "source": [
    "train_df_occ1.drop(['AMT_INCOME_TOTAL','AMT_CREDIT','REGION_RATING_CLIENT','YEARS_EMPLOYED'],axis=1,inplace=True)\n",
    "\n",
    "train_df_occ1['AMT_INCOME_TOTAL']= scaled_df['AMT_INCOME_TOTAL'].tolist()\n",
    "train_df_occ1['AMT_CREDIT']= scaled_df['AMT_CREDIT'].tolist()\n",
    "train_df_occ1['REGION_RATING_CLIENT']= scaled_df['REGION_RATING_CLIENT'].tolist()\n",
    "train_df_occ1['YEARS_EMPLOYED']= scaled_df['YEARS_EMPLOYED'].tolist()\n",
    "train_df_occ1.head(5)"
   ]
  },
  {
   "cell_type": "code",
   "execution_count": 65,
   "metadata": {},
   "outputs": [],
   "source": [
    "\n",
    "\n",
    "X= train_df_occ1.iloc[:,2:]\n",
    "y= train_df_occ1.iloc[:,1]\n",
    "\n",
    "X_train, X_test, y_train, y_test = train_test_split(X, y, random_state = 0) \n",
    "  \n",
    "# training a linear SVM classifier \n",
    "from sklearn.svm import SVC \n",
    "svm_model_linear = SVC(kernel = 'linear', C = 1).fit(X_train, y_train) \n",
    "svm_predictions = svm_model_linear.predict(X_test) \n",
    "  \n",
    "# model accuracy for X_test   \n",
    "accuracy = svm_model_linear.score(X_test, y_test) \n",
    "  \n",
    "# creating a confusion matrix \n",
    "cm = confusion_matrix(y_test, svm_predictions) "
   ]
  },
  {
   "cell_type": "code",
   "execution_count": 66,
   "metadata": {},
   "outputs": [
    {
     "data": {
      "text/plain": [
       "0.33502314726250143"
      ]
     },
     "execution_count": 66,
     "metadata": {},
     "output_type": "execute_result"
    }
   ],
   "source": [
    "accuracy"
   ]
  },
  {
   "cell_type": "code",
   "execution_count": 67,
   "metadata": {},
   "outputs": [],
   "source": [
    "\n",
    "clf = RandomForestClassifier(\n",
    "    n_estimators=100,\n",
    "    criterion='gini',\n",
    "    max_depth=5,\n",
    "    min_samples_split=2,)"
   ]
  },
  {
   "cell_type": "code",
   "execution_count": 68,
   "metadata": {},
   "outputs": [
    {
     "data": {
      "text/plain": [
       "array(['Accountants', 'Cleaning staff', 'Cooking staff', 'Core staff',\n",
       "       'Drivers', 'HR staff', 'High skill tech staff', 'IT staff',\n",
       "       'Laborers', 'Low-skill Laborers', 'Managers', 'Medicine staff',\n",
       "       'Private service staff', 'Realty agents', 'Sales staff',\n",
       "       'Secretaries', 'Security staff', 'Waiters/barmen staff'],\n",
       "      dtype=object)"
      ]
     },
     "execution_count": 68,
     "metadata": {},
     "output_type": "execute_result"
    }
   ],
   "source": [
    "np.unique(y)"
   ]
  },
  {
   "cell_type": "code",
   "execution_count": 69,
   "metadata": {},
   "outputs": [],
   "source": [
    "y=train_df_occ1.iloc[:,1].map({'Accountants': 1, 'Cleaning staff': 2, 'Cooking staff':3,'Core staff': 4, 'Drivers':5,\\\n",
    "      'HR staff':6, 'High skill tech staff':7, 'IT staff':8,\\\n",
    "       'Laborers':9, 'Low-skill Laborers':10, 'Managers':11, 'Medicine staff':12,\\\n",
    "       'Private service staff':13, 'Realty agents':14, 'Sales staff':15,\\\n",
    "       'Secretaries':16, 'Security staff':17, 'Waiters/barmen staff':18})"
   ]
  },
  {
   "cell_type": "code",
   "execution_count": 70,
   "metadata": {},
   "outputs": [],
   "source": [
    "from sklearn.model_selection import StratifiedKFold\n",
    "from sklearn import metrics\n",
    "\n",
    "cv = StratifiedKFold(n_splits=5, random_state=123, shuffle=True)\n",
    "results = pd.DataFrame(columns=['training_score', 'test_score'])\n",
    "fprs, tprs, scores = [], [], []\n",
    "    \n",
    "for (train, test), i in zip(cv.split(X, y), range(5)):\n",
    "    clf.fit(X.iloc[train], y.iloc[train])\n",
    "    pred_train=clf.predict( X.iloc[train])\n",
    "    pred_test=clf.predict( X.iloc[test])\n",
    "    acc_score_train = metrics.accuracy_score(y.iloc[train],pred_train )\n",
    "    acc_score = metrics.accuracy_score(y.iloc[test],pred_test)\n",
    "    scores.append((acc_score_train, acc_score))"
   ]
  },
  {
   "cell_type": "code",
   "execution_count": 71,
   "metadata": {},
   "outputs": [
    {
     "data": {
      "text/html": [
       "<div>\n",
       "<style scoped>\n",
       "    .dataframe tbody tr th:only-of-type {\n",
       "        vertical-align: middle;\n",
       "    }\n",
       "\n",
       "    .dataframe tbody tr th {\n",
       "        vertical-align: top;\n",
       "    }\n",
       "\n",
       "    .dataframe thead th {\n",
       "        text-align: right;\n",
       "    }\n",
       "</style>\n",
       "<table border=\"1\" class=\"dataframe\">\n",
       "  <thead>\n",
       "    <tr style=\"text-align: right;\">\n",
       "      <th></th>\n",
       "      <th>ACC Train</th>\n",
       "      <th>ACC Test</th>\n",
       "    </tr>\n",
       "  </thead>\n",
       "  <tbody>\n",
       "    <tr>\n",
       "      <th>0</th>\n",
       "      <td>0.342986</td>\n",
       "      <td>0.340052</td>\n",
       "    </tr>\n",
       "    <tr>\n",
       "      <th>1</th>\n",
       "      <td>0.342556</td>\n",
       "      <td>0.341176</td>\n",
       "    </tr>\n",
       "    <tr>\n",
       "      <th>2</th>\n",
       "      <td>0.342855</td>\n",
       "      <td>0.342563</td>\n",
       "    </tr>\n",
       "    <tr>\n",
       "      <th>3</th>\n",
       "      <td>0.341930</td>\n",
       "      <td>0.343680</td>\n",
       "    </tr>\n",
       "    <tr>\n",
       "      <th>4</th>\n",
       "      <td>0.342179</td>\n",
       "      <td>0.341154</td>\n",
       "    </tr>\n",
       "  </tbody>\n",
       "</table>\n",
       "</div>"
      ],
      "text/plain": [
       "   ACC Train  ACC Test\n",
       "0   0.342986  0.340052\n",
       "1   0.342556  0.341176\n",
       "2   0.342855  0.342563\n",
       "3   0.341930  0.343680\n",
       "4   0.342179  0.341154"
      ]
     },
     "execution_count": 71,
     "metadata": {},
     "output_type": "execute_result"
    }
   ],
   "source": [
    "pd.DataFrame(scores, columns=['ACC Train', 'ACC Test'])"
   ]
  },
  {
   "cell_type": "code",
   "execution_count": 72,
   "metadata": {},
   "outputs": [],
   "source": [
    "clf2 = RandomForestClassifier(\n",
    "    n_estimators=500,\n",
    "    criterion='gini',\n",
    "    max_depth=10)"
   ]
  },
  {
   "cell_type": "code",
   "execution_count": 73,
   "metadata": {},
   "outputs": [],
   "source": [
    "cv = StratifiedKFold(n_splits=5, random_state=123, shuffle=True)\n",
    "results = pd.DataFrame(columns=['training_score', 'test_score'])\n",
    "scores = []\n",
    "    \n",
    "for (train, test), i in zip(cv.split(X, y), range(5)):\n",
    "    clf2.fit(X.iloc[train], y.iloc[train])\n",
    "    pred_train=clf2.predict( X.iloc[train])\n",
    "    pred_test=clf2.predict( X.iloc[test])\n",
    "    acc_score_train = metrics.accuracy_score(y.iloc[train],pred_train )\n",
    "    acc_score = metrics.accuracy_score(y.iloc[test],pred_test)\n",
    "    scores.append((acc_score_train, acc_score))"
   ]
  },
  {
   "cell_type": "code",
   "execution_count": 74,
   "metadata": {},
   "outputs": [
    {
     "data": {
      "text/html": [
       "<div>\n",
       "<style scoped>\n",
       "    .dataframe tbody tr th:only-of-type {\n",
       "        vertical-align: middle;\n",
       "    }\n",
       "\n",
       "    .dataframe tbody tr th {\n",
       "        vertical-align: top;\n",
       "    }\n",
       "\n",
       "    .dataframe thead th {\n",
       "        text-align: right;\n",
       "    }\n",
       "</style>\n",
       "<table border=\"1\" class=\"dataframe\">\n",
       "  <thead>\n",
       "    <tr style=\"text-align: right;\">\n",
       "      <th></th>\n",
       "      <th>ACC Train</th>\n",
       "      <th>ACC Test</th>\n",
       "    </tr>\n",
       "  </thead>\n",
       "  <tbody>\n",
       "    <tr>\n",
       "      <th>0</th>\n",
       "      <td>0.358046</td>\n",
       "      <td>0.343542</td>\n",
       "    </tr>\n",
       "    <tr>\n",
       "      <th>1</th>\n",
       "      <td>0.357161</td>\n",
       "      <td>0.343328</td>\n",
       "    </tr>\n",
       "    <tr>\n",
       "      <th>2</th>\n",
       "      <td>0.357286</td>\n",
       "      <td>0.343161</td>\n",
       "    </tr>\n",
       "    <tr>\n",
       "      <th>3</th>\n",
       "      <td>0.357084</td>\n",
       "      <td>0.345713</td>\n",
       "    </tr>\n",
       "    <tr>\n",
       "      <th>4</th>\n",
       "      <td>0.357153</td>\n",
       "      <td>0.344503</td>\n",
       "    </tr>\n",
       "  </tbody>\n",
       "</table>\n",
       "</div>"
      ],
      "text/plain": [
       "   ACC Train  ACC Test\n",
       "0   0.358046  0.343542\n",
       "1   0.357161  0.343328\n",
       "2   0.357286  0.343161\n",
       "3   0.357084  0.345713\n",
       "4   0.357153  0.344503"
      ]
     },
     "execution_count": 74,
     "metadata": {},
     "output_type": "execute_result"
    }
   ],
   "source": [
    "pd.DataFrame(scores, columns=['ACC Train', 'ACC Test'])"
   ]
  },
  {
   "cell_type": "code",
   "execution_count": 75,
   "metadata": {},
   "outputs": [],
   "source": [
    "features_df= pd.DataFrame(columns=['col','importance'])\n",
    "\n",
    "features_df.col= X.columns.tolist()\n",
    "\n",
    "features_df.importance=  clf2.feature_importances_"
   ]
  },
  {
   "cell_type": "code",
   "execution_count": 76,
   "metadata": {},
   "outputs": [],
   "source": [
    "features_df.sort_values('importance',ascending=False,inplace=True)"
   ]
  },
  {
   "cell_type": "code",
   "execution_count": 77,
   "metadata": {},
   "outputs": [],
   "source": [
    "imp_df= features_df[:5]\n",
    "\n",
    "imp_df.importance.sum()\n",
    "\n",
    "impcol=imp_df.col.tolist()"
   ]
  },
  {
   "cell_type": "code",
   "execution_count": 78,
   "metadata": {},
   "outputs": [],
   "source": [
    "newX= X[impcol]"
   ]
  },
  {
   "cell_type": "code",
   "execution_count": 79,
   "metadata": {},
   "outputs": [
    {
     "data": {
      "text/plain": [
       "Index(['CODE_GENDER_M', 'CODE_GENDER_F',\n",
       "       'NAME_EDUCATION_TYPE_Higher education',\n",
       "       'NAME_EDUCATION_TYPE_Secondary / secondary special',\n",
       "       'AMT_INCOME_TOTAL'],\n",
       "      dtype='object')"
      ]
     },
     "execution_count": 79,
     "metadata": {},
     "output_type": "execute_result"
    }
   ],
   "source": [
    "newX.columns"
   ]
  },
  {
   "cell_type": "code",
   "execution_count": 81,
   "metadata": {},
   "outputs": [],
   "source": [
    "cv = StratifiedKFold(n_splits=5, random_state=123, shuffle=True)\n",
    "results = pd.DataFrame(columns=['training_score', 'test_score'])\n",
    "scores = []\n",
    "\n",
    "for (train, test), i in zip(cv.split(newX, y), range(5)):\n",
    "    clf.fit(X.iloc[train], y.iloc[train])\n",
    "    pred_train=clf.predict( X.iloc[train])\n",
    "    pred_test=clf.predict( X.iloc[test])\n",
    "    acc_score_train = metrics.accuracy_score(y.iloc[train],pred_train )\n",
    "    acc_score = metrics.accuracy_score(y.iloc[test],pred_test)\n",
    "    scores.append((acc_score_train, acc_score))"
   ]
  },
  {
   "cell_type": "code",
   "execution_count": 82,
   "metadata": {},
   "outputs": [
    {
     "data": {
      "text/html": [
       "<div>\n",
       "<style scoped>\n",
       "    .dataframe tbody tr th:only-of-type {\n",
       "        vertical-align: middle;\n",
       "    }\n",
       "\n",
       "    .dataframe tbody tr th {\n",
       "        vertical-align: top;\n",
       "    }\n",
       "\n",
       "    .dataframe thead th {\n",
       "        text-align: right;\n",
       "    }\n",
       "</style>\n",
       "<table border=\"1\" class=\"dataframe\">\n",
       "  <thead>\n",
       "    <tr style=\"text-align: right;\">\n",
       "      <th></th>\n",
       "      <th>ACC Train</th>\n",
       "      <th>ACC Test</th>\n",
       "    </tr>\n",
       "  </thead>\n",
       "  <tbody>\n",
       "    <tr>\n",
       "      <th>0</th>\n",
       "      <td>0.342849</td>\n",
       "      <td>0.340099</td>\n",
       "    </tr>\n",
       "    <tr>\n",
       "      <th>1</th>\n",
       "      <td>0.343016</td>\n",
       "      <td>0.342132</td>\n",
       "    </tr>\n",
       "    <tr>\n",
       "      <th>2</th>\n",
       "      <td>0.343159</td>\n",
       "      <td>0.342324</td>\n",
       "    </tr>\n",
       "    <tr>\n",
       "      <th>3</th>\n",
       "      <td>0.341404</td>\n",
       "      <td>0.343035</td>\n",
       "    </tr>\n",
       "    <tr>\n",
       "      <th>4</th>\n",
       "      <td>0.342986</td>\n",
       "      <td>0.342302</td>\n",
       "    </tr>\n",
       "  </tbody>\n",
       "</table>\n",
       "</div>"
      ],
      "text/plain": [
       "   ACC Train  ACC Test\n",
       "0   0.342849  0.340099\n",
       "1   0.343016  0.342132\n",
       "2   0.343159  0.342324\n",
       "3   0.341404  0.343035\n",
       "4   0.342986  0.342302"
      ]
     },
     "execution_count": 82,
     "metadata": {},
     "output_type": "execute_result"
    }
   ],
   "source": [
    "pd.DataFrame(scores, columns=['ACC Train', 'ACC Test'])"
   ]
  },
  {
   "cell_type": "code",
   "execution_count": null,
   "metadata": {},
   "outputs": [],
   "source": []
  }
 ],
 "metadata": {
  "kernelspec": {
   "display_name": "Python 3",
   "language": "python",
   "name": "python3"
  },
  "language_info": {
   "codemirror_mode": {
    "name": "ipython",
    "version": 3
   },
   "file_extension": ".py",
   "mimetype": "text/x-python",
   "name": "python",
   "nbconvert_exporter": "python",
   "pygments_lexer": "ipython3",
   "version": "3.5.6"
  }
 },
 "nbformat": 4,
 "nbformat_minor": 2
}
