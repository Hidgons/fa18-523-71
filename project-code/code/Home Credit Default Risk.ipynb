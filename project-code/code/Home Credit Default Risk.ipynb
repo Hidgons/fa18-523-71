{
 "cells": [
  {
   "cell_type": "code",
   "execution_count": 201,
   "metadata": {},
   "outputs": [],
   "source": [
    "import numpy as np\n",
    "import pandas as pd\n",
    "from matplotlib import pyplot as plt\n",
    "import warnings\n",
    "warnings.filterwarnings('ignore')\n",
    "import seaborn as sns\n",
    "from sklearn import preprocessing\n",
    "from sklearn import datasets \n",
    "from sklearn.metrics import confusion_matrix\n",
    "from sklearn.model_selection import train_test_split \n",
    "from sklearn import svm, datasets\n",
    "from sklearn.ensemble import RandomForestClassifier\n",
    "from sklearn.neighbors import KNeighborsClassifier\n",
    "from sklearn.model_selection import StratifiedKFold\n",
    "from sklearn.metrics import accuracy_score"
   ]
  },
  {
   "cell_type": "code",
   "execution_count": 2,
   "metadata": {},
   "outputs": [],
   "source": [
    "\n",
    "dataframe_file0 = pd.read_csv('application_train0.csv')\n",
    "dataframe_file1 = pd.read_csv('application_train1.csv')\n",
    "dataframe_file2 = pd.read_csv('application_train2.csv')\n",
    "dataframe_file3 = pd.read_csv('application_train3.csv')\n",
    "dataframe_file4 = pd.read_csv('application_train4.csv')\n",
    "\n",
    "listdf=[dataframe_file0,dataframe_file1,dataframe_file2,dataframe_file3,dataframe_file4]\n",
    "train_df= pd.concat( listdf,axis=0)\n",
    "train_df=train_df.iloc[:,1:]\n"
   ]
  },
  {
   "cell_type": "code",
   "execution_count": 3,
   "metadata": {},
   "outputs": [],
   "source": [
    "test_df= pd.read_csv('application_train5.csv')\n",
    "test_df=test_df.iloc[:,1:]"
   ]
  },
  {
   "cell_type": "code",
   "execution_count": 4,
   "metadata": {},
   "outputs": [
    {
     "name": "stdout",
     "output_type": "stream",
     "text": [
      "The dataframe shape is : (150000, 122)\n"
     ]
    }
   ],
   "source": [
    "# the size of the dataframe\n",
    "\n",
    "print(\"The dataframe shape is :\",train_df.shape)"
   ]
  },
  {
   "cell_type": "code",
   "execution_count": 5,
   "metadata": {},
   "outputs": [
    {
     "name": "stdout",
     "output_type": "stream",
     "text": [
      "Of the 122 The no. of numeric columns 106\n"
     ]
    },
    {
     "data": {
      "text/html": [
       "<div>\n",
       "<style scoped>\n",
       "    .dataframe tbody tr th:only-of-type {\n",
       "        vertical-align: middle;\n",
       "    }\n",
       "\n",
       "    .dataframe tbody tr th {\n",
       "        vertical-align: top;\n",
       "    }\n",
       "\n",
       "    .dataframe thead th {\n",
       "        text-align: right;\n",
       "    }\n",
       "</style>\n",
       "<table border=\"1\" class=\"dataframe\">\n",
       "  <thead>\n",
       "    <tr style=\"text-align: right;\">\n",
       "      <th></th>\n",
       "      <th>SK_ID_CURR</th>\n",
       "      <th>TARGET</th>\n",
       "      <th>CNT_CHILDREN</th>\n",
       "      <th>DAYS_BIRTH</th>\n",
       "      <th>DAYS_EMPLOYED</th>\n",
       "      <th>DAYS_ID_PUBLISH</th>\n",
       "      <th>FLAG_MOBIL</th>\n",
       "      <th>FLAG_EMP_PHONE</th>\n",
       "      <th>FLAG_WORK_PHONE</th>\n",
       "      <th>FLAG_CONT_MOBILE</th>\n",
       "      <th>...</th>\n",
       "      <th>FLAG_DOCUMENT_12</th>\n",
       "      <th>FLAG_DOCUMENT_13</th>\n",
       "      <th>FLAG_DOCUMENT_14</th>\n",
       "      <th>FLAG_DOCUMENT_15</th>\n",
       "      <th>FLAG_DOCUMENT_16</th>\n",
       "      <th>FLAG_DOCUMENT_17</th>\n",
       "      <th>FLAG_DOCUMENT_18</th>\n",
       "      <th>FLAG_DOCUMENT_19</th>\n",
       "      <th>FLAG_DOCUMENT_20</th>\n",
       "      <th>FLAG_DOCUMENT_21</th>\n",
       "    </tr>\n",
       "  </thead>\n",
       "  <tbody>\n",
       "    <tr>\n",
       "      <th>count</th>\n",
       "      <td>150000.000000</td>\n",
       "      <td>150000.000000</td>\n",
       "      <td>150000.000000</td>\n",
       "      <td>150000.000000</td>\n",
       "      <td>150000.000000</td>\n",
       "      <td>150000.000000</td>\n",
       "      <td>150000.000000</td>\n",
       "      <td>150000.000000</td>\n",
       "      <td>150000.000000</td>\n",
       "      <td>150000.000000</td>\n",
       "      <td>...</td>\n",
       "      <td>150000.000000</td>\n",
       "      <td>150000.000000</td>\n",
       "      <td>150000.000000</td>\n",
       "      <td>150000.000000</td>\n",
       "      <td>150000.000000</td>\n",
       "      <td>150000.000000</td>\n",
       "      <td>150000.000000</td>\n",
       "      <td>150000.000000</td>\n",
       "      <td>150000.000000</td>\n",
       "      <td>150000.000000</td>\n",
       "    </tr>\n",
       "    <tr>\n",
       "      <th>mean</th>\n",
       "      <td>186995.246367</td>\n",
       "      <td>0.081687</td>\n",
       "      <td>0.418173</td>\n",
       "      <td>-16022.583467</td>\n",
       "      <td>63600.189720</td>\n",
       "      <td>-2993.618193</td>\n",
       "      <td>0.999993</td>\n",
       "      <td>0.820473</td>\n",
       "      <td>0.199667</td>\n",
       "      <td>0.997967</td>\n",
       "      <td>...</td>\n",
       "      <td>0.000007</td>\n",
       "      <td>0.003513</td>\n",
       "      <td>0.002980</td>\n",
       "      <td>0.001127</td>\n",
       "      <td>0.009840</td>\n",
       "      <td>0.000233</td>\n",
       "      <td>0.008073</td>\n",
       "      <td>0.000600</td>\n",
       "      <td>0.000513</td>\n",
       "      <td>0.000313</td>\n",
       "    </tr>\n",
       "    <tr>\n",
       "      <th>std</th>\n",
       "      <td>50210.640888</td>\n",
       "      <td>0.273888</td>\n",
       "      <td>0.721222</td>\n",
       "      <td>4368.779131</td>\n",
       "      <td>141090.185226</td>\n",
       "      <td>1511.139528</td>\n",
       "      <td>0.002582</td>\n",
       "      <td>0.383794</td>\n",
       "      <td>0.399751</td>\n",
       "      <td>0.045047</td>\n",
       "      <td>...</td>\n",
       "      <td>0.002582</td>\n",
       "      <td>0.059169</td>\n",
       "      <td>0.054508</td>\n",
       "      <td>0.033547</td>\n",
       "      <td>0.098708</td>\n",
       "      <td>0.015274</td>\n",
       "      <td>0.089489</td>\n",
       "      <td>0.024488</td>\n",
       "      <td>0.022651</td>\n",
       "      <td>0.017699</td>\n",
       "    </tr>\n",
       "    <tr>\n",
       "      <th>min</th>\n",
       "      <td>100002.000000</td>\n",
       "      <td>0.000000</td>\n",
       "      <td>0.000000</td>\n",
       "      <td>-25201.000000</td>\n",
       "      <td>-17531.000000</td>\n",
       "      <td>-7197.000000</td>\n",
       "      <td>0.000000</td>\n",
       "      <td>0.000000</td>\n",
       "      <td>0.000000</td>\n",
       "      <td>0.000000</td>\n",
       "      <td>...</td>\n",
       "      <td>0.000000</td>\n",
       "      <td>0.000000</td>\n",
       "      <td>0.000000</td>\n",
       "      <td>0.000000</td>\n",
       "      <td>0.000000</td>\n",
       "      <td>0.000000</td>\n",
       "      <td>0.000000</td>\n",
       "      <td>0.000000</td>\n",
       "      <td>0.000000</td>\n",
       "      <td>0.000000</td>\n",
       "    </tr>\n",
       "    <tr>\n",
       "      <th>25%</th>\n",
       "      <td>143440.500000</td>\n",
       "      <td>0.000000</td>\n",
       "      <td>0.000000</td>\n",
       "      <td>-19670.000000</td>\n",
       "      <td>-2752.000000</td>\n",
       "      <td>-4299.000000</td>\n",
       "      <td>1.000000</td>\n",
       "      <td>1.000000</td>\n",
       "      <td>0.000000</td>\n",
       "      <td>1.000000</td>\n",
       "      <td>...</td>\n",
       "      <td>0.000000</td>\n",
       "      <td>0.000000</td>\n",
       "      <td>0.000000</td>\n",
       "      <td>0.000000</td>\n",
       "      <td>0.000000</td>\n",
       "      <td>0.000000</td>\n",
       "      <td>0.000000</td>\n",
       "      <td>0.000000</td>\n",
       "      <td>0.000000</td>\n",
       "      <td>0.000000</td>\n",
       "    </tr>\n",
       "    <tr>\n",
       "      <th>50%</th>\n",
       "      <td>186982.500000</td>\n",
       "      <td>0.000000</td>\n",
       "      <td>0.000000</td>\n",
       "      <td>-15728.500000</td>\n",
       "      <td>-1214.000000</td>\n",
       "      <td>-3255.000000</td>\n",
       "      <td>1.000000</td>\n",
       "      <td>1.000000</td>\n",
       "      <td>0.000000</td>\n",
       "      <td>1.000000</td>\n",
       "      <td>...</td>\n",
       "      <td>0.000000</td>\n",
       "      <td>0.000000</td>\n",
       "      <td>0.000000</td>\n",
       "      <td>0.000000</td>\n",
       "      <td>0.000000</td>\n",
       "      <td>0.000000</td>\n",
       "      <td>0.000000</td>\n",
       "      <td>0.000000</td>\n",
       "      <td>0.000000</td>\n",
       "      <td>0.000000</td>\n",
       "    </tr>\n",
       "    <tr>\n",
       "      <th>75%</th>\n",
       "      <td>230504.250000</td>\n",
       "      <td>0.000000</td>\n",
       "      <td>1.000000</td>\n",
       "      <td>-12382.000000</td>\n",
       "      <td>-289.000000</td>\n",
       "      <td>-1714.000000</td>\n",
       "      <td>1.000000</td>\n",
       "      <td>1.000000</td>\n",
       "      <td>0.000000</td>\n",
       "      <td>1.000000</td>\n",
       "      <td>...</td>\n",
       "      <td>0.000000</td>\n",
       "      <td>0.000000</td>\n",
       "      <td>0.000000</td>\n",
       "      <td>0.000000</td>\n",
       "      <td>0.000000</td>\n",
       "      <td>0.000000</td>\n",
       "      <td>0.000000</td>\n",
       "      <td>0.000000</td>\n",
       "      <td>0.000000</td>\n",
       "      <td>0.000000</td>\n",
       "    </tr>\n",
       "    <tr>\n",
       "      <th>max</th>\n",
       "      <td>273888.000000</td>\n",
       "      <td>1.000000</td>\n",
       "      <td>12.000000</td>\n",
       "      <td>-7676.000000</td>\n",
       "      <td>365243.000000</td>\n",
       "      <td>0.000000</td>\n",
       "      <td>1.000000</td>\n",
       "      <td>1.000000</td>\n",
       "      <td>1.000000</td>\n",
       "      <td>1.000000</td>\n",
       "      <td>...</td>\n",
       "      <td>1.000000</td>\n",
       "      <td>1.000000</td>\n",
       "      <td>1.000000</td>\n",
       "      <td>1.000000</td>\n",
       "      <td>1.000000</td>\n",
       "      <td>1.000000</td>\n",
       "      <td>1.000000</td>\n",
       "      <td>1.000000</td>\n",
       "      <td>1.000000</td>\n",
       "      <td>1.000000</td>\n",
       "    </tr>\n",
       "  </tbody>\n",
       "</table>\n",
       "<p>8 rows × 41 columns</p>\n",
       "</div>"
      ],
      "text/plain": [
       "          SK_ID_CURR         TARGET   CNT_CHILDREN     DAYS_BIRTH  \\\n",
       "count  150000.000000  150000.000000  150000.000000  150000.000000   \n",
       "mean   186995.246367       0.081687       0.418173  -16022.583467   \n",
       "std     50210.640888       0.273888       0.721222    4368.779131   \n",
       "min    100002.000000       0.000000       0.000000  -25201.000000   \n",
       "25%    143440.500000       0.000000       0.000000  -19670.000000   \n",
       "50%    186982.500000       0.000000       0.000000  -15728.500000   \n",
       "75%    230504.250000       0.000000       1.000000  -12382.000000   \n",
       "max    273888.000000       1.000000      12.000000   -7676.000000   \n",
       "\n",
       "       DAYS_EMPLOYED  DAYS_ID_PUBLISH     FLAG_MOBIL  FLAG_EMP_PHONE  \\\n",
       "count  150000.000000    150000.000000  150000.000000   150000.000000   \n",
       "mean    63600.189720     -2993.618193       0.999993        0.820473   \n",
       "std    141090.185226      1511.139528       0.002582        0.383794   \n",
       "min    -17531.000000     -7197.000000       0.000000        0.000000   \n",
       "25%     -2752.000000     -4299.000000       1.000000        1.000000   \n",
       "50%     -1214.000000     -3255.000000       1.000000        1.000000   \n",
       "75%      -289.000000     -1714.000000       1.000000        1.000000   \n",
       "max    365243.000000         0.000000       1.000000        1.000000   \n",
       "\n",
       "       FLAG_WORK_PHONE  FLAG_CONT_MOBILE        ...         FLAG_DOCUMENT_12  \\\n",
       "count    150000.000000     150000.000000        ...            150000.000000   \n",
       "mean          0.199667          0.997967        ...                 0.000007   \n",
       "std           0.399751          0.045047        ...                 0.002582   \n",
       "min           0.000000          0.000000        ...                 0.000000   \n",
       "25%           0.000000          1.000000        ...                 0.000000   \n",
       "50%           0.000000          1.000000        ...                 0.000000   \n",
       "75%           0.000000          1.000000        ...                 0.000000   \n",
       "max           1.000000          1.000000        ...                 1.000000   \n",
       "\n",
       "       FLAG_DOCUMENT_13  FLAG_DOCUMENT_14  FLAG_DOCUMENT_15  FLAG_DOCUMENT_16  \\\n",
       "count     150000.000000     150000.000000     150000.000000     150000.000000   \n",
       "mean           0.003513          0.002980          0.001127          0.009840   \n",
       "std            0.059169          0.054508          0.033547          0.098708   \n",
       "min            0.000000          0.000000          0.000000          0.000000   \n",
       "25%            0.000000          0.000000          0.000000          0.000000   \n",
       "50%            0.000000          0.000000          0.000000          0.000000   \n",
       "75%            0.000000          0.000000          0.000000          0.000000   \n",
       "max            1.000000          1.000000          1.000000          1.000000   \n",
       "\n",
       "       FLAG_DOCUMENT_17  FLAG_DOCUMENT_18  FLAG_DOCUMENT_19  FLAG_DOCUMENT_20  \\\n",
       "count     150000.000000     150000.000000     150000.000000     150000.000000   \n",
       "mean           0.000233          0.008073          0.000600          0.000513   \n",
       "std            0.015274          0.089489          0.024488          0.022651   \n",
       "min            0.000000          0.000000          0.000000          0.000000   \n",
       "25%            0.000000          0.000000          0.000000          0.000000   \n",
       "50%            0.000000          0.000000          0.000000          0.000000   \n",
       "75%            0.000000          0.000000          0.000000          0.000000   \n",
       "max            1.000000          1.000000          1.000000          1.000000   \n",
       "\n",
       "       FLAG_DOCUMENT_21  \n",
       "count     150000.000000  \n",
       "mean           0.000313  \n",
       "std            0.017699  \n",
       "min            0.000000  \n",
       "25%            0.000000  \n",
       "50%            0.000000  \n",
       "75%            0.000000  \n",
       "max            1.000000  \n",
       "\n",
       "[8 rows x 41 columns]"
      ]
     },
     "execution_count": 5,
     "metadata": {},
     "output_type": "execute_result"
    }
   ],
   "source": [
    "print(\"Of the 122 The no. of numeric columns\",len(train_df.select_dtypes(include=['int64','float64']).columns))\n",
    "train_df.select_dtypes(include=['int64']).describe()"
   ]
  },
  {
   "cell_type": "code",
   "execution_count": 6,
   "metadata": {},
   "outputs": [
    {
     "name": "stdout",
     "output_type": "stream",
     "text": [
      "Of the 122 The no. of categorical columns 16\n"
     ]
    },
    {
     "data": {
      "text/html": [
       "<div>\n",
       "<style scoped>\n",
       "    .dataframe tbody tr th:only-of-type {\n",
       "        vertical-align: middle;\n",
       "    }\n",
       "\n",
       "    .dataframe tbody tr th {\n",
       "        vertical-align: top;\n",
       "    }\n",
       "\n",
       "    .dataframe thead th {\n",
       "        text-align: right;\n",
       "    }\n",
       "</style>\n",
       "<table border=\"1\" class=\"dataframe\">\n",
       "  <thead>\n",
       "    <tr style=\"text-align: right;\">\n",
       "      <th></th>\n",
       "      <th>NAME_CONTRACT_TYPE</th>\n",
       "      <th>CODE_GENDER</th>\n",
       "      <th>FLAG_OWN_CAR</th>\n",
       "      <th>FLAG_OWN_REALTY</th>\n",
       "      <th>NAME_TYPE_SUITE</th>\n",
       "      <th>NAME_INCOME_TYPE</th>\n",
       "      <th>NAME_EDUCATION_TYPE</th>\n",
       "      <th>NAME_FAMILY_STATUS</th>\n",
       "      <th>NAME_HOUSING_TYPE</th>\n",
       "      <th>OCCUPATION_TYPE</th>\n",
       "      <th>WEEKDAY_APPR_PROCESS_START</th>\n",
       "      <th>ORGANIZATION_TYPE</th>\n",
       "      <th>FONDKAPREMONT_MODE</th>\n",
       "      <th>HOUSETYPE_MODE</th>\n",
       "      <th>WALLSMATERIAL_MODE</th>\n",
       "      <th>EMERGENCYSTATE_MODE</th>\n",
       "    </tr>\n",
       "  </thead>\n",
       "  <tbody>\n",
       "    <tr>\n",
       "      <th>count</th>\n",
       "      <td>150000</td>\n",
       "      <td>150000</td>\n",
       "      <td>150000</td>\n",
       "      <td>150000</td>\n",
       "      <td>149386</td>\n",
       "      <td>150000</td>\n",
       "      <td>150000</td>\n",
       "      <td>150000</td>\n",
       "      <td>150000</td>\n",
       "      <td>102919</td>\n",
       "      <td>150000</td>\n",
       "      <td>150000</td>\n",
       "      <td>47439</td>\n",
       "      <td>74579</td>\n",
       "      <td>73616</td>\n",
       "      <td>78757</td>\n",
       "    </tr>\n",
       "    <tr>\n",
       "      <th>unique</th>\n",
       "      <td>2</td>\n",
       "      <td>3</td>\n",
       "      <td>2</td>\n",
       "      <td>2</td>\n",
       "      <td>7</td>\n",
       "      <td>8</td>\n",
       "      <td>5</td>\n",
       "      <td>6</td>\n",
       "      <td>6</td>\n",
       "      <td>18</td>\n",
       "      <td>7</td>\n",
       "      <td>58</td>\n",
       "      <td>4</td>\n",
       "      <td>3</td>\n",
       "      <td>7</td>\n",
       "      <td>2</td>\n",
       "    </tr>\n",
       "    <tr>\n",
       "      <th>top</th>\n",
       "      <td>Cash loans</td>\n",
       "      <td>F</td>\n",
       "      <td>N</td>\n",
       "      <td>Y</td>\n",
       "      <td>Unaccompanied</td>\n",
       "      <td>Working</td>\n",
       "      <td>Secondary / secondary special</td>\n",
       "      <td>Married</td>\n",
       "      <td>House / apartment</td>\n",
       "      <td>Laborers</td>\n",
       "      <td>TUESDAY</td>\n",
       "      <td>Business Entity Type 3</td>\n",
       "      <td>reg oper account</td>\n",
       "      <td>block of flats</td>\n",
       "      <td>Panel</td>\n",
       "      <td>No</td>\n",
       "    </tr>\n",
       "    <tr>\n",
       "      <th>freq</th>\n",
       "      <td>135737</td>\n",
       "      <td>98828</td>\n",
       "      <td>99075</td>\n",
       "      <td>103969</td>\n",
       "      <td>121219</td>\n",
       "      <td>77613</td>\n",
       "      <td>106648</td>\n",
       "      <td>96071</td>\n",
       "      <td>133161</td>\n",
       "      <td>26938</td>\n",
       "      <td>26129</td>\n",
       "      <td>33345</td>\n",
       "      <td>36050</td>\n",
       "      <td>73290</td>\n",
       "      <td>32013</td>\n",
       "      <td>77654</td>\n",
       "    </tr>\n",
       "  </tbody>\n",
       "</table>\n",
       "</div>"
      ],
      "text/plain": [
       "       NAME_CONTRACT_TYPE CODE_GENDER FLAG_OWN_CAR FLAG_OWN_REALTY  \\\n",
       "count              150000      150000       150000          150000   \n",
       "unique                  2           3            2               2   \n",
       "top            Cash loans           F            N               Y   \n",
       "freq               135737       98828        99075          103969   \n",
       "\n",
       "       NAME_TYPE_SUITE NAME_INCOME_TYPE            NAME_EDUCATION_TYPE  \\\n",
       "count           149386           150000                         150000   \n",
       "unique               7                8                              5   \n",
       "top      Unaccompanied          Working  Secondary / secondary special   \n",
       "freq            121219            77613                         106648   \n",
       "\n",
       "       NAME_FAMILY_STATUS  NAME_HOUSING_TYPE OCCUPATION_TYPE  \\\n",
       "count              150000             150000          102919   \n",
       "unique                  6                  6              18   \n",
       "top               Married  House / apartment        Laborers   \n",
       "freq                96071             133161           26938   \n",
       "\n",
       "       WEEKDAY_APPR_PROCESS_START       ORGANIZATION_TYPE FONDKAPREMONT_MODE  \\\n",
       "count                      150000                  150000              47439   \n",
       "unique                          7                      58                  4   \n",
       "top                       TUESDAY  Business Entity Type 3   reg oper account   \n",
       "freq                        26129                   33345              36050   \n",
       "\n",
       "        HOUSETYPE_MODE WALLSMATERIAL_MODE EMERGENCYSTATE_MODE  \n",
       "count            74579              73616               78757  \n",
       "unique               3                  7                   2  \n",
       "top     block of flats              Panel                  No  \n",
       "freq             73290              32013               77654  "
      ]
     },
     "execution_count": 6,
     "metadata": {},
     "output_type": "execute_result"
    }
   ],
   "source": [
    "print(\"Of the 122 The no. of categorical columns\",len(train_df.select_dtypes(include=['object']).columns))\n",
    "train_df.select_dtypes(include=['object']).describe()"
   ]
  },
  {
   "cell_type": "code",
   "execution_count": 7,
   "metadata": {},
   "outputs": [
    {
     "name": "stdout",
     "output_type": "stream",
     "text": [
      "TARGET [1, 0]\n",
      "NAME_CONTRACT_TYPE ['Cash loans', 'Revolving loans']\n",
      "FLAG_OWN_CAR ['N', 'Y']\n",
      "FLAG_OWN_REALTY ['Y', 'N']\n",
      "FLAG_MOBIL [1, 0]\n",
      "FLAG_EMP_PHONE [1, 0]\n",
      "FLAG_WORK_PHONE [0, 1]\n",
      "FLAG_CONT_MOBILE [1, 0]\n",
      "FLAG_PHONE [1, 0]\n",
      "FLAG_EMAIL [0, 1]\n",
      "REG_REGION_NOT_LIVE_REGION [0, 1]\n",
      "REG_REGION_NOT_WORK_REGION [0, 1]\n",
      "LIVE_REGION_NOT_WORK_REGION [0, 1]\n",
      "REG_CITY_NOT_LIVE_CITY [0, 1]\n",
      "REG_CITY_NOT_WORK_CITY [0, 1]\n",
      "LIVE_CITY_NOT_WORK_CITY [0, 1]\n",
      "FLAG_DOCUMENT_2 [0, 1]\n",
      "FLAG_DOCUMENT_3 [1, 0]\n",
      "FLAG_DOCUMENT_4 [0, 1]\n",
      "FLAG_DOCUMENT_5 [0, 1]\n",
      "FLAG_DOCUMENT_6 [0, 1]\n",
      "FLAG_DOCUMENT_7 [0, 1]\n",
      "FLAG_DOCUMENT_8 [0, 1]\n",
      "FLAG_DOCUMENT_9 [0, 1]\n",
      "FLAG_DOCUMENT_10 [0, 1]\n",
      "FLAG_DOCUMENT_11 [0, 1]\n",
      "FLAG_DOCUMENT_12 [0, 1]\n",
      "FLAG_DOCUMENT_13 [0, 1]\n",
      "FLAG_DOCUMENT_14 [0, 1]\n",
      "FLAG_DOCUMENT_15 [0, 1]\n",
      "FLAG_DOCUMENT_16 [0, 1]\n",
      "FLAG_DOCUMENT_17 [0, 1]\n",
      "FLAG_DOCUMENT_18 [0, 1]\n",
      "FLAG_DOCUMENT_19 [0, 1]\n",
      "FLAG_DOCUMENT_20 [0, 1]\n",
      "FLAG_DOCUMENT_21 [0, 1]\n"
     ]
    }
   ],
   "source": [
    "cols=train_df.columns.tolist()\n",
    "bi=[]\n",
    "for i in cols:\n",
    "    num_uniq=len(train_df[i].unique().tolist())\n",
    "    if num_uniq==2:\n",
    "        print(i,train_df[i].unique().tolist())\n",
    "        bi.append(i)"
   ]
  },
  {
   "cell_type": "code",
   "execution_count": 8,
   "metadata": {},
   "outputs": [
    {
     "name": "stdout",
     "output_type": "stream",
     "text": [
      "CODE_GENDER ['M', 'F', 'XNA'] \n",
      "\n",
      "NAME_TYPE_SUITE ['Unaccompanied', 'Family', 'Spouse, partner', 'Children', 'Other_A', nan, 'Other_B', 'Group of people'] \n",
      "\n",
      "NAME_INCOME_TYPE ['Working', 'State servant', 'Commercial associate', 'Pensioner', 'Unemployed', 'Student', 'Businessman', 'Maternity leave'] \n",
      "\n",
      "NAME_EDUCATION_TYPE ['Secondary / secondary special', 'Higher education', 'Incomplete higher', 'Lower secondary', 'Academic degree'] \n",
      "\n",
      "NAME_FAMILY_STATUS ['Single / not married', 'Married', 'Civil marriage', 'Widow', 'Separated', 'Unknown'] \n",
      "\n",
      "NAME_HOUSING_TYPE ['House / apartment', 'Rented apartment', 'With parents', 'Municipal apartment', 'Office apartment', 'Co-op apartment'] \n",
      "\n",
      "OCCUPATION_TYPE ['Laborers', 'Core staff', 'Accountants', 'Managers', nan, 'Drivers', 'Sales staff', 'Cleaning staff', 'Cooking staff', 'Private service staff', 'Medicine staff', 'Security staff', 'High skill tech staff', 'Waiters/barmen staff', 'Low-skill Laborers', 'Realty agents', 'Secretaries', 'IT staff', 'HR staff'] \n",
      "\n",
      "WEEKDAY_APPR_PROCESS_START ['WEDNESDAY', 'MONDAY', 'THURSDAY', 'SUNDAY', 'SATURDAY', 'FRIDAY', 'TUESDAY'] \n",
      "\n",
      "ORGANIZATION_TYPE ['Business Entity Type 3', 'School', 'Government', 'Religion', 'Other', 'XNA', 'Electricity', 'Medicine', 'Business Entity Type 2', 'Self-employed', 'Transport: type 2', 'Construction', 'Housing', 'Kindergarten', 'Trade: type 7', 'Industry: type 11', 'Military', 'Services', 'Security Ministries', 'Transport: type 4', 'Industry: type 1', 'Emergency', 'Security', 'Trade: type 2', 'University', 'Transport: type 3', 'Police', 'Business Entity Type 1', 'Postal', 'Industry: type 4', 'Agriculture', 'Restaurant', 'Culture', 'Hotel', 'Industry: type 7', 'Trade: type 3', 'Industry: type 3', 'Bank', 'Industry: type 9', 'Insurance', 'Trade: type 6', 'Industry: type 2', 'Transport: type 1', 'Industry: type 12', 'Mobile', 'Trade: type 1', 'Industry: type 5', 'Industry: type 10', 'Legal Services', 'Advertising', 'Trade: type 5', 'Cleaning', 'Industry: type 13', 'Trade: type 4', 'Telecom', 'Industry: type 8', 'Realtor', 'Industry: type 6'] \n",
      "\n",
      "FONDKAPREMONT_MODE ['reg oper account', nan, 'org spec account', 'reg oper spec account', 'not specified'] \n",
      "\n",
      "HOUSETYPE_MODE ['block of flats', nan, 'terraced house', 'specific housing'] \n",
      "\n",
      "WALLSMATERIAL_MODE ['Stone, brick', 'Block', nan, 'Panel', 'Mixed', 'Wooden', 'Others', 'Monolithic'] \n",
      "\n",
      "EMERGENCYSTATE_MODE ['No', nan, 'Yes'] \n",
      "\n"
     ]
    }
   ],
   "source": [
    "cols2=train_df.select_dtypes(include=['object']).columns.tolist()\n",
    "Ser=[]\n",
    "for i in cols2:\n",
    "    num_uniq=len(train_df[i].unique().tolist())\n",
    "    if num_uniq>2:\n",
    "        print(i,train_df[i].unique().tolist(),'\\n')\n",
    "        Ser.append(i)"
   ]
  },
  {
   "cell_type": "code",
   "execution_count": 9,
   "metadata": {},
   "outputs": [],
   "source": [
    "def missing_values(df):\n",
    "    check_df = pd.concat([df.isnull().sum(), 100 * df.isnull().sum() / len(df)], axis=1)\n",
    "    check_df.columns=['no_NANs','percentage_NANS']\n",
    "    return check_df\n",
    "\n",
    "check_df= missing_values(train_df)\n",
    "\n"
   ]
  },
  {
   "cell_type": "code",
   "execution_count": 10,
   "metadata": {},
   "outputs": [
    {
     "data": {
      "text/html": [
       "<div>\n",
       "<style scoped>\n",
       "    .dataframe tbody tr th:only-of-type {\n",
       "        vertical-align: middle;\n",
       "    }\n",
       "\n",
       "    .dataframe tbody tr th {\n",
       "        vertical-align: top;\n",
       "    }\n",
       "\n",
       "    .dataframe thead th {\n",
       "        text-align: right;\n",
       "    }\n",
       "</style>\n",
       "<table border=\"1\" class=\"dataframe\">\n",
       "  <thead>\n",
       "    <tr style=\"text-align: right;\">\n",
       "      <th></th>\n",
       "      <th>no_NANs</th>\n",
       "      <th>percentage_NANS</th>\n",
       "    </tr>\n",
       "  </thead>\n",
       "  <tbody>\n",
       "    <tr>\n",
       "      <th>CNT_FAM_MEMBERS</th>\n",
       "      <td>1</td>\n",
       "      <td>0.000667</td>\n",
       "    </tr>\n",
       "    <tr>\n",
       "      <th>DAYS_LAST_PHONE_CHANGE</th>\n",
       "      <td>1</td>\n",
       "      <td>0.000667</td>\n",
       "    </tr>\n",
       "    <tr>\n",
       "      <th>AMT_ANNUITY</th>\n",
       "      <td>8</td>\n",
       "      <td>0.005333</td>\n",
       "    </tr>\n",
       "    <tr>\n",
       "      <th>AMT_GOODS_PRICE</th>\n",
       "      <td>126</td>\n",
       "      <td>0.084000</td>\n",
       "    </tr>\n",
       "    <tr>\n",
       "      <th>EXT_SOURCE_2</th>\n",
       "      <td>328</td>\n",
       "      <td>0.218667</td>\n",
       "    </tr>\n",
       "    <tr>\n",
       "      <th>DEF_60_CNT_SOCIAL_CIRCLE</th>\n",
       "      <td>503</td>\n",
       "      <td>0.335333</td>\n",
       "    </tr>\n",
       "    <tr>\n",
       "      <th>OBS_60_CNT_SOCIAL_CIRCLE</th>\n",
       "      <td>503</td>\n",
       "      <td>0.335333</td>\n",
       "    </tr>\n",
       "    <tr>\n",
       "      <th>DEF_30_CNT_SOCIAL_CIRCLE</th>\n",
       "      <td>503</td>\n",
       "      <td>0.335333</td>\n",
       "    </tr>\n",
       "    <tr>\n",
       "      <th>OBS_30_CNT_SOCIAL_CIRCLE</th>\n",
       "      <td>503</td>\n",
       "      <td>0.335333</td>\n",
       "    </tr>\n",
       "    <tr>\n",
       "      <th>NAME_TYPE_SUITE</th>\n",
       "      <td>614</td>\n",
       "      <td>0.409333</td>\n",
       "    </tr>\n",
       "    <tr>\n",
       "      <th>AMT_REQ_CREDIT_BUREAU_MON</th>\n",
       "      <td>20117</td>\n",
       "      <td>13.411333</td>\n",
       "    </tr>\n",
       "    <tr>\n",
       "      <th>AMT_REQ_CREDIT_BUREAU_WEEK</th>\n",
       "      <td>20117</td>\n",
       "      <td>13.411333</td>\n",
       "    </tr>\n",
       "    <tr>\n",
       "      <th>AMT_REQ_CREDIT_BUREAU_DAY</th>\n",
       "      <td>20117</td>\n",
       "      <td>13.411333</td>\n",
       "    </tr>\n",
       "    <tr>\n",
       "      <th>AMT_REQ_CREDIT_BUREAU_HOUR</th>\n",
       "      <td>20117</td>\n",
       "      <td>13.411333</td>\n",
       "    </tr>\n",
       "    <tr>\n",
       "      <th>AMT_REQ_CREDIT_BUREAU_QRT</th>\n",
       "      <td>20117</td>\n",
       "      <td>13.411333</td>\n",
       "    </tr>\n",
       "    <tr>\n",
       "      <th>AMT_REQ_CREDIT_BUREAU_YEAR</th>\n",
       "      <td>20117</td>\n",
       "      <td>13.411333</td>\n",
       "    </tr>\n",
       "    <tr>\n",
       "      <th>EXT_SOURCE_3</th>\n",
       "      <td>29675</td>\n",
       "      <td>19.783333</td>\n",
       "    </tr>\n",
       "    <tr>\n",
       "      <th>OCCUPATION_TYPE</th>\n",
       "      <td>47081</td>\n",
       "      <td>31.387333</td>\n",
       "    </tr>\n",
       "    <tr>\n",
       "      <th>EMERGENCYSTATE_MODE</th>\n",
       "      <td>71243</td>\n",
       "      <td>47.495333</td>\n",
       "    </tr>\n",
       "    <tr>\n",
       "      <th>TOTALAREA_MODE</th>\n",
       "      <td>72558</td>\n",
       "      <td>48.372000</td>\n",
       "    </tr>\n",
       "    <tr>\n",
       "      <th>YEARS_BEGINEXPLUATATION_AVG</th>\n",
       "      <td>73290</td>\n",
       "      <td>48.860000</td>\n",
       "    </tr>\n",
       "    <tr>\n",
       "      <th>YEARS_BEGINEXPLUATATION_MODE</th>\n",
       "      <td>73290</td>\n",
       "      <td>48.860000</td>\n",
       "    </tr>\n",
       "    <tr>\n",
       "      <th>YEARS_BEGINEXPLUATATION_MEDI</th>\n",
       "      <td>73290</td>\n",
       "      <td>48.860000</td>\n",
       "    </tr>\n",
       "    <tr>\n",
       "      <th>FLOORSMAX_AVG</th>\n",
       "      <td>74767</td>\n",
       "      <td>49.844667</td>\n",
       "    </tr>\n",
       "    <tr>\n",
       "      <th>FLOORSMAX_MEDI</th>\n",
       "      <td>74767</td>\n",
       "      <td>49.844667</td>\n",
       "    </tr>\n",
       "    <tr>\n",
       "      <th>FLOORSMAX_MODE</th>\n",
       "      <td>74767</td>\n",
       "      <td>49.844667</td>\n",
       "    </tr>\n",
       "    <tr>\n",
       "      <th>HOUSETYPE_MODE</th>\n",
       "      <td>75421</td>\n",
       "      <td>50.280667</td>\n",
       "    </tr>\n",
       "    <tr>\n",
       "      <th>LIVINGAREA_AVG</th>\n",
       "      <td>75441</td>\n",
       "      <td>50.294000</td>\n",
       "    </tr>\n",
       "    <tr>\n",
       "      <th>LIVINGAREA_MODE</th>\n",
       "      <td>75441</td>\n",
       "      <td>50.294000</td>\n",
       "    </tr>\n",
       "    <tr>\n",
       "      <th>LIVINGAREA_MEDI</th>\n",
       "      <td>75441</td>\n",
       "      <td>50.294000</td>\n",
       "    </tr>\n",
       "    <tr>\n",
       "      <th>...</th>\n",
       "      <td>...</td>\n",
       "      <td>...</td>\n",
       "    </tr>\n",
       "    <tr>\n",
       "      <th>ELEVATORS_AVG</th>\n",
       "      <td>80103</td>\n",
       "      <td>53.402000</td>\n",
       "    </tr>\n",
       "    <tr>\n",
       "      <th>ELEVATORS_MEDI</th>\n",
       "      <td>80103</td>\n",
       "      <td>53.402000</td>\n",
       "    </tr>\n",
       "    <tr>\n",
       "      <th>ELEVATORS_MODE</th>\n",
       "      <td>80103</td>\n",
       "      <td>53.402000</td>\n",
       "    </tr>\n",
       "    <tr>\n",
       "      <th>NONLIVINGAREA_MEDI</th>\n",
       "      <td>82904</td>\n",
       "      <td>55.269333</td>\n",
       "    </tr>\n",
       "    <tr>\n",
       "      <th>NONLIVINGAREA_MODE</th>\n",
       "      <td>82904</td>\n",
       "      <td>55.269333</td>\n",
       "    </tr>\n",
       "    <tr>\n",
       "      <th>NONLIVINGAREA_AVG</th>\n",
       "      <td>82904</td>\n",
       "      <td>55.269333</td>\n",
       "    </tr>\n",
       "    <tr>\n",
       "      <th>EXT_SOURCE_1</th>\n",
       "      <td>84480</td>\n",
       "      <td>56.320000</td>\n",
       "    </tr>\n",
       "    <tr>\n",
       "      <th>BASEMENTAREA_MEDI</th>\n",
       "      <td>87878</td>\n",
       "      <td>58.585333</td>\n",
       "    </tr>\n",
       "    <tr>\n",
       "      <th>BASEMENTAREA_AVG</th>\n",
       "      <td>87878</td>\n",
       "      <td>58.585333</td>\n",
       "    </tr>\n",
       "    <tr>\n",
       "      <th>BASEMENTAREA_MODE</th>\n",
       "      <td>87878</td>\n",
       "      <td>58.585333</td>\n",
       "    </tr>\n",
       "    <tr>\n",
       "      <th>LANDAREA_MODE</th>\n",
       "      <td>89126</td>\n",
       "      <td>59.417333</td>\n",
       "    </tr>\n",
       "    <tr>\n",
       "      <th>LANDAREA_MEDI</th>\n",
       "      <td>89126</td>\n",
       "      <td>59.417333</td>\n",
       "    </tr>\n",
       "    <tr>\n",
       "      <th>LANDAREA_AVG</th>\n",
       "      <td>89126</td>\n",
       "      <td>59.417333</td>\n",
       "    </tr>\n",
       "    <tr>\n",
       "      <th>OWN_CAR_AGE</th>\n",
       "      <td>99076</td>\n",
       "      <td>66.050667</td>\n",
       "    </tr>\n",
       "    <tr>\n",
       "      <th>YEARS_BUILD_MODE</th>\n",
       "      <td>99733</td>\n",
       "      <td>66.488667</td>\n",
       "    </tr>\n",
       "    <tr>\n",
       "      <th>YEARS_BUILD_MEDI</th>\n",
       "      <td>99733</td>\n",
       "      <td>66.488667</td>\n",
       "    </tr>\n",
       "    <tr>\n",
       "      <th>YEARS_BUILD_AVG</th>\n",
       "      <td>99733</td>\n",
       "      <td>66.488667</td>\n",
       "    </tr>\n",
       "    <tr>\n",
       "      <th>FLOORSMIN_MODE</th>\n",
       "      <td>101773</td>\n",
       "      <td>67.848667</td>\n",
       "    </tr>\n",
       "    <tr>\n",
       "      <th>FLOORSMIN_MEDI</th>\n",
       "      <td>101773</td>\n",
       "      <td>67.848667</td>\n",
       "    </tr>\n",
       "    <tr>\n",
       "      <th>FLOORSMIN_AVG</th>\n",
       "      <td>101773</td>\n",
       "      <td>67.848667</td>\n",
       "    </tr>\n",
       "    <tr>\n",
       "      <th>FONDKAPREMONT_MODE</th>\n",
       "      <td>102561</td>\n",
       "      <td>68.374000</td>\n",
       "    </tr>\n",
       "    <tr>\n",
       "      <th>LIVINGAPARTMENTS_MODE</th>\n",
       "      <td>102590</td>\n",
       "      <td>68.393333</td>\n",
       "    </tr>\n",
       "    <tr>\n",
       "      <th>LIVINGAPARTMENTS_MEDI</th>\n",
       "      <td>102590</td>\n",
       "      <td>68.393333</td>\n",
       "    </tr>\n",
       "    <tr>\n",
       "      <th>LIVINGAPARTMENTS_AVG</th>\n",
       "      <td>102590</td>\n",
       "      <td>68.393333</td>\n",
       "    </tr>\n",
       "    <tr>\n",
       "      <th>NONLIVINGAPARTMENTS_MEDI</th>\n",
       "      <td>104147</td>\n",
       "      <td>69.431333</td>\n",
       "    </tr>\n",
       "    <tr>\n",
       "      <th>NONLIVINGAPARTMENTS_MODE</th>\n",
       "      <td>104147</td>\n",
       "      <td>69.431333</td>\n",
       "    </tr>\n",
       "    <tr>\n",
       "      <th>NONLIVINGAPARTMENTS_AVG</th>\n",
       "      <td>104147</td>\n",
       "      <td>69.431333</td>\n",
       "    </tr>\n",
       "    <tr>\n",
       "      <th>COMMONAREA_MODE</th>\n",
       "      <td>104837</td>\n",
       "      <td>69.891333</td>\n",
       "    </tr>\n",
       "    <tr>\n",
       "      <th>COMMONAREA_AVG</th>\n",
       "      <td>104837</td>\n",
       "      <td>69.891333</td>\n",
       "    </tr>\n",
       "    <tr>\n",
       "      <th>COMMONAREA_MEDI</th>\n",
       "      <td>104837</td>\n",
       "      <td>69.891333</td>\n",
       "    </tr>\n",
       "  </tbody>\n",
       "</table>\n",
       "<p>67 rows × 2 columns</p>\n",
       "</div>"
      ],
      "text/plain": [
       "                              no_NANs  percentage_NANS\n",
       "CNT_FAM_MEMBERS                     1         0.000667\n",
       "DAYS_LAST_PHONE_CHANGE              1         0.000667\n",
       "AMT_ANNUITY                         8         0.005333\n",
       "AMT_GOODS_PRICE                   126         0.084000\n",
       "EXT_SOURCE_2                      328         0.218667\n",
       "DEF_60_CNT_SOCIAL_CIRCLE          503         0.335333\n",
       "OBS_60_CNT_SOCIAL_CIRCLE          503         0.335333\n",
       "DEF_30_CNT_SOCIAL_CIRCLE          503         0.335333\n",
       "OBS_30_CNT_SOCIAL_CIRCLE          503         0.335333\n",
       "NAME_TYPE_SUITE                   614         0.409333\n",
       "AMT_REQ_CREDIT_BUREAU_MON       20117        13.411333\n",
       "AMT_REQ_CREDIT_BUREAU_WEEK      20117        13.411333\n",
       "AMT_REQ_CREDIT_BUREAU_DAY       20117        13.411333\n",
       "AMT_REQ_CREDIT_BUREAU_HOUR      20117        13.411333\n",
       "AMT_REQ_CREDIT_BUREAU_QRT       20117        13.411333\n",
       "AMT_REQ_CREDIT_BUREAU_YEAR      20117        13.411333\n",
       "EXT_SOURCE_3                    29675        19.783333\n",
       "OCCUPATION_TYPE                 47081        31.387333\n",
       "EMERGENCYSTATE_MODE             71243        47.495333\n",
       "TOTALAREA_MODE                  72558        48.372000\n",
       "YEARS_BEGINEXPLUATATION_AVG     73290        48.860000\n",
       "YEARS_BEGINEXPLUATATION_MODE    73290        48.860000\n",
       "YEARS_BEGINEXPLUATATION_MEDI    73290        48.860000\n",
       "FLOORSMAX_AVG                   74767        49.844667\n",
       "FLOORSMAX_MEDI                  74767        49.844667\n",
       "FLOORSMAX_MODE                  74767        49.844667\n",
       "HOUSETYPE_MODE                  75421        50.280667\n",
       "LIVINGAREA_AVG                  75441        50.294000\n",
       "LIVINGAREA_MODE                 75441        50.294000\n",
       "LIVINGAREA_MEDI                 75441        50.294000\n",
       "...                               ...              ...\n",
       "ELEVATORS_AVG                   80103        53.402000\n",
       "ELEVATORS_MEDI                  80103        53.402000\n",
       "ELEVATORS_MODE                  80103        53.402000\n",
       "NONLIVINGAREA_MEDI              82904        55.269333\n",
       "NONLIVINGAREA_MODE              82904        55.269333\n",
       "NONLIVINGAREA_AVG               82904        55.269333\n",
       "EXT_SOURCE_1                    84480        56.320000\n",
       "BASEMENTAREA_MEDI               87878        58.585333\n",
       "BASEMENTAREA_AVG                87878        58.585333\n",
       "BASEMENTAREA_MODE               87878        58.585333\n",
       "LANDAREA_MODE                   89126        59.417333\n",
       "LANDAREA_MEDI                   89126        59.417333\n",
       "LANDAREA_AVG                    89126        59.417333\n",
       "OWN_CAR_AGE                     99076        66.050667\n",
       "YEARS_BUILD_MODE                99733        66.488667\n",
       "YEARS_BUILD_MEDI                99733        66.488667\n",
       "YEARS_BUILD_AVG                 99733        66.488667\n",
       "FLOORSMIN_MODE                 101773        67.848667\n",
       "FLOORSMIN_MEDI                 101773        67.848667\n",
       "FLOORSMIN_AVG                  101773        67.848667\n",
       "FONDKAPREMONT_MODE             102561        68.374000\n",
       "LIVINGAPARTMENTS_MODE          102590        68.393333\n",
       "LIVINGAPARTMENTS_MEDI          102590        68.393333\n",
       "LIVINGAPARTMENTS_AVG           102590        68.393333\n",
       "NONLIVINGAPARTMENTS_MEDI       104147        69.431333\n",
       "NONLIVINGAPARTMENTS_MODE       104147        69.431333\n",
       "NONLIVINGAPARTMENTS_AVG        104147        69.431333\n",
       "COMMONAREA_MODE                104837        69.891333\n",
       "COMMONAREA_AVG                 104837        69.891333\n",
       "COMMONAREA_MEDI                104837        69.891333\n",
       "\n",
       "[67 rows x 2 columns]"
      ]
     },
     "execution_count": 10,
     "metadata": {},
     "output_type": "execute_result"
    }
   ],
   "source": [
    "check_df=check_df[check_df.no_NANs>0]\n",
    "check_df.sort_values(by='percentage_NANS', inplace=True)\n",
    "\n",
    "check_df"
   ]
  },
  {
   "cell_type": "markdown",
   "metadata": {},
   "source": [
    "* Less than 1% , the instances can be removed from the data. \n",
    "\n",
    "* The columns between 13- 30% can have the data replaced by median or mode \n",
    "\n"
   ]
  },
  {
   "cell_type": "code",
   "execution_count": 11,
   "metadata": {},
   "outputs": [],
   "source": [
    "rmna_cols = check_df.index[check_df.percentage_NANS<1].tolist()\n",
    "\n",
    "for i in rmna_cols:\n",
    "    train_df = train_df[pd.notnull(train_df[i])]\n",
    "\n"
   ]
  },
  {
   "cell_type": "code",
   "execution_count": 12,
   "metadata": {},
   "outputs": [],
   "source": [
    "for i in rmna_cols:\n",
    "    test_df = test_df[pd.notnull(test_df[i])]"
   ]
  },
  {
   "cell_type": "code",
   "execution_count": 13,
   "metadata": {},
   "outputs": [
    {
     "name": "stdout",
     "output_type": "stream",
     "text": [
      "The no. of columns with missing values now is:  57 \n",
      " The minimum percentage of NANs in a column: 13.40904348060236 \n",
      " The maximum percentage of NANs is: 69.93584608445698\n"
     ]
    }
   ],
   "source": [
    "check_df2= missing_values(train_df)\n",
    "check_df2=check_df2[check_df2.no_NANs>0]\n",
    "check_df2.sort_values(by='percentage_NANS', inplace=True)\n",
    "\n",
    "print(\"The no. of columns with missing values now is: \",len(check_df2),\\\n",
    "      \"\\n The minimum percentage of NANs in a column:\",check_df2.percentage_NANS.min(),\\\n",
    "     \"\\n The maximum percentage of NANs is:\",check_df2.percentage_NANS.max())"
   ]
  },
  {
   "cell_type": "code",
   "execution_count": 14,
   "metadata": {},
   "outputs": [
    {
     "data": {
      "image/png": "[encoded data removed]",
      "text/plain": [
       "<Figure size 432x288 with 1 Axes>"
      ]
     },
     "metadata": {},
     "output_type": "display_data"
    }
   ],
   "source": [
    "train_df.AMT_REQ_CREDIT_BUREAU_MON.hist()\n",
    "plt.title(\"The distribution of AMT_REQ_CREDIT_BUREAU_MO column\")\n",
    "plt.show()"
   ]
  },
  {
   "cell_type": "code",
   "execution_count": 15,
   "metadata": {},
   "outputs": [
    {
     "data": {
      "text/plain": [
       "<matplotlib.axes._subplots.AxesSubplot at 0x1e720a5a4e0>"
      ]
     },
     "execution_count": 15,
     "metadata": {},
     "output_type": "execute_result"
    },
    {
     "data": {
      "image/png": "[encoded data removed]",
      "text/plain": [
       "<Figure size 432x288 with 1 Axes>"
      ]
     },
     "metadata": {},
     "output_type": "display_data"
    }
   ],
   "source": [
    "train_df.boxplot(['AMT_REQ_CREDIT_BUREAU_MON'])"
   ]
  },
  {
   "cell_type": "code",
   "execution_count": 16,
   "metadata": {},
   "outputs": [
    {
     "data": {
      "image/png": "[encoded data removed]",
      "text/plain": [
       "<Figure size 432x288 with 1 Axes>"
      ]
     },
     "metadata": {},
     "output_type": "display_data"
    }
   ],
   "source": [
    "train_df.boxplot(['AMT_REQ_CREDIT_BUREAU_HOUR','AMT_REQ_CREDIT_BUREAU_DAY','AMT_REQ_CREDIT_BUREAU_MON','AMT_REQ_CREDIT_BUREAU_YEAR'])\n",
    "plt.xlabel('columns')\n",
    "plt.xticks( fontsize = 3)\n",
    "plt.show()\n"
   ]
  },
  {
   "cell_type": "code",
   "execution_count": 17,
   "metadata": {},
   "outputs": [],
   "source": [
    "med=train_df['AMT_REQ_CREDIT_BUREAU_YEAR'].median()\n",
    "med1=train_df['AMT_REQ_CREDIT_BUREAU_DAY'].median()\n",
    "med2=train_df['AMT_REQ_CREDIT_BUREAU_MON'].median()\n",
    "med3=train_df['AMT_REQ_CREDIT_BUREAU_HOUR'].median()\n",
    "med4=train_df['AMT_REQ_CREDIT_BUREAU_WEEK'].median()\n",
    "med5=train_df['AMT_REQ_CREDIT_BUREAU_QRT'].median()"
   ]
  },
  {
   "cell_type": "code",
   "execution_count": 18,
   "metadata": {},
   "outputs": [],
   "source": [
    "train_df['AMT_REQ_CREDIT_BUREAU_YEAR'].fillna(med, inplace=True)\n",
    "train_df['AMT_REQ_CREDIT_BUREAU_DAY'].fillna(med1, inplace=True)\n",
    "train_df['AMT_REQ_CREDIT_BUREAU_MON'].fillna(med2, inplace=True)\n",
    "train_df['AMT_REQ_CREDIT_BUREAU_HOUR'].fillna(med3, inplace=True)\n",
    "train_df['AMT_REQ_CREDIT_BUREAU_WEEK'].fillna(med4, inplace=True)\n",
    "train_df['AMT_REQ_CREDIT_BUREAU_QRT'].fillna(med5, inplace=True)"
   ]
  },
  {
   "cell_type": "code",
   "execution_count": 19,
   "metadata": {},
   "outputs": [],
   "source": [
    "test_df['AMT_REQ_CREDIT_BUREAU_YEAR'].fillna(med, inplace=True)\n",
    "test_df['AMT_REQ_CREDIT_BUREAU_DAY'].fillna(med1, inplace=True)\n",
    "test_df['AMT_REQ_CREDIT_BUREAU_MON'].fillna(med2, inplace=True)\n",
    "test_df['AMT_REQ_CREDIT_BUREAU_HOUR'].fillna(med3, inplace=True)\n",
    "test_df['AMT_REQ_CREDIT_BUREAU_WEEK'].fillna(med4, inplace=True)\n",
    "test_df['AMT_REQ_CREDIT_BUREAU_QRT'].fillna(med5, inplace=True)"
   ]
  },
  {
   "cell_type": "code",
   "execution_count": 20,
   "metadata": {},
   "outputs": [
    {
     "name": "stdout",
     "output_type": "stream",
     "text": [
      "The no. of columns with missing values now is:  51 \n",
      " The minimum percentage of NANs in a column: 19.74365360924678 \n",
      " The maximum percentage of NANs is: 69.93584608445698\n"
     ]
    }
   ],
   "source": [
    "check_df3= missing_values(train_df)\n",
    "check_df3=check_df3[check_df3.no_NANs>0]\n",
    "check_df3.sort_values(by='percentage_NANS', inplace=True)\n",
    "\n",
    "print(\"The no. of columns with missing values now is: \",len(check_df3),\\\n",
    "      \"\\n The minimum percentage of NANs in a column:\",check_df3.percentage_NANS.min(),\\\n",
    "     \"\\n The maximum percentage of NANs is:\",check_df3.percentage_NANS.max())"
   ]
  },
  {
   "cell_type": "code",
   "execution_count": 21,
   "metadata": {},
   "outputs": [
    {
     "data": {
      "text/plain": [
       "<matplotlib.axes._subplots.AxesSubplot at 0x1e7209e2e10>"
      ]
     },
     "execution_count": 21,
     "metadata": {},
     "output_type": "execute_result"
    },
    {
     "data": {
      "image/png": "[encoded data removed]",
      "text/plain": [
       "<Figure size 432x288 with 1 Axes>"
      ]
     },
     "metadata": {},
     "output_type": "display_data"
    }
   ],
   "source": [
    "#EXT_SOURCE_3\n",
    "\n",
    "train_df.boxplot(['EXT_SOURCE_3'])"
   ]
  },
  {
   "cell_type": "code",
   "execution_count": 22,
   "metadata": {},
   "outputs": [
    {
     "data": {
      "image/png": "[encoded data removed]",
      "text/plain": [
       "<Figure size 432x288 with 1 Axes>"
      ]
     },
     "metadata": {},
     "output_type": "display_data"
    },
    {
     "name": "stdout",
     "output_type": "stream",
     "text": [
      "ratio of 1's to total: 0.08200661061333298\n"
     ]
    }
   ],
   "source": [
    "# RARE EVENT MODELLING\n",
    "sns.countplot(train_df['TARGET'],label=\"Count\")\n",
    "plt.show()\n",
    "print(\"ratio of 1's to total:\",len(train_df[train_df['TARGET']==1])/len(train_df['TARGET']))"
   ]
  },
  {
   "cell_type": "code",
   "execution_count": 23,
   "metadata": {},
   "outputs": [
    {
     "data": {
      "image/png": "[encoded data removed]",
      "text/plain": [
       "<Figure size 432x288 with 1 Axes>"
      ]
     },
     "metadata": {},
     "output_type": "display_data"
    },
    {
     "name": "stdout",
     "output_type": "stream",
     "text": [
      "ratio of 1's to total: 0.0939684271540114\n"
     ]
    }
   ],
   "source": [
    "check_na_df= train_df[train_df['EXT_SOURCE_3'].isnull()==True]\n",
    "sns.countplot(check_na_df['TARGET'],label=\"Count\")\n",
    "plt.show()\n",
    "\n",
    "print(\"ratio of 1's to total:\",len(check_na_df[check_na_df['TARGET']==1])/len(check_na_df['TARGET']))"
   ]
  },
  {
   "cell_type": "code",
   "execution_count": 24,
   "metadata": {},
   "outputs": [
    {
     "data": {
      "image/png": "[encoded data removed]",
      "text/plain": [
       "<Figure size 432x288 with 1 Axes>"
      ]
     },
     "metadata": {},
     "output_type": "display_data"
    },
    {
     "name": "stdout",
     "output_type": "stream",
     "text": [
      "ratio of 1's to total: 0.05102040816326531\n"
     ]
    }
   ],
   "source": [
    "med_ext3= train_df['EXT_SOURCE_3'].median()\n",
    "\n",
    "check_median_df= train_df[train_df['EXT_SOURCE_3']==med_ext3]\n",
    "sns.countplot(check_median_df['TARGET'],label=\"Count\")\n",
    "plt.show()\n",
    "print(\"ratio of 1's to total:\",len(check_median_df[check_median_df['TARGET']==1])/len(check_median_df['TARGET']))\n"
   ]
  },
  {
   "cell_type": "code",
   "execution_count": 25,
   "metadata": {},
   "outputs": [],
   "source": [
    "train_df['EXT_SOURCE_3'].fillna(med_ext3, inplace=True)"
   ]
  },
  {
   "cell_type": "code",
   "execution_count": 26,
   "metadata": {},
   "outputs": [],
   "source": [
    "test_df['EXT_SOURCE_3'].fillna(med_ext3, inplace=True)"
   ]
  },
  {
   "cell_type": "code",
   "execution_count": 27,
   "metadata": {},
   "outputs": [
    {
     "data": {
      "text/plain": [
       "<matplotlib.axes._subplots.AxesSubplot at 0x1e7209d6080>"
      ]
     },
     "execution_count": 27,
     "metadata": {},
     "output_type": "execute_result"
    },
    {
     "data": {
      "image/png": "[encoded data removed]",
      "text/plain": [
       "<Figure size 360x432 with 1 Axes>"
      ]
     },
     "metadata": {},
     "output_type": "display_data"
    }
   ],
   "source": [
    "train_df.boxplot('EXT_SOURCE_3','TARGET',rot = 30,figsize=(5,6))"
   ]
  },
  {
   "cell_type": "code",
   "execution_count": 28,
   "metadata": {},
   "outputs": [
    {
     "name": "stdout",
     "output_type": "stream",
     "text": [
      "The no. of columns with missing values now is:  50 \n",
      " The minimum percentage of NANs in a column: 31.380217975213565 \n",
      " The maximum percentage of NANs is: 69.93584608445698\n"
     ]
    }
   ],
   "source": [
    "check_df4= missing_values(train_df)\n",
    "check_df4=check_df4[check_df4.no_NANs>0]\n",
    "check_df4.sort_values(by='percentage_NANS', inplace=True)\n",
    "\n",
    "print(\"The no. of columns with missing values now is: \",len(check_df4),\\\n",
    "      \"\\n The minimum percentage of NANs in a column:\",check_df4.percentage_NANS.min(),\\\n",
    "     \"\\n The maximum percentage of NANs is:\",check_df4.percentage_NANS.max())"
   ]
  },
  {
   "cell_type": "code",
   "execution_count": 29,
   "metadata": {},
   "outputs": [
    {
     "data": {
      "image/png": "[encoded data removed]",
      "text/plain": [
       "<Figure size 842.4x595.44 with 1 Axes>"
      ]
     },
     "metadata": {},
     "output_type": "display_data"
    }
   ],
   "source": [
    "fig, ax = plt.subplots()\n",
    "sns.countplot(train_df['OCCUPATION_TYPE'],label=\"Count\")\n",
    "fig.set_size_inches(11.7, 8.27)\n",
    "plt.xticks( fontsize = 5)\n",
    "plt.show()"
   ]
  },
  {
   "cell_type": "code",
   "execution_count": 30,
   "metadata": {},
   "outputs": [
    {
     "data": {
      "image/png": "[encoded data removed]",
      "text/plain": [
       "<Figure size 432x1944 with 18 Axes>"
      ]
     },
     "metadata": {},
     "output_type": "display_data"
    }
   ],
   "source": [
    "g = sns.catplot(x=\"AMT_INCOME_TOTAL\", y=\"TARGET\", row=\"OCCUPATION_TYPE\",\n",
    "                kind=\"box\", orient=\"h\", height=1.5, aspect=4,\n",
    "                data=train_df)\n",
    "\n",
    "g.set(xscale=\"log\")\n",
    "plt.show()"
   ]
  },
  {
   "cell_type": "code",
   "execution_count": 31,
   "metadata": {},
   "outputs": [
    {
     "data": {
      "text/html": [
       "<div>\n",
       "<style scoped>\n",
       "    .dataframe tbody tr th:only-of-type {\n",
       "        vertical-align: middle;\n",
       "    }\n",
       "\n",
       "    .dataframe tbody tr th {\n",
       "        vertical-align: top;\n",
       "    }\n",
       "\n",
       "    .dataframe thead th {\n",
       "        text-align: right;\n",
       "    }\n",
       "</style>\n",
       "<table border=\"1\" class=\"dataframe\">\n",
       "  <thead>\n",
       "    <tr style=\"text-align: right;\">\n",
       "      <th></th>\n",
       "      <th>OCCUPATION_TYPE_total</th>\n",
       "      <th>TARGETis1</th>\n",
       "      <th>Percentage_occ</th>\n",
       "      <th>Percentage_default</th>\n",
       "    </tr>\n",
       "    <tr>\n",
       "      <th>OCCUPATION_TYPE</th>\n",
       "      <th></th>\n",
       "      <th></th>\n",
       "      <th></th>\n",
       "      <th></th>\n",
       "    </tr>\n",
       "  </thead>\n",
       "  <tbody>\n",
       "    <tr>\n",
       "      <th>Accountants</th>\n",
       "      <td>4784</td>\n",
       "      <td>245</td>\n",
       "      <td>4.693233</td>\n",
       "      <td>5.121237</td>\n",
       "    </tr>\n",
       "    <tr>\n",
       "      <th>Cleaning staff</th>\n",
       "      <td>2221</td>\n",
       "      <td>217</td>\n",
       "      <td>2.178861</td>\n",
       "      <td>9.770374</td>\n",
       "    </tr>\n",
       "    <tr>\n",
       "      <th>Cooking staff</th>\n",
       "      <td>2918</td>\n",
       "      <td>311</td>\n",
       "      <td>2.862637</td>\n",
       "      <td>10.657985</td>\n",
       "    </tr>\n",
       "    <tr>\n",
       "      <th>Core staff</th>\n",
       "      <td>13327</td>\n",
       "      <td>873</td>\n",
       "      <td>13.074146</td>\n",
       "      <td>6.550612</td>\n",
       "    </tr>\n",
       "    <tr>\n",
       "      <th>Drivers</th>\n",
       "      <td>8969</td>\n",
       "      <td>987</td>\n",
       "      <td>8.798831</td>\n",
       "      <td>11.004571</td>\n",
       "    </tr>\n",
       "    <tr>\n",
       "      <th>HR staff</th>\n",
       "      <td>279</td>\n",
       "      <td>18</td>\n",
       "      <td>0.273707</td>\n",
       "      <td>6.451613</td>\n",
       "    </tr>\n",
       "    <tr>\n",
       "      <th>High skill tech staff</th>\n",
       "      <td>5435</td>\n",
       "      <td>342</td>\n",
       "      <td>5.331881</td>\n",
       "      <td>6.292548</td>\n",
       "    </tr>\n",
       "    <tr>\n",
       "      <th>IT staff</th>\n",
       "      <td>247</td>\n",
       "      <td>14</td>\n",
       "      <td>0.242314</td>\n",
       "      <td>5.668016</td>\n",
       "    </tr>\n",
       "    <tr>\n",
       "      <th>Laborers</th>\n",
       "      <td>26719</td>\n",
       "      <td>2914</td>\n",
       "      <td>26.212059</td>\n",
       "      <td>10.906097</td>\n",
       "    </tr>\n",
       "    <tr>\n",
       "      <th>Low-skill Laborers</th>\n",
       "      <td>998</td>\n",
       "      <td>169</td>\n",
       "      <td>0.979065</td>\n",
       "      <td>16.933868</td>\n",
       "    </tr>\n",
       "    <tr>\n",
       "      <th>Managers</th>\n",
       "      <td>10269</td>\n",
       "      <td>654</td>\n",
       "      <td>10.074166</td>\n",
       "      <td>6.368682</td>\n",
       "    </tr>\n",
       "    <tr>\n",
       "      <th>Medicine staff</th>\n",
       "      <td>4201</td>\n",
       "      <td>292</td>\n",
       "      <td>4.121294</td>\n",
       "      <td>6.950726</td>\n",
       "    </tr>\n",
       "    <tr>\n",
       "      <th>Private service staff</th>\n",
       "      <td>1294</td>\n",
       "      <td>93</td>\n",
       "      <td>1.269449</td>\n",
       "      <td>7.187017</td>\n",
       "    </tr>\n",
       "    <tr>\n",
       "      <th>Realty agents</th>\n",
       "      <td>363</td>\n",
       "      <td>30</td>\n",
       "      <td>0.356113</td>\n",
       "      <td>8.264463</td>\n",
       "    </tr>\n",
       "    <tr>\n",
       "      <th>Sales staff</th>\n",
       "      <td>15368</td>\n",
       "      <td>1477</td>\n",
       "      <td>15.076422</td>\n",
       "      <td>9.610880</td>\n",
       "    </tr>\n",
       "    <tr>\n",
       "      <th>Secretaries</th>\n",
       "      <td>631</td>\n",
       "      <td>41</td>\n",
       "      <td>0.619028</td>\n",
       "      <td>6.497623</td>\n",
       "    </tr>\n",
       "    <tr>\n",
       "      <th>Security staff</th>\n",
       "      <td>3260</td>\n",
       "      <td>349</td>\n",
       "      <td>3.198148</td>\n",
       "      <td>10.705521</td>\n",
       "    </tr>\n",
       "    <tr>\n",
       "      <th>Waiters/barmen staff</th>\n",
       "      <td>651</td>\n",
       "      <td>78</td>\n",
       "      <td>0.638649</td>\n",
       "      <td>11.981567</td>\n",
       "    </tr>\n",
       "  </tbody>\n",
       "</table>\n",
       "</div>"
      ],
      "text/plain": [
       "                       OCCUPATION_TYPE_total  TARGETis1  Percentage_occ  \\\n",
       "OCCUPATION_TYPE                                                           \n",
       "Accountants                             4784        245        4.693233   \n",
       "Cleaning staff                          2221        217        2.178861   \n",
       "Cooking staff                           2918        311        2.862637   \n",
       "Core staff                             13327        873       13.074146   \n",
       "Drivers                                 8969        987        8.798831   \n",
       "HR staff                                 279         18        0.273707   \n",
       "High skill tech staff                   5435        342        5.331881   \n",
       "IT staff                                 247         14        0.242314   \n",
       "Laborers                               26719       2914       26.212059   \n",
       "Low-skill Laborers                       998        169        0.979065   \n",
       "Managers                               10269        654       10.074166   \n",
       "Medicine staff                          4201        292        4.121294   \n",
       "Private service staff                   1294         93        1.269449   \n",
       "Realty agents                            363         30        0.356113   \n",
       "Sales staff                            15368       1477       15.076422   \n",
       "Secretaries                              631         41        0.619028   \n",
       "Security staff                          3260        349        3.198148   \n",
       "Waiters/barmen staff                     651         78        0.638649   \n",
       "\n",
       "                       Percentage_default  \n",
       "OCCUPATION_TYPE                            \n",
       "Accountants                      5.121237  \n",
       "Cleaning staff                   9.770374  \n",
       "Cooking staff                   10.657985  \n",
       "Core staff                       6.550612  \n",
       "Drivers                         11.004571  \n",
       "HR staff                         6.451613  \n",
       "High skill tech staff            6.292548  \n",
       "IT staff                         5.668016  \n",
       "Laborers                        10.906097  \n",
       "Low-skill Laborers              16.933868  \n",
       "Managers                         6.368682  \n",
       "Medicine staff                   6.950726  \n",
       "Private service staff            7.187017  \n",
       "Realty agents                    8.264463  \n",
       "Sales staff                      9.610880  \n",
       "Secretaries                      6.497623  \n",
       "Security staff                  10.705521  \n",
       "Waiters/barmen staff            11.981567  "
      ]
     },
     "execution_count": 31,
     "metadata": {},
     "output_type": "execute_result"
    }
   ],
   "source": [
    "df_1=train_df.groupby('OCCUPATION_TYPE')['OCCUPATION_TYPE'].count()\n",
    "df_2=train_df.groupby('OCCUPATION_TYPE')['TARGET'].sum()\n",
    "df_occup_tar = pd.concat([df_1,df_2], axis=1)\n",
    "df_occup_tar.columns=['OCCUPATION_TYPE_total','TARGETis1']\n",
    "sum_total=df_occup_tar.OCCUPATION_TYPE_total.sum()\n",
    "df_occup_tar['Percentage_occ']= df_occup_tar.OCCUPATION_TYPE_total*100/sum_total\n",
    "df_occup_tar['Percentage_default']= df_occup_tar.TARGETis1*100/df_occup_tar.OCCUPATION_TYPE_total\n",
    "df_occup_tar\n",
    "#df.groupby('a')['a'].transform('count')"
   ]
  },
  {
   "cell_type": "code",
   "execution_count": 32,
   "metadata": {},
   "outputs": [
    {
     "data": {
      "image/png": "[encoded data removed]",
      "text/plain": [
       "<Figure size 432x288 with 1 Axes>"
      ]
     },
     "metadata": {},
     "output_type": "display_data"
    },
    {
     "name": "stdout",
     "output_type": "stream",
     "text": [
      "ratio of 1's to total len: 0.06603024777432157\n",
      "3078 no. of instances\n",
      "ratio of 1's when occ is null to total no. of 1s : 0.2526678706287966\n"
     ]
    }
   ],
   "source": [
    "check_occupation_na= train_df[train_df.OCCUPATION_TYPE.isnull()==True ]\n",
    "sns.countplot(check_occupation_na['TARGET'],label=\"Count\")\n",
    "plt.show()\n",
    "print(\"ratio of 1's to total len:\",len(check_occupation_na[check_occupation_na['TARGET']==1])/len(check_occupation_na['TARGET']))\n",
    "print(len(check_occupation_na[check_occupation_na['TARGET']==1]),\"no. of instances\")\n",
    "print(\"ratio of 1's when occ is null to total no. of 1s :\",\\\n",
    "      len(check_occupation_na[check_occupation_na['TARGET']==1])/len(train_df[train_df.TARGET==1]))"
   ]
  },
  {
   "cell_type": "code",
   "execution_count": 33,
   "metadata": {},
   "outputs": [
    {
     "data": {
      "text/plain": [
       "<matplotlib.axes._subplots.AxesSubplot at 0x1e72f24e518>"
      ]
     },
     "execution_count": 33,
     "metadata": {},
     "output_type": "execute_result"
    },
    {
     "data": {
      "image/png": "[encoded data removed]",
      "text/plain": [
       "<Figure size 432x288 with 1 Axes>"
      ]
     },
     "metadata": {},
     "output_type": "display_data"
    }
   ],
   "source": [
    "train_df.boxplot('AMT_INCOME_TOTAL')"
   ]
  },
  {
   "cell_type": "code",
   "execution_count": 34,
   "metadata": {},
   "outputs": [
    {
     "data": {
      "text/plain": [
       "12840    117000000.0\n",
       "17768      9000000.0\n",
       "11127      6750000.0\n",
       "13006      4500000.0\n",
       "20216      3825000.0\n",
       "19645      3600000.0\n",
       "26026      3375000.0\n",
       "22846      3375000.0\n",
       "11007      3150000.0\n",
       "17926      2930026.5\n",
       "Name: AMT_INCOME_TOTAL, dtype: float64"
      ]
     },
     "execution_count": 34,
     "metadata": {},
     "output_type": "execute_result"
    }
   ],
   "source": [
    "train_df.AMT_INCOME_TOTAL.sort_values(ascending=False)[:10]"
   ]
  },
  {
   "cell_type": "code",
   "execution_count": 35,
   "metadata": {},
   "outputs": [],
   "source": [
    "train_df=train_df[train_df.AMT_INCOME_TOTAL!=117000000.0]"
   ]
  },
  {
   "cell_type": "code",
   "execution_count": 36,
   "metadata": {},
   "outputs": [
    {
     "data": {
      "text/plain": [
       "<matplotlib.axes._subplots.AxesSubplot at 0x1e72f672b38>"
      ]
     },
     "execution_count": 36,
     "metadata": {},
     "output_type": "execute_result"
    },
    {
     "data": {
      "image/png": "[encoded data removed]",
      "text/plain": [
       "<Figure size 432x288 with 1 Axes>"
      ]
     },
     "metadata": {},
     "output_type": "display_data"
    }
   ],
   "source": [
    "train_df.boxplot('AMT_INCOME_TOTAL')"
   ]
  },
  {
   "cell_type": "code",
   "execution_count": 37,
   "metadata": {},
   "outputs": [
    {
     "data": {
      "text/plain": [
       "<matplotlib.axes._subplots.AxesSubplot at 0x1e72f6c3ef0>"
      ]
     },
     "execution_count": 37,
     "metadata": {},
     "output_type": "execute_result"
    },
    {
     "data": {
      "image/png": "[encoded data removed]",
      "text/plain": [
       "<Figure size 432x288 with 1 Axes>"
      ]
     },
     "metadata": {},
     "output_type": "display_data"
    }
   ],
   "source": [
    "train_df.AMT_INCOME_TOTAL.hist()"
   ]
  },
  {
   "cell_type": "code",
   "execution_count": 38,
   "metadata": {},
   "outputs": [
    {
     "data": {
      "text/plain": [
       "<matplotlib.axes._subplots.AxesSubplot at 0x1e72f6eb400>"
      ]
     },
     "execution_count": 38,
     "metadata": {},
     "output_type": "execute_result"
    },
    {
     "data": {
      "image/png": "[encoded data removed]",
      "text/plain": [
       "<Figure size 432x288 with 1 Axes>"
      ]
     },
     "metadata": {},
     "output_type": "display_data"
    }
   ],
   "source": [
    "#AMT_CREDIT\n",
    "train_df.AMT_CREDIT.hist()"
   ]
  },
  {
   "cell_type": "code",
   "execution_count": 39,
   "metadata": {},
   "outputs": [
    {
     "data": {
      "text/plain": [
       "<matplotlib.axes._subplots.AxesSubplot at 0x1e72f74b7f0>"
      ]
     },
     "execution_count": 39,
     "metadata": {},
     "output_type": "execute_result"
    },
    {
     "data": {
      "image/png": "[encoded data removed]",
      "text/plain": [
       "<Figure size 432x288 with 1 Axes>"
      ]
     },
     "metadata": {},
     "output_type": "display_data"
    }
   ],
   "source": [
    "train_df.boxplot('AMT_CREDIT')"
   ]
  },
  {
   "cell_type": "code",
   "execution_count": 40,
   "metadata": {},
   "outputs": [
    {
     "data": {
      "text/plain": [
       "<matplotlib.axes._subplots.AxesSubplot at 0x1e72f788630>"
      ]
     },
     "execution_count": 40,
     "metadata": {},
     "output_type": "execute_result"
    },
    {
     "data": {
      "image/png": "[encoded data removed]",
      "text/plain": [
       "<Figure size 432x288 with 1 Axes>"
      ]
     },
     "metadata": {},
     "output_type": "display_data"
    }
   ],
   "source": [
    "train_df.boxplot('DAYS_EMPLOYED')"
   ]
  },
  {
   "cell_type": "code",
   "execution_count": 41,
   "metadata": {},
   "outputs": [
    {
     "data": {
      "text/plain": [
       "14994    365243\n",
       "12603    365243\n",
       "12532    365243\n",
       "19724    365243\n",
       "12527    365243\n",
       "7257     365243\n",
       "7258     365243\n",
       "12523    365243\n",
       "12516    365243\n",
       "12514    365243\n",
       "Name: DAYS_EMPLOYED, dtype: int64"
      ]
     },
     "execution_count": 41,
     "metadata": {},
     "output_type": "execute_result"
    }
   ],
   "source": [
    "train_df.DAYS_EMPLOYED.sort_values(ascending=False)[:10]"
   ]
  },
  {
   "cell_type": "code",
   "execution_count": 42,
   "metadata": {},
   "outputs": [
    {
     "data": {
      "text/plain": [
       "array([365243, nan, 365243, ..., nan, 365243, nan], dtype=object)"
      ]
     },
     "execution_count": 42,
     "metadata": {},
     "output_type": "execute_result"
    }
   ],
   "source": [
    "np.unique(train_df.loc[train_df.DAYS_EMPLOYED>0,['DAYS_EMPLOYED','OCCUPATION_TYPE']])"
   ]
  },
  {
   "cell_type": "code",
   "execution_count": 43,
   "metadata": {},
   "outputs": [
    {
     "data": {
      "image/png": "[encoded data removed]",
      "text/plain": [
       "<Figure size 432x288 with 1 Axes>"
      ]
     },
     "metadata": {},
     "output_type": "display_data"
    },
    {
     "name": "stdout",
     "output_type": "stream",
     "text": [
      "ratio of 1's to total: 0.08786511322612406\n"
     ]
    }
   ],
   "source": [
    "train_check=train_df.loc[train_df.DAYS_EMPLOYED<0,:]\n",
    "sns.countplot(train_check['TARGET'],label=\"Count\")\n",
    "plt.show()\n",
    "print(\"ratio of 1's to total:\",len(train_check[train_check['TARGET']==1])/len(train_check['TARGET']))"
   ]
  },
  {
   "cell_type": "code",
   "execution_count": 44,
   "metadata": {},
   "outputs": [],
   "source": [
    "train_df=train_df.loc[train_df.DAYS_EMPLOYED<0,:]"
   ]
  },
  {
   "cell_type": "code",
   "execution_count": 45,
   "metadata": {},
   "outputs": [],
   "source": [
    "test_df=test_df.loc[test_df.DAYS_EMPLOYED<0,:]"
   ]
  },
  {
   "cell_type": "code",
   "execution_count": 46,
   "metadata": {},
   "outputs": [
    {
     "data": {
      "text/plain": [
       "<matplotlib.axes._subplots.AxesSubplot at 0x1e72f8237f0>"
      ]
     },
     "execution_count": 46,
     "metadata": {},
     "output_type": "execute_result"
    },
    {
     "data": {
      "image/png": "[encoded data removed]",
      "text/plain": [
       "<Figure size 432x288 with 1 Axes>"
      ]
     },
     "metadata": {},
     "output_type": "display_data"
    }
   ],
   "source": [
    "train_df.boxplot('AMT_INCOME_TOTAL')"
   ]
  },
  {
   "cell_type": "code",
   "execution_count": 47,
   "metadata": {},
   "outputs": [],
   "source": [
    "#adding additional features\n",
    "\n",
    "train_df['income_fm']= train_df['AMT_INCOME_TOTAL']/(train_df['CNT_FAM_MEMBERS']+1)\n",
    "test_df['income_fm']= test_df['AMT_INCOME_TOTAL']/(test_df['CNT_FAM_MEMBERS']+1)\n",
    "\n",
    "train_df['days_emp']= train_df['DAYS_EMPLOYED']/train_df['DAYS_BIRTH']\n",
    "test_df['days_emp']= test_df['DAYS_EMPLOYED']/test_df['DAYS_BIRTH']\n",
    "\n",
    "\n",
    "train_df['ann_nr'] = train_df['AMT_CREDIT']/train_df['AMT_ANNUITY']\n",
    "test_df['ann_nr'] = test_df['AMT_CREDIT']/test_df['AMT_ANNUITY']"
   ]
  },
  {
   "cell_type": "code",
   "execution_count": 48,
   "metadata": {},
   "outputs": [],
   "source": [
    "def Winsorize_check(data):\n",
    "    quantiles = data.quantile([0.01, 0.99])\n",
    "    q_01 = quantiles.loc[0.01]\n",
    "    q_99 = quantiles.loc[0.99]\n",
    "\n",
    "    out = np.where(data.values <= q_01,q_01, np.where(data >= q_99, q_99, data))\n",
    "    return out"
   ]
  },
  {
   "cell_type": "code",
   "execution_count": 49,
   "metadata": {},
   "outputs": [],
   "source": [
    "colstotreat=['AMT_CREDIT','AMT_INCOME_TOTAL','AMT_ANNUITY','AMT_GOODS_PRICE']\n",
    "for i in colstotreat:\n",
    "    train_df[i]=Winsorize_check(train_df[i])"
   ]
  },
  {
   "cell_type": "code",
   "execution_count": 50,
   "metadata": {},
   "outputs": [],
   "source": [
    "colstotreat=['AMT_CREDIT','AMT_INCOME_TOTAL','AMT_ANNUITY','AMT_GOODS_PRICE']\n",
    "for i in colstotreat:\n",
    "    test_df[i]=Winsorize_check(test_df[i])"
   ]
  },
  {
   "cell_type": "code",
   "execution_count": 51,
   "metadata": {},
   "outputs": [
    {
     "data": {
      "text/plain": [
       "<matplotlib.axes._subplots.AxesSubplot at 0x1e72fba67b8>"
      ]
     },
     "execution_count": 51,
     "metadata": {},
     "output_type": "execute_result"
    },
    {
     "data": {
      "image/png": "[encoded data removed]",
      "text/plain": [
       "<Figure size 432x288 with 1 Axes>"
      ]
     },
     "metadata": {},
     "output_type": "display_data"
    }
   ],
   "source": [
    "train_df.AMT_INCOME_TOTAL.hist() "
   ]
  },
  {
   "cell_type": "code",
   "execution_count": 52,
   "metadata": {},
   "outputs": [
    {
     "data": {
      "text/plain": [
       "<matplotlib.axes._subplots.AxesSubplot at 0x1e72f2e91d0>"
      ]
     },
     "execution_count": 52,
     "metadata": {},
     "output_type": "execute_result"
    },
    {
     "data": {
      "image/png": "[encoded data removed]",
      "text/plain": [
       "<Figure size 432x288 with 1 Axes>"
      ]
     },
     "metadata": {},
     "output_type": "display_data"
    }
   ],
   "source": [
    "train_df.AMT_CREDIT.hist() "
   ]
  },
  {
   "cell_type": "code",
   "execution_count": 53,
   "metadata": {},
   "outputs": [
    {
     "data": {
      "text/plain": [
       "5191     48.030137\n",
       "22446    47.041096\n",
       "23265    46.956164\n",
       "9095     46.161644\n",
       "23266    45.619178\n",
       "2757     45.309589\n",
       "5681     45.202740\n",
       "10429    45.191781\n",
       "18004    45.073973\n",
       "10082    45.010959\n",
       "14721    44.863014\n",
       "18932    44.835616\n",
       "1283     44.832877\n",
       "20174    44.789041\n",
       "25957    44.775342\n",
       "Name: YEARS_EMPLOYED, dtype: float64"
      ]
     },
     "execution_count": 53,
     "metadata": {},
     "output_type": "execute_result"
    }
   ],
   "source": [
    "train_df['YEARS_EMPLOYED']=train_df.DAYS_EMPLOYED/-365\n",
    "train_df.YEARS_EMPLOYED.sort_values(ascending=False)[:15]"
   ]
  },
  {
   "cell_type": "code",
   "execution_count": 54,
   "metadata": {},
   "outputs": [],
   "source": [
    "test_df['YEARS_EMPLOYED']=test_df.DAYS_EMPLOYED/-365"
   ]
  },
  {
   "cell_type": "code",
   "execution_count": 55,
   "metadata": {},
   "outputs": [],
   "source": [
    "train_df.drop('DAYS_EMPLOYED',axis=1, inplace=True)"
   ]
  },
  {
   "cell_type": "code",
   "execution_count": 56,
   "metadata": {},
   "outputs": [],
   "source": [
    "test_df.drop('DAYS_EMPLOYED',axis=1, inplace=True)"
   ]
  },
  {
   "cell_type": "code",
   "execution_count": 57,
   "metadata": {},
   "outputs": [
    {
     "data": {
      "image/png": "[encoded data removed]",
      "text/plain": [
       "<Figure size 432x288 with 1 Axes>"
      ]
     },
     "metadata": {},
     "output_type": "display_data"
    }
   ],
   "source": [
    "train_df['YEARS_EMPLOYED'].hist()\n",
    "plt.show()"
   ]
  },
  {
   "cell_type": "code",
   "execution_count": 58,
   "metadata": {},
   "outputs": [
    {
     "name": "stdout",
     "output_type": "stream",
     "text": [
      "The no. of columns with missing values now is:  50 \n",
      " The minimum percentage of NANs in a column: 16.36691828027568 \n",
      " The maximum percentage of NANs is: 69.84164752215294\n"
     ]
    }
   ],
   "source": [
    "check_df5= missing_values(train_df)\n",
    "check_df5=check_df5[check_df5.no_NANs>0]\n",
    "check_df5.sort_values(by='percentage_NANS', inplace=True)\n",
    "\n",
    "print(\"The no. of columns with missing values now is: \",len(check_df5),\\\n",
    "      \"\\n The minimum percentage of NANs in a column:\",check_df5.percentage_NANS.min(),\\\n",
    "     \"\\n The maximum percentage of NANs is:\",check_df5.percentage_NANS.max())"
   ]
  },
  {
   "cell_type": "code",
   "execution_count": 59,
   "metadata": {},
   "outputs": [
    {
     "data": {
      "text/html": [
       "<div>\n",
       "<style scoped>\n",
       "    .dataframe tbody tr th:only-of-type {\n",
       "        vertical-align: middle;\n",
       "    }\n",
       "\n",
       "    .dataframe tbody tr th {\n",
       "        vertical-align: top;\n",
       "    }\n",
       "\n",
       "    .dataframe thead th {\n",
       "        text-align: right;\n",
       "    }\n",
       "</style>\n",
       "<table border=\"1\" class=\"dataframe\">\n",
       "  <thead>\n",
       "    <tr style=\"text-align: right;\">\n",
       "      <th></th>\n",
       "      <th>no_NANs</th>\n",
       "      <th>percentage_NANS</th>\n",
       "    </tr>\n",
       "  </thead>\n",
       "  <tbody>\n",
       "    <tr>\n",
       "      <th>OCCUPATION_TYPE</th>\n",
       "      <td>19948</td>\n",
       "      <td>16.366918</td>\n",
       "    </tr>\n",
       "    <tr>\n",
       "      <th>EMERGENCYSTATE_MODE</th>\n",
       "      <td>57692</td>\n",
       "      <td>47.335084</td>\n",
       "    </tr>\n",
       "    <tr>\n",
       "      <th>TOTALAREA_MODE</th>\n",
       "      <td>58772</td>\n",
       "      <td>48.221201</td>\n",
       "    </tr>\n",
       "    <tr>\n",
       "      <th>YEARS_BEGINEXPLUATATION_MEDI</th>\n",
       "      <td>59376</td>\n",
       "      <td>48.716771</td>\n",
       "    </tr>\n",
       "    <tr>\n",
       "      <th>YEARS_BEGINEXPLUATATION_AVG</th>\n",
       "      <td>59376</td>\n",
       "      <td>48.716771</td>\n",
       "    </tr>\n",
       "    <tr>\n",
       "      <th>YEARS_BEGINEXPLUATATION_MODE</th>\n",
       "      <td>59376</td>\n",
       "      <td>48.716771</td>\n",
       "    </tr>\n",
       "    <tr>\n",
       "      <th>FLOORSMAX_MEDI</th>\n",
       "      <td>60588</td>\n",
       "      <td>49.711191</td>\n",
       "    </tr>\n",
       "    <tr>\n",
       "      <th>FLOORSMAX_AVG</th>\n",
       "      <td>60588</td>\n",
       "      <td>49.711191</td>\n",
       "    </tr>\n",
       "    <tr>\n",
       "      <th>FLOORSMAX_MODE</th>\n",
       "      <td>60588</td>\n",
       "      <td>49.711191</td>\n",
       "    </tr>\n",
       "    <tr>\n",
       "      <th>HOUSETYPE_MODE</th>\n",
       "      <td>61100</td>\n",
       "      <td>50.131277</td>\n",
       "    </tr>\n",
       "    <tr>\n",
       "      <th>LIVINGAREA_MODE</th>\n",
       "      <td>61112</td>\n",
       "      <td>50.141122</td>\n",
       "    </tr>\n",
       "    <tr>\n",
       "      <th>LIVINGAREA_AVG</th>\n",
       "      <td>61112</td>\n",
       "      <td>50.141122</td>\n",
       "    </tr>\n",
       "    <tr>\n",
       "      <th>LIVINGAREA_MEDI</th>\n",
       "      <td>61112</td>\n",
       "      <td>50.141122</td>\n",
       "    </tr>\n",
       "    <tr>\n",
       "      <th>ENTRANCES_AVG</th>\n",
       "      <td>61328</td>\n",
       "      <td>50.318346</td>\n",
       "    </tr>\n",
       "    <tr>\n",
       "      <th>ENTRANCES_MODE</th>\n",
       "      <td>61328</td>\n",
       "      <td>50.318346</td>\n",
       "    </tr>\n",
       "    <tr>\n",
       "      <th>ENTRANCES_MEDI</th>\n",
       "      <td>61328</td>\n",
       "      <td>50.318346</td>\n",
       "    </tr>\n",
       "    <tr>\n",
       "      <th>APARTMENTS_MEDI</th>\n",
       "      <td>61824</td>\n",
       "      <td>50.725304</td>\n",
       "    </tr>\n",
       "    <tr>\n",
       "      <th>APARTMENTS_AVG</th>\n",
       "      <td>61824</td>\n",
       "      <td>50.725304</td>\n",
       "    </tr>\n",
       "    <tr>\n",
       "      <th>APARTMENTS_MODE</th>\n",
       "      <td>61824</td>\n",
       "      <td>50.725304</td>\n",
       "    </tr>\n",
       "    <tr>\n",
       "      <th>WALLSMATERIAL_MODE</th>\n",
       "      <td>61900</td>\n",
       "      <td>50.787660</td>\n",
       "    </tr>\n",
       "    <tr>\n",
       "      <th>EXT_SOURCE_1</th>\n",
       "      <td>63154</td>\n",
       "      <td>51.816541</td>\n",
       "    </tr>\n",
       "    <tr>\n",
       "      <th>ELEVATORS_MODE</th>\n",
       "      <td>64946</td>\n",
       "      <td>53.286840</td>\n",
       "    </tr>\n",
       "    <tr>\n",
       "      <th>ELEVATORS_MEDI</th>\n",
       "      <td>64946</td>\n",
       "      <td>53.286840</td>\n",
       "    </tr>\n",
       "    <tr>\n",
       "      <th>ELEVATORS_AVG</th>\n",
       "      <td>64946</td>\n",
       "      <td>53.286840</td>\n",
       "    </tr>\n",
       "    <tr>\n",
       "      <th>NONLIVINGAREA_AVG</th>\n",
       "      <td>67220</td>\n",
       "      <td>55.152609</td>\n",
       "    </tr>\n",
       "    <tr>\n",
       "      <th>NONLIVINGAREA_MEDI</th>\n",
       "      <td>67220</td>\n",
       "      <td>55.152609</td>\n",
       "    </tr>\n",
       "    <tr>\n",
       "      <th>NONLIVINGAREA_MODE</th>\n",
       "      <td>67220</td>\n",
       "      <td>55.152609</td>\n",
       "    </tr>\n",
       "    <tr>\n",
       "      <th>BASEMENTAREA_MODE</th>\n",
       "      <td>71286</td>\n",
       "      <td>58.488677</td>\n",
       "    </tr>\n",
       "    <tr>\n",
       "      <th>BASEMENTAREA_AVG</th>\n",
       "      <td>71286</td>\n",
       "      <td>58.488677</td>\n",
       "    </tr>\n",
       "    <tr>\n",
       "      <th>BASEMENTAREA_MEDI</th>\n",
       "      <td>71286</td>\n",
       "      <td>58.488677</td>\n",
       "    </tr>\n",
       "    <tr>\n",
       "      <th>LANDAREA_MEDI</th>\n",
       "      <td>72260</td>\n",
       "      <td>59.287824</td>\n",
       "    </tr>\n",
       "    <tr>\n",
       "      <th>LANDAREA_AVG</th>\n",
       "      <td>72260</td>\n",
       "      <td>59.287824</td>\n",
       "    </tr>\n",
       "    <tr>\n",
       "      <th>LANDAREA_MODE</th>\n",
       "      <td>72260</td>\n",
       "      <td>59.287824</td>\n",
       "    </tr>\n",
       "    <tr>\n",
       "      <th>OWN_CAR_AGE</th>\n",
       "      <td>76357</td>\n",
       "      <td>62.649327</td>\n",
       "    </tr>\n",
       "    <tr>\n",
       "      <th>YEARS_BUILD_MEDI</th>\n",
       "      <td>80952</td>\n",
       "      <td>66.419429</td>\n",
       "    </tr>\n",
       "    <tr>\n",
       "      <th>YEARS_BUILD_MODE</th>\n",
       "      <td>80952</td>\n",
       "      <td>66.419429</td>\n",
       "    </tr>\n",
       "    <tr>\n",
       "      <th>YEARS_BUILD_AVG</th>\n",
       "      <td>80952</td>\n",
       "      <td>66.419429</td>\n",
       "    </tr>\n",
       "    <tr>\n",
       "      <th>FLOORSMIN_MODE</th>\n",
       "      <td>82613</td>\n",
       "      <td>67.782245</td>\n",
       "    </tr>\n",
       "    <tr>\n",
       "      <th>FLOORSMIN_MEDI</th>\n",
       "      <td>82613</td>\n",
       "      <td>67.782245</td>\n",
       "    </tr>\n",
       "    <tr>\n",
       "      <th>FLOORSMIN_AVG</th>\n",
       "      <td>82613</td>\n",
       "      <td>67.782245</td>\n",
       "    </tr>\n",
       "    <tr>\n",
       "      <th>FONDKAPREMONT_MODE</th>\n",
       "      <td>83207</td>\n",
       "      <td>68.269609</td>\n",
       "    </tr>\n",
       "    <tr>\n",
       "      <th>LIVINGAPARTMENTS_MEDI</th>\n",
       "      <td>83283</td>\n",
       "      <td>68.331966</td>\n",
       "    </tr>\n",
       "    <tr>\n",
       "      <th>LIVINGAPARTMENTS_AVG</th>\n",
       "      <td>83283</td>\n",
       "      <td>68.331966</td>\n",
       "    </tr>\n",
       "    <tr>\n",
       "      <th>LIVINGAPARTMENTS_MODE</th>\n",
       "      <td>83283</td>\n",
       "      <td>68.331966</td>\n",
       "    </tr>\n",
       "    <tr>\n",
       "      <th>NONLIVINGAPARTMENTS_AVG</th>\n",
       "      <td>84533</td>\n",
       "      <td>69.357565</td>\n",
       "    </tr>\n",
       "    <tr>\n",
       "      <th>NONLIVINGAPARTMENTS_MEDI</th>\n",
       "      <td>84533</td>\n",
       "      <td>69.357565</td>\n",
       "    </tr>\n",
       "    <tr>\n",
       "      <th>NONLIVINGAPARTMENTS_MODE</th>\n",
       "      <td>84533</td>\n",
       "      <td>69.357565</td>\n",
       "    </tr>\n",
       "    <tr>\n",
       "      <th>COMMONAREA_MEDI</th>\n",
       "      <td>85123</td>\n",
       "      <td>69.841648</td>\n",
       "    </tr>\n",
       "    <tr>\n",
       "      <th>COMMONAREA_MODE</th>\n",
       "      <td>85123</td>\n",
       "      <td>69.841648</td>\n",
       "    </tr>\n",
       "    <tr>\n",
       "      <th>COMMONAREA_AVG</th>\n",
       "      <td>85123</td>\n",
       "      <td>69.841648</td>\n",
       "    </tr>\n",
       "  </tbody>\n",
       "</table>\n",
       "</div>"
      ],
      "text/plain": [
       "                              no_NANs  percentage_NANS\n",
       "OCCUPATION_TYPE                 19948        16.366918\n",
       "EMERGENCYSTATE_MODE             57692        47.335084\n",
       "TOTALAREA_MODE                  58772        48.221201\n",
       "YEARS_BEGINEXPLUATATION_MEDI    59376        48.716771\n",
       "YEARS_BEGINEXPLUATATION_AVG     59376        48.716771\n",
       "YEARS_BEGINEXPLUATATION_MODE    59376        48.716771\n",
       "FLOORSMAX_MEDI                  60588        49.711191\n",
       "FLOORSMAX_AVG                   60588        49.711191\n",
       "FLOORSMAX_MODE                  60588        49.711191\n",
       "HOUSETYPE_MODE                  61100        50.131277\n",
       "LIVINGAREA_MODE                 61112        50.141122\n",
       "LIVINGAREA_AVG                  61112        50.141122\n",
       "LIVINGAREA_MEDI                 61112        50.141122\n",
       "ENTRANCES_AVG                   61328        50.318346\n",
       "ENTRANCES_MODE                  61328        50.318346\n",
       "ENTRANCES_MEDI                  61328        50.318346\n",
       "APARTMENTS_MEDI                 61824        50.725304\n",
       "APARTMENTS_AVG                  61824        50.725304\n",
       "APARTMENTS_MODE                 61824        50.725304\n",
       "WALLSMATERIAL_MODE              61900        50.787660\n",
       "EXT_SOURCE_1                    63154        51.816541\n",
       "ELEVATORS_MODE                  64946        53.286840\n",
       "ELEVATORS_MEDI                  64946        53.286840\n",
       "ELEVATORS_AVG                   64946        53.286840\n",
       "NONLIVINGAREA_AVG               67220        55.152609\n",
       "NONLIVINGAREA_MEDI              67220        55.152609\n",
       "NONLIVINGAREA_MODE              67220        55.152609\n",
       "BASEMENTAREA_MODE               71286        58.488677\n",
       "BASEMENTAREA_AVG                71286        58.488677\n",
       "BASEMENTAREA_MEDI               71286        58.488677\n",
       "LANDAREA_MEDI                   72260        59.287824\n",
       "LANDAREA_AVG                    72260        59.287824\n",
       "LANDAREA_MODE                   72260        59.287824\n",
       "OWN_CAR_AGE                     76357        62.649327\n",
       "YEARS_BUILD_MEDI                80952        66.419429\n",
       "YEARS_BUILD_MODE                80952        66.419429\n",
       "YEARS_BUILD_AVG                 80952        66.419429\n",
       "FLOORSMIN_MODE                  82613        67.782245\n",
       "FLOORSMIN_MEDI                  82613        67.782245\n",
       "FLOORSMIN_AVG                   82613        67.782245\n",
       "FONDKAPREMONT_MODE              83207        68.269609\n",
       "LIVINGAPARTMENTS_MEDI           83283        68.331966\n",
       "LIVINGAPARTMENTS_AVG            83283        68.331966\n",
       "LIVINGAPARTMENTS_MODE           83283        68.331966\n",
       "NONLIVINGAPARTMENTS_AVG         84533        69.357565\n",
       "NONLIVINGAPARTMENTS_MEDI        84533        69.357565\n",
       "NONLIVINGAPARTMENTS_MODE        84533        69.357565\n",
       "COMMONAREA_MEDI                 85123        69.841648\n",
       "COMMONAREA_MODE                 85123        69.841648\n",
       "COMMONAREA_AVG                  85123        69.841648"
      ]
     },
     "execution_count": 59,
     "metadata": {},
     "output_type": "execute_result"
    }
   ],
   "source": [
    "check_df5"
   ]
  },
  {
   "cell_type": "code",
   "execution_count": 60,
   "metadata": {},
   "outputs": [
    {
     "data": {
      "text/plain": [
       "<seaborn.axisgrid.FacetGrid at 0x1e72f7554a8>"
      ]
     },
     "execution_count": 60,
     "metadata": {},
     "output_type": "execute_result"
    },
    {
     "data": {
      "image/png": "[encoded data removed]",
      "text/plain": [
       "<Figure size 734.55x648 with 1 Axes>"
      ]
     },
     "metadata": {},
     "output_type": "display_data"
    }
   ],
   "source": [
    "sns.set_context(\"notebook\")\n",
    "ax1=sns.catplot(x=\"OCCUPATION_TYPE\", y=\"AMT_INCOME_TOTAL\", hue=\"CODE_GENDER\", kind=\"box\", data=train_df,height=9)\n",
    "ax1.set_xticklabels( rotation=40, ha=\"right\",fontsize=7)"
   ]
  },
  {
   "cell_type": "code",
   "execution_count": 61,
   "metadata": {},
   "outputs": [],
   "source": [
    "#train_df.groupby(['CODE_GENDER','NAME_EDUCATION_TYPE','OCCUPATION_TYPE'],as_index=False).agg({'AMT_INCOME_TOTAL':np.median ,'SK_ID_CURR':'count'})"
   ]
  },
  {
   "cell_type": "code",
   "execution_count": 62,
   "metadata": {},
   "outputs": [],
   "source": [
    "#train_df.groupby(['OCCUPATION_TYPE'],as_index=False).agg({'AMT_INCOME_TOTAL':np.median ,'SK_ID_CURR':'count'}).sort_values(by='AMT_INCOME_TOTAL',ascending=False)"
   ]
  },
  {
   "cell_type": "code",
   "execution_count": 63,
   "metadata": {},
   "outputs": [],
   "source": [
    "colstodrop= check_df5.index.values.tolist()\n",
    "colstodrop.remove('EXT_SOURCE_1')\n"
   ]
  },
  {
   "cell_type": "code",
   "execution_count": 64,
   "metadata": {},
   "outputs": [],
   "source": [
    "train_df= train_df.drop(colstodrop,axis=1)"
   ]
  },
  {
   "cell_type": "code",
   "execution_count": 65,
   "metadata": {},
   "outputs": [],
   "source": [
    "test_df= test_df.drop(colstodrop,axis=1)"
   ]
  },
  {
   "cell_type": "code",
   "execution_count": 66,
   "metadata": {},
   "outputs": [
    {
     "data": {
      "text/plain": [
       "Index(['SK_ID_CURR', 'TARGET', 'NAME_CONTRACT_TYPE', 'CODE_GENDER',\n",
       "       'FLAG_OWN_CAR', 'FLAG_OWN_REALTY', 'CNT_CHILDREN', 'AMT_INCOME_TOTAL',\n",
       "       'AMT_CREDIT', 'AMT_ANNUITY', 'AMT_GOODS_PRICE', 'NAME_TYPE_SUITE',\n",
       "       'NAME_INCOME_TYPE', 'NAME_EDUCATION_TYPE', 'NAME_FAMILY_STATUS',\n",
       "       'NAME_HOUSING_TYPE', 'REGION_POPULATION_RELATIVE', 'DAYS_BIRTH',\n",
       "       'DAYS_REGISTRATION', 'DAYS_ID_PUBLISH', 'FLAG_MOBIL', 'FLAG_EMP_PHONE',\n",
       "       'FLAG_WORK_PHONE', 'FLAG_CONT_MOBILE', 'FLAG_PHONE', 'FLAG_EMAIL',\n",
       "       'CNT_FAM_MEMBERS', 'REGION_RATING_CLIENT',\n",
       "       'REGION_RATING_CLIENT_W_CITY', 'WEEKDAY_APPR_PROCESS_START',\n",
       "       'HOUR_APPR_PROCESS_START', 'REG_REGION_NOT_LIVE_REGION',\n",
       "       'REG_REGION_NOT_WORK_REGION', 'LIVE_REGION_NOT_WORK_REGION',\n",
       "       'REG_CITY_NOT_LIVE_CITY', 'REG_CITY_NOT_WORK_CITY',\n",
       "       'LIVE_CITY_NOT_WORK_CITY', 'ORGANIZATION_TYPE', 'EXT_SOURCE_1',\n",
       "       'EXT_SOURCE_2', 'EXT_SOURCE_3', 'OBS_30_CNT_SOCIAL_CIRCLE',\n",
       "       'DEF_30_CNT_SOCIAL_CIRCLE', 'OBS_60_CNT_SOCIAL_CIRCLE',\n",
       "       'DEF_60_CNT_SOCIAL_CIRCLE', 'DAYS_LAST_PHONE_CHANGE', 'FLAG_DOCUMENT_2',\n",
       "       'FLAG_DOCUMENT_3', 'FLAG_DOCUMENT_4', 'FLAG_DOCUMENT_5',\n",
       "       'FLAG_DOCUMENT_6', 'FLAG_DOCUMENT_7', 'FLAG_DOCUMENT_8',\n",
       "       'FLAG_DOCUMENT_9', 'FLAG_DOCUMENT_10', 'FLAG_DOCUMENT_11',\n",
       "       'FLAG_DOCUMENT_12', 'FLAG_DOCUMENT_13', 'FLAG_DOCUMENT_14',\n",
       "       'FLAG_DOCUMENT_15', 'FLAG_DOCUMENT_16', 'FLAG_DOCUMENT_17',\n",
       "       'FLAG_DOCUMENT_18', 'FLAG_DOCUMENT_19', 'FLAG_DOCUMENT_20',\n",
       "       'FLAG_DOCUMENT_21', 'AMT_REQ_CREDIT_BUREAU_HOUR',\n",
       "       'AMT_REQ_CREDIT_BUREAU_DAY', 'AMT_REQ_CREDIT_BUREAU_WEEK',\n",
       "       'AMT_REQ_CREDIT_BUREAU_MON', 'AMT_REQ_CREDIT_BUREAU_QRT',\n",
       "       'AMT_REQ_CREDIT_BUREAU_YEAR', 'income_fm', 'days_emp', 'ann_nr',\n",
       "       'YEARS_EMPLOYED'],\n",
       "      dtype='object')"
      ]
     },
     "execution_count": 66,
     "metadata": {},
     "output_type": "execute_result"
    }
   ],
   "source": [
    "test_df.columns"
   ]
  },
  {
   "cell_type": "code",
   "execution_count": 67,
   "metadata": {},
   "outputs": [],
   "source": [
    "med_ext1= train_df['EXT_SOURCE_1'].median()\n",
    "train_df['EXT_SOURCE_1'].fillna(med_ext1, inplace=True)\n",
    "test_df['EXT_SOURCE_1'].fillna(med_ext1, inplace=True)"
   ]
  },
  {
   "cell_type": "code",
   "execution_count": 68,
   "metadata": {},
   "outputs": [
    {
     "data": {
      "image/png": "[encoded data removed]",
      "text/plain": [
       "<Figure size 432x288 with 1 Axes>"
      ]
     },
     "metadata": {},
     "output_type": "display_data"
    }
   ],
   "source": [
    "train_df.hist('CNT_CHILDREN')\n",
    "plt.show()"
   ]
  },
  {
   "cell_type": "code",
   "execution_count": 69,
   "metadata": {},
   "outputs": [
    {
     "data": {
      "text/plain": [
       "20948    12\n",
       "4545     11\n",
       "12585    10\n",
       "23881     9\n",
       "12615     8\n",
       "Name: CNT_CHILDREN, dtype: int64"
      ]
     },
     "execution_count": 69,
     "metadata": {},
     "output_type": "execute_result"
    }
   ],
   "source": [
    "train_df.CNT_CHILDREN.sort_values(ascending=False)[:5]"
   ]
  },
  {
   "cell_type": "code",
   "execution_count": 70,
   "metadata": {},
   "outputs": [
    {
     "data": {
      "text/plain": [
       "<matplotlib.axes._subplots.AxesSubplot at 0x1e72dd9c898>"
      ]
     },
     "execution_count": 70,
     "metadata": {},
     "output_type": "execute_result"
    },
    {
     "data": {
      "image/png": "[encoded data removed]",
      "text/plain": [
       "<Figure size 432x288 with 1 Axes>"
      ]
     },
     "metadata": {},
     "output_type": "display_data"
    }
   ],
   "source": [
    "train_df.DAYS_BIRTH.hist()"
   ]
  },
  {
   "cell_type": "code",
   "execution_count": 71,
   "metadata": {},
   "outputs": [
    {
     "data": {
      "image/png": "[encoded data removed]",
      "text/plain": [
       "<Figure size 432x288 with 1 Axes>"
      ]
     },
     "metadata": {},
     "output_type": "display_data"
    }
   ],
   "source": [
    "train_df['YEARS_BIRTH']=train_df.DAYS_BIRTH/-365\n",
    "train_df['YEARS_BIRTH'].hist()\n",
    "plt.show()"
   ]
  },
  {
   "cell_type": "code",
   "execution_count": 72,
   "metadata": {},
   "outputs": [],
   "source": [
    "test_df['YEARS_BIRTH']=test_df.DAYS_BIRTH/-365\n"
   ]
  },
  {
   "cell_type": "code",
   "execution_count": 73,
   "metadata": {},
   "outputs": [
    {
     "name": "stdout",
     "output_type": "stream",
     "text": [
      "Range of age: 21.03013698630137 69.04109589041096\n"
     ]
    }
   ],
   "source": [
    "print(\"Range of age:\",train_df['YEARS_BIRTH'].min(),train_df['YEARS_BIRTH'].max())"
   ]
  },
  {
   "cell_type": "code",
   "execution_count": 74,
   "metadata": {},
   "outputs": [
    {
     "data": {
      "text/html": [
       "<div>\n",
       "<style scoped>\n",
       "    .dataframe tbody tr th:only-of-type {\n",
       "        vertical-align: middle;\n",
       "    }\n",
       "\n",
       "    .dataframe tbody tr th {\n",
       "        vertical-align: top;\n",
       "    }\n",
       "\n",
       "    .dataframe thead th {\n",
       "        text-align: right;\n",
       "    }\n",
       "</style>\n",
       "<table border=\"1\" class=\"dataframe\">\n",
       "  <thead>\n",
       "    <tr style=\"text-align: right;\">\n",
       "      <th></th>\n",
       "      <th>SK_ID_CURR</th>\n",
       "      <th>TARGET</th>\n",
       "      <th>NAME_CONTRACT_TYPE</th>\n",
       "      <th>CODE_GENDER</th>\n",
       "      <th>FLAG_OWN_CAR</th>\n",
       "      <th>FLAG_OWN_REALTY</th>\n",
       "      <th>CNT_CHILDREN</th>\n",
       "      <th>AMT_INCOME_TOTAL</th>\n",
       "      <th>AMT_CREDIT</th>\n",
       "      <th>AMT_ANNUITY</th>\n",
       "      <th>...</th>\n",
       "      <th>AMT_REQ_CREDIT_BUREAU_DAY</th>\n",
       "      <th>AMT_REQ_CREDIT_BUREAU_WEEK</th>\n",
       "      <th>AMT_REQ_CREDIT_BUREAU_MON</th>\n",
       "      <th>AMT_REQ_CREDIT_BUREAU_QRT</th>\n",
       "      <th>AMT_REQ_CREDIT_BUREAU_YEAR</th>\n",
       "      <th>income_fm</th>\n",
       "      <th>days_emp</th>\n",
       "      <th>ann_nr</th>\n",
       "      <th>YEARS_EMPLOYED</th>\n",
       "      <th>YEARS_BIRTH</th>\n",
       "    </tr>\n",
       "  </thead>\n",
       "  <tbody>\n",
       "    <tr>\n",
       "      <th>12229</th>\n",
       "      <td>183763</td>\n",
       "      <td>0</td>\n",
       "      <td>Cash loans</td>\n",
       "      <td>M</td>\n",
       "      <td>Y</td>\n",
       "      <td>N</td>\n",
       "      <td>0</td>\n",
       "      <td>69300.0</td>\n",
       "      <td>967500.0</td>\n",
       "      <td>26604.0</td>\n",
       "      <td>...</td>\n",
       "      <td>0.0</td>\n",
       "      <td>0.0</td>\n",
       "      <td>0.0</td>\n",
       "      <td>0.0</td>\n",
       "      <td>1.0</td>\n",
       "      <td>34650.0</td>\n",
       "      <td>0.178934</td>\n",
       "      <td>36.366712</td>\n",
       "      <td>3.909589</td>\n",
       "      <td>21.849315</td>\n",
       "    </tr>\n",
       "    <tr>\n",
       "      <th>24713</th>\n",
       "      <td>128746</td>\n",
       "      <td>0</td>\n",
       "      <td>Revolving loans</td>\n",
       "      <td>F</td>\n",
       "      <td>N</td>\n",
       "      <td>N</td>\n",
       "      <td>0</td>\n",
       "      <td>112500.0</td>\n",
       "      <td>202500.0</td>\n",
       "      <td>10125.0</td>\n",
       "      <td>...</td>\n",
       "      <td>0.0</td>\n",
       "      <td>0.0</td>\n",
       "      <td>0.0</td>\n",
       "      <td>0.0</td>\n",
       "      <td>1.0</td>\n",
       "      <td>56250.0</td>\n",
       "      <td>0.177022</td>\n",
       "      <td>20.000000</td>\n",
       "      <td>3.879452</td>\n",
       "      <td>21.915068</td>\n",
       "    </tr>\n",
       "    <tr>\n",
       "      <th>756</th>\n",
       "      <td>135697</td>\n",
       "      <td>1</td>\n",
       "      <td>Revolving loans</td>\n",
       "      <td>F</td>\n",
       "      <td>Y</td>\n",
       "      <td>Y</td>\n",
       "      <td>1</td>\n",
       "      <td>157500.0</td>\n",
       "      <td>135000.0</td>\n",
       "      <td>6750.0</td>\n",
       "      <td>...</td>\n",
       "      <td>0.0</td>\n",
       "      <td>0.0</td>\n",
       "      <td>1.0</td>\n",
       "      <td>1.0</td>\n",
       "      <td>1.0</td>\n",
       "      <td>39375.0</td>\n",
       "      <td>0.174830</td>\n",
       "      <td>20.000000</td>\n",
       "      <td>3.813699</td>\n",
       "      <td>21.813699</td>\n",
       "    </tr>\n",
       "    <tr>\n",
       "      <th>18888</th>\n",
       "      <td>191446</td>\n",
       "      <td>0</td>\n",
       "      <td>Cash loans</td>\n",
       "      <td>F</td>\n",
       "      <td>N</td>\n",
       "      <td>Y</td>\n",
       "      <td>0</td>\n",
       "      <td>157500.0</td>\n",
       "      <td>130500.0</td>\n",
       "      <td>12199.5</td>\n",
       "      <td>...</td>\n",
       "      <td>0.0</td>\n",
       "      <td>0.0</td>\n",
       "      <td>0.0</td>\n",
       "      <td>0.0</td>\n",
       "      <td>0.0</td>\n",
       "      <td>78750.0</td>\n",
       "      <td>0.172687</td>\n",
       "      <td>10.697160</td>\n",
       "      <td>3.758904</td>\n",
       "      <td>21.767123</td>\n",
       "    </tr>\n",
       "    <tr>\n",
       "      <th>7522</th>\n",
       "      <td>213233</td>\n",
       "      <td>0</td>\n",
       "      <td>Cash loans</td>\n",
       "      <td>F</td>\n",
       "      <td>N</td>\n",
       "      <td>N</td>\n",
       "      <td>0</td>\n",
       "      <td>180000.0</td>\n",
       "      <td>148500.0</td>\n",
       "      <td>14013.0</td>\n",
       "      <td>...</td>\n",
       "      <td>0.0</td>\n",
       "      <td>0.0</td>\n",
       "      <td>0.0</td>\n",
       "      <td>0.0</td>\n",
       "      <td>1.0</td>\n",
       "      <td>90000.0</td>\n",
       "      <td>0.170796</td>\n",
       "      <td>10.597303</td>\n",
       "      <td>3.739726</td>\n",
       "      <td>21.895890</td>\n",
       "    </tr>\n",
       "    <tr>\n",
       "      <th>10880</th>\n",
       "      <td>217128</td>\n",
       "      <td>0</td>\n",
       "      <td>Revolving loans</td>\n",
       "      <td>F</td>\n",
       "      <td>N</td>\n",
       "      <td>Y</td>\n",
       "      <td>0</td>\n",
       "      <td>112500.0</td>\n",
       "      <td>180000.0</td>\n",
       "      <td>9000.0</td>\n",
       "      <td>...</td>\n",
       "      <td>0.0</td>\n",
       "      <td>0.0</td>\n",
       "      <td>0.0</td>\n",
       "      <td>2.0</td>\n",
       "      <td>0.0</td>\n",
       "      <td>56250.0</td>\n",
       "      <td>0.170655</td>\n",
       "      <td>20.000000</td>\n",
       "      <td>3.731507</td>\n",
       "      <td>21.865753</td>\n",
       "    </tr>\n",
       "    <tr>\n",
       "      <th>23052</th>\n",
       "      <td>265865</td>\n",
       "      <td>1</td>\n",
       "      <td>Revolving loans</td>\n",
       "      <td>F</td>\n",
       "      <td>N</td>\n",
       "      <td>Y</td>\n",
       "      <td>0</td>\n",
       "      <td>112500.0</td>\n",
       "      <td>180000.0</td>\n",
       "      <td>9000.0</td>\n",
       "      <td>...</td>\n",
       "      <td>0.0</td>\n",
       "      <td>0.0</td>\n",
       "      <td>0.0</td>\n",
       "      <td>0.0</td>\n",
       "      <td>3.0</td>\n",
       "      <td>37500.0</td>\n",
       "      <td>0.169695</td>\n",
       "      <td>20.000000</td>\n",
       "      <td>3.709589</td>\n",
       "      <td>21.860274</td>\n",
       "    </tr>\n",
       "    <tr>\n",
       "      <th>14012</th>\n",
       "      <td>185830</td>\n",
       "      <td>1</td>\n",
       "      <td>Revolving loans</td>\n",
       "      <td>M</td>\n",
       "      <td>N</td>\n",
       "      <td>N</td>\n",
       "      <td>0</td>\n",
       "      <td>382500.0</td>\n",
       "      <td>1350000.0</td>\n",
       "      <td>67500.0</td>\n",
       "      <td>...</td>\n",
       "      <td>0.0</td>\n",
       "      <td>0.0</td>\n",
       "      <td>0.0</td>\n",
       "      <td>0.0</td>\n",
       "      <td>1.0</td>\n",
       "      <td>191250.0</td>\n",
       "      <td>0.168304</td>\n",
       "      <td>20.000000</td>\n",
       "      <td>3.660274</td>\n",
       "      <td>21.747945</td>\n",
       "    </tr>\n",
       "    <tr>\n",
       "      <th>8406</th>\n",
       "      <td>214250</td>\n",
       "      <td>0</td>\n",
       "      <td>Cash loans</td>\n",
       "      <td>F</td>\n",
       "      <td>N</td>\n",
       "      <td>N</td>\n",
       "      <td>0</td>\n",
       "      <td>96804.0</td>\n",
       "      <td>1078200.0</td>\n",
       "      <td>29781.0</td>\n",
       "      <td>...</td>\n",
       "      <td>0.0</td>\n",
       "      <td>0.0</td>\n",
       "      <td>0.0</td>\n",
       "      <td>0.0</td>\n",
       "      <td>1.0</td>\n",
       "      <td>32268.0</td>\n",
       "      <td>0.166960</td>\n",
       "      <td>36.204291</td>\n",
       "      <td>3.643836</td>\n",
       "      <td>21.824658</td>\n",
       "    </tr>\n",
       "    <tr>\n",
       "      <th>61</th>\n",
       "      <td>100072</td>\n",
       "      <td>0</td>\n",
       "      <td>Cash loans</td>\n",
       "      <td>M</td>\n",
       "      <td>N</td>\n",
       "      <td>N</td>\n",
       "      <td>0</td>\n",
       "      <td>180000.0</td>\n",
       "      <td>1080000.0</td>\n",
       "      <td>44118.0</td>\n",
       "      <td>...</td>\n",
       "      <td>0.0</td>\n",
       "      <td>0.0</td>\n",
       "      <td>0.0</td>\n",
       "      <td>0.0</td>\n",
       "      <td>4.0</td>\n",
       "      <td>90000.0</td>\n",
       "      <td>0.167447</td>\n",
       "      <td>24.479804</td>\n",
       "      <td>3.627397</td>\n",
       "      <td>21.663014</td>\n",
       "    </tr>\n",
       "  </tbody>\n",
       "</table>\n",
       "<p>10 rows × 77 columns</p>\n",
       "</div>"
      ],
      "text/plain": [
       "       SK_ID_CURR  TARGET NAME_CONTRACT_TYPE CODE_GENDER FLAG_OWN_CAR  \\\n",
       "12229      183763       0         Cash loans           M            Y   \n",
       "24713      128746       0    Revolving loans           F            N   \n",
       "756        135697       1    Revolving loans           F            Y   \n",
       "18888      191446       0         Cash loans           F            N   \n",
       "7522       213233       0         Cash loans           F            N   \n",
       "10880      217128       0    Revolving loans           F            N   \n",
       "23052      265865       1    Revolving loans           F            N   \n",
       "14012      185830       1    Revolving loans           M            N   \n",
       "8406       214250       0         Cash loans           F            N   \n",
       "61         100072       0         Cash loans           M            N   \n",
       "\n",
       "      FLAG_OWN_REALTY  CNT_CHILDREN  AMT_INCOME_TOTAL  AMT_CREDIT  \\\n",
       "12229               N             0           69300.0    967500.0   \n",
       "24713               N             0          112500.0    202500.0   \n",
       "756                 Y             1          157500.0    135000.0   \n",
       "18888               Y             0          157500.0    130500.0   \n",
       "7522                N             0          180000.0    148500.0   \n",
       "10880               Y             0          112500.0    180000.0   \n",
       "23052               Y             0          112500.0    180000.0   \n",
       "14012               N             0          382500.0   1350000.0   \n",
       "8406                N             0           96804.0   1078200.0   \n",
       "61                  N             0          180000.0   1080000.0   \n",
       "\n",
       "       AMT_ANNUITY     ...       AMT_REQ_CREDIT_BUREAU_DAY  \\\n",
       "12229      26604.0     ...                             0.0   \n",
       "24713      10125.0     ...                             0.0   \n",
       "756         6750.0     ...                             0.0   \n",
       "18888      12199.5     ...                             0.0   \n",
       "7522       14013.0     ...                             0.0   \n",
       "10880       9000.0     ...                             0.0   \n",
       "23052       9000.0     ...                             0.0   \n",
       "14012      67500.0     ...                             0.0   \n",
       "8406       29781.0     ...                             0.0   \n",
       "61         44118.0     ...                             0.0   \n",
       "\n",
       "      AMT_REQ_CREDIT_BUREAU_WEEK AMT_REQ_CREDIT_BUREAU_MON  \\\n",
       "12229                        0.0                       0.0   \n",
       "24713                        0.0                       0.0   \n",
       "756                          0.0                       1.0   \n",
       "18888                        0.0                       0.0   \n",
       "7522                         0.0                       0.0   \n",
       "10880                        0.0                       0.0   \n",
       "23052                        0.0                       0.0   \n",
       "14012                        0.0                       0.0   \n",
       "8406                         0.0                       0.0   \n",
       "61                           0.0                       0.0   \n",
       "\n",
       "      AMT_REQ_CREDIT_BUREAU_QRT AMT_REQ_CREDIT_BUREAU_YEAR income_fm  \\\n",
       "12229                       0.0                        1.0   34650.0   \n",
       "24713                       0.0                        1.0   56250.0   \n",
       "756                         1.0                        1.0   39375.0   \n",
       "18888                       0.0                        0.0   78750.0   \n",
       "7522                        0.0                        1.0   90000.0   \n",
       "10880                       2.0                        0.0   56250.0   \n",
       "23052                       0.0                        3.0   37500.0   \n",
       "14012                       0.0                        1.0  191250.0   \n",
       "8406                        0.0                        1.0   32268.0   \n",
       "61                          0.0                        4.0   90000.0   \n",
       "\n",
       "       days_emp     ann_nr  YEARS_EMPLOYED  YEARS_BIRTH  \n",
       "12229  0.178934  36.366712        3.909589    21.849315  \n",
       "24713  0.177022  20.000000        3.879452    21.915068  \n",
       "756    0.174830  20.000000        3.813699    21.813699  \n",
       "18888  0.172687  10.697160        3.758904    21.767123  \n",
       "7522   0.170796  10.597303        3.739726    21.895890  \n",
       "10880  0.170655  20.000000        3.731507    21.865753  \n",
       "23052  0.169695  20.000000        3.709589    21.860274  \n",
       "14012  0.168304  20.000000        3.660274    21.747945  \n",
       "8406   0.166960  36.204291        3.643836    21.824658  \n",
       "61     0.167447  24.479804        3.627397    21.663014  \n",
       "\n",
       "[10 rows x 77 columns]"
      ]
     },
     "execution_count": 74,
     "metadata": {},
     "output_type": "execute_result"
    }
   ],
   "source": [
    "train_df[train_df['YEARS_BIRTH']<22].sort_values(by='YEARS_EMPLOYED',ascending=False)[:10]"
   ]
  },
  {
   "cell_type": "code",
   "execution_count": 75,
   "metadata": {},
   "outputs": [],
   "source": [
    "train_df.drop('DAYS_BIRTH',axis=1,inplace=True)"
   ]
  },
  {
   "cell_type": "code",
   "execution_count": 76,
   "metadata": {},
   "outputs": [],
   "source": [
    "test_df.drop('DAYS_BIRTH',axis=1,inplace=True)"
   ]
  },
  {
   "cell_type": "code",
   "execution_count": 77,
   "metadata": {},
   "outputs": [
    {
     "data": {
      "text/plain": [
       "<matplotlib.axes._subplots.AxesSubplot at 0x1e720e5d8d0>"
      ]
     },
     "execution_count": 77,
     "metadata": {},
     "output_type": "execute_result"
    },
    {
     "data": {
      "image/png": "[encoded data removed]",
      "text/plain": [
       "<Figure size 432x288 with 1 Axes>"
      ]
     },
     "metadata": {},
     "output_type": "display_data"
    }
   ],
   "source": [
    "train_df.DAYS_REGISTRATION.hist()"
   ]
  },
  {
   "cell_type": "code",
   "execution_count": 78,
   "metadata": {},
   "outputs": [
    {
     "data": {
      "text/plain": [
       "<matplotlib.axes._subplots.AxesSubplot at 0x1e72183c6d8>"
      ]
     },
     "execution_count": 78,
     "metadata": {},
     "output_type": "execute_result"
    },
    {
     "data": {
      "image/png": "[encoded data removed]",
      "text/plain": [
       "<Figure size 432x288 with 1 Axes>"
      ]
     },
     "metadata": {},
     "output_type": "display_data"
    }
   ],
   "source": [
    "train_df['YEAR_REGISTRATION']=train_df.DAYS_REGISTRATION/-365\n",
    "train_df.YEAR_REGISTRATION.hist()"
   ]
  },
  {
   "cell_type": "code",
   "execution_count": 79,
   "metadata": {},
   "outputs": [],
   "source": [
    "test_df['YEAR_REGISTRATION']=test_df.DAYS_REGISTRATION/-365"
   ]
  },
  {
   "cell_type": "code",
   "execution_count": 80,
   "metadata": {},
   "outputs": [],
   "source": [
    "train_df.drop('DAYS_REGISTRATION',axis=1,inplace=True)"
   ]
  },
  {
   "cell_type": "code",
   "execution_count": 81,
   "metadata": {},
   "outputs": [],
   "source": [
    "test_df.drop('DAYS_REGISTRATION',axis=1,inplace=True)"
   ]
  },
  {
   "cell_type": "code",
   "execution_count": 82,
   "metadata": {},
   "outputs": [
    {
     "data": {
      "text/plain": [
       "int64      39\n",
       "float64    26\n",
       "object     11\n",
       "dtype: int64"
      ]
     },
     "execution_count": 82,
     "metadata": {},
     "output_type": "execute_result"
    }
   ],
   "source": [
    "train_df.dtypes.value_counts()"
   ]
  },
  {
   "cell_type": "code",
   "execution_count": 83,
   "metadata": {},
   "outputs": [
    {
     "name": "stdout",
     "output_type": "stream",
     "text": [
      "TARGET [1, 0]\n",
      "FLAG_EMP_PHONE [1, 0]\n",
      "FLAG_WORK_PHONE [0, 1]\n",
      "FLAG_CONT_MOBILE [1, 0]\n",
      "FLAG_PHONE [1, 0]\n",
      "FLAG_EMAIL [0, 1]\n",
      "REG_REGION_NOT_LIVE_REGION [0, 1]\n",
      "REG_REGION_NOT_WORK_REGION [0, 1]\n",
      "LIVE_REGION_NOT_WORK_REGION [0, 1]\n",
      "REG_CITY_NOT_LIVE_CITY [0, 1]\n",
      "REG_CITY_NOT_WORK_CITY [0, 1]\n",
      "LIVE_CITY_NOT_WORK_CITY [0, 1]\n",
      "FLAG_DOCUMENT_2 [0, 1]\n",
      "FLAG_DOCUMENT_3 [1, 0]\n",
      "FLAG_DOCUMENT_4 [0, 1]\n",
      "FLAG_DOCUMENT_5 [0, 1]\n",
      "FLAG_DOCUMENT_6 [0, 1]\n",
      "FLAG_DOCUMENT_7 [0, 1]\n",
      "FLAG_DOCUMENT_8 [0, 1]\n",
      "FLAG_DOCUMENT_9 [0, 1]\n",
      "FLAG_DOCUMENT_10 [0, 1]\n",
      "FLAG_DOCUMENT_11 [0, 1]\n",
      "FLAG_DOCUMENT_12 [0, 1]\n",
      "FLAG_DOCUMENT_13 [0, 1]\n",
      "FLAG_DOCUMENT_14 [0, 1]\n",
      "FLAG_DOCUMENT_15 [0, 1]\n",
      "FLAG_DOCUMENT_16 [0, 1]\n",
      "FLAG_DOCUMENT_17 [0, 1]\n",
      "FLAG_DOCUMENT_18 [0, 1]\n",
      "FLAG_DOCUMENT_19 [0, 1]\n",
      "FLAG_DOCUMENT_20 [0, 1]\n",
      "FLAG_DOCUMENT_21 [0, 1]\n"
     ]
    }
   ],
   "source": [
    "cols=train_df.select_dtypes(include=['int64']).columns.tolist()\n",
    "bi=[]\n",
    "for i in cols:\n",
    "    num_uniq=len(train_df[i].unique().tolist())\n",
    "    if num_uniq==2:\n",
    "        print(i,train_df[i].unique().tolist())\n",
    "        bi.append(i)"
   ]
  },
  {
   "cell_type": "code",
   "execution_count": 84,
   "metadata": {},
   "outputs": [
    {
     "name": "stdout",
     "output_type": "stream",
     "text": [
      "Number of binary int variables 32\n"
     ]
    }
   ],
   "source": [
    "print(\"Number of binary int variables\",len(bi))"
   ]
  },
  {
   "cell_type": "code",
   "execution_count": 85,
   "metadata": {},
   "outputs": [
    {
     "name": "stdout",
     "output_type": "stream",
     "text": [
      "SK_ID_CURR 121880\n",
      "CNT_CHILDREN 13\n",
      "DAYS_ID_PUBLISH 6009\n",
      "REGION_RATING_CLIENT 3\n",
      "REGION_RATING_CLIENT_W_CITY 3\n",
      "HOUR_APPR_PROCESS_START 24\n"
     ]
    }
   ],
   "source": [
    "cols=train_df.select_dtypes(include=['int64']).columns.tolist()\n",
    "ints=[]\n",
    "for i in cols:\n",
    "    num_uniq=len(train_df[i].unique().tolist())\n",
    "    if num_uniq>2:\n",
    "        print(i,num_uniq)\n",
    "        ints.append(i)"
   ]
  },
  {
   "cell_type": "code",
   "execution_count": 86,
   "metadata": {},
   "outputs": [
    {
     "data": {
      "text/plain": [
       "<matplotlib.axes._subplots.AxesSubplot at 0x1e72d9ad240>"
      ]
     },
     "execution_count": 86,
     "metadata": {},
     "output_type": "execute_result"
    },
    {
     "data": {
      "image/png": "[encoded data removed]",
      "text/plain": [
       "<Figure size 360x432 with 1 Axes>"
      ]
     },
     "metadata": {},
     "output_type": "display_data"
    }
   ],
   "source": [
    "train_df.boxplot('HOUR_APPR_PROCESS_START','TARGET',rot = 30,figsize=(5,6))"
   ]
  },
  {
   "cell_type": "code",
   "execution_count": 87,
   "metadata": {},
   "outputs": [
    {
     "data": {
      "text/plain": [
       "<matplotlib.axes._subplots.AxesSubplot at 0x1e72d9fcba8>"
      ]
     },
     "execution_count": 87,
     "metadata": {},
     "output_type": "execute_result"
    },
    {
     "data": {
      "image/png": "[encoded data removed]",
      "text/plain": [
       "<Figure size 432x288 with 1 Axes>"
      ]
     },
     "metadata": {},
     "output_type": "display_data"
    }
   ],
   "source": [
    "# DAYS_ID_PUBLISH\n",
    "train_df.boxplot('DAYS_ID_PUBLISH')"
   ]
  },
  {
   "cell_type": "code",
   "execution_count": 88,
   "metadata": {},
   "outputs": [
    {
     "data": {
      "image/png": "[encoded data removed]",
      "text/plain": [
       "<Figure size 432x288 with 1 Axes>"
      ]
     },
     "metadata": {},
     "output_type": "display_data"
    }
   ],
   "source": [
    "train_df['YEARS_ID_PUBLISH']=train_df['DAYS_ID_PUBLISH']/-365\n",
    "train_df['YEARS_ID_PUBLISH'].hist()\n",
    "plt.show()"
   ]
  },
  {
   "cell_type": "code",
   "execution_count": 89,
   "metadata": {},
   "outputs": [],
   "source": [
    "test_df['YEARS_ID_PUBLISH']=test_df['DAYS_ID_PUBLISH']/-365"
   ]
  },
  {
   "cell_type": "code",
   "execution_count": 90,
   "metadata": {},
   "outputs": [],
   "source": [
    "train_df.drop('DAYS_ID_PUBLISH',axis=1,inplace=True)"
   ]
  },
  {
   "cell_type": "code",
   "execution_count": 91,
   "metadata": {},
   "outputs": [],
   "source": [
    "test_df.drop('DAYS_ID_PUBLISH',axis=1,inplace=True)"
   ]
  },
  {
   "cell_type": "code",
   "execution_count": 92,
   "metadata": {},
   "outputs": [
    {
     "data": {
      "text/plain": [
       "['NAME_CONTRACT_TYPE',\n",
       " 'CODE_GENDER',\n",
       " 'FLAG_OWN_CAR',\n",
       " 'FLAG_OWN_REALTY',\n",
       " 'NAME_TYPE_SUITE',\n",
       " 'NAME_INCOME_TYPE',\n",
       " 'NAME_EDUCATION_TYPE',\n",
       " 'NAME_FAMILY_STATUS',\n",
       " 'NAME_HOUSING_TYPE',\n",
       " 'WEEKDAY_APPR_PROCESS_START',\n",
       " 'ORGANIZATION_TYPE']"
      ]
     },
     "execution_count": 92,
     "metadata": {},
     "output_type": "execute_result"
    }
   ],
   "source": [
    "objcols=train_df.select_dtypes(include=['object']).columns.tolist()\n",
    "objcols"
   ]
  },
  {
   "cell_type": "code",
   "execution_count": 93,
   "metadata": {},
   "outputs": [
    {
     "name": "stdout",
     "output_type": "stream",
     "text": [
      "NAME_CONTRACT_TYPE ['Cash loans' 'Revolving loans']\n",
      "CODE_GENDER ['M' 'F' 'XNA']\n",
      "FLAG_OWN_CAR ['N' 'Y']\n",
      "FLAG_OWN_REALTY ['Y' 'N']\n",
      "NAME_TYPE_SUITE ['Unaccompanied' 'Family' 'Spouse, partner' 'Other_A' 'Children'\n",
      " 'Group of people' 'Other_B']\n",
      "NAME_INCOME_TYPE ['Working' 'State servant' 'Commercial associate' 'Student' 'Pensioner'\n",
      " 'Businessman' 'Maternity leave']\n",
      "NAME_EDUCATION_TYPE ['Secondary / secondary special' 'Higher education' 'Incomplete higher'\n",
      " 'Lower secondary' 'Academic degree']\n",
      "NAME_FAMILY_STATUS ['Single / not married' 'Married' 'Civil marriage' 'Widow' 'Separated']\n",
      "NAME_HOUSING_TYPE ['House / apartment' 'Rented apartment' 'With parents'\n",
      " 'Municipal apartment' 'Office apartment' 'Co-op apartment']\n",
      "WEEKDAY_APPR_PROCESS_START ['WEDNESDAY' 'MONDAY' 'THURSDAY' 'SUNDAY' 'SATURDAY' 'FRIDAY' 'TUESDAY']\n",
      "ORGANIZATION_TYPE ['Business Entity Type 3' 'School' 'Government' 'Religion' 'Other'\n",
      " 'Electricity' 'Medicine' 'Business Entity Type 2' 'Self-employed'\n",
      " 'Transport: type 2' 'Construction' 'Housing' 'Kindergarten'\n",
      " 'Trade: type 7' 'Industry: type 11' 'Military' 'Services'\n",
      " 'Security Ministries' 'Transport: type 4' 'Industry: type 1' 'Emergency'\n",
      " 'Security' 'Trade: type 2' 'University' 'Police' 'Business Entity Type 1'\n",
      " 'Postal' 'Transport: type 3' 'Industry: type 4' 'Agriculture'\n",
      " 'Restaurant' 'Culture' 'Hotel' 'Industry: type 7' 'Trade: type 3'\n",
      " 'Industry: type 3' 'Bank' 'Industry: type 9' 'Insurance' 'Trade: type 6'\n",
      " 'Industry: type 2' 'Transport: type 1' 'Industry: type 12' 'Mobile'\n",
      " 'Trade: type 1' 'Industry: type 5' 'Industry: type 10' 'Legal Services'\n",
      " 'Advertising' 'Trade: type 5' 'Cleaning' 'Industry: type 13'\n",
      " 'Trade: type 4' 'Telecom' 'Industry: type 8' 'Realtor' 'Industry: type 6']\n"
     ]
    }
   ],
   "source": [
    "for i in objcols:\n",
    "    print(i,train_df[i].unique())"
   ]
  },
  {
   "cell_type": "code",
   "execution_count": 94,
   "metadata": {},
   "outputs": [
    {
     "data": {
      "image/png": "[encoded data removed]",
      "text/plain": [
       "<Figure size 432x288 with 1 Axes>"
      ]
     },
     "metadata": {},
     "output_type": "display_data"
    },
    {
     "name": "stdout",
     "output_type": "stream",
     "text": [
      "AMT_INCOME_TOTAL 1216\n"
     ]
    },
    {
     "data": {
      "image/png": "[encoded data removed]",
      "text/plain": [
       "<Figure size 432x288 with 1 Axes>"
      ]
     },
     "metadata": {},
     "output_type": "display_data"
    },
    {
     "name": "stdout",
     "output_type": "stream",
     "text": [
      "AMT_CREDIT 4155\n"
     ]
    },
    {
     "data": {
      "image/png": "[encoded data removed]",
      "text/plain": [
       "<Figure size 432x288 with 1 Axes>"
      ]
     },
     "metadata": {},
     "output_type": "display_data"
    },
    {
     "name": "stdout",
     "output_type": "stream",
     "text": [
      "AMT_ANNUITY 10275\n"
     ]
    },
    {
     "data": {
      "image/png": "[encoded data removed]",
      "text/plain": [
       "<Figure size 432x288 with 1 Axes>"
      ]
     },
     "metadata": {},
     "output_type": "display_data"
    },
    {
     "name": "stdout",
     "output_type": "stream",
     "text": [
      "AMT_GOODS_PRICE 578\n"
     ]
    },
    {
     "data": {
      "image/png": "[encoded data removed]",
      "text/plain": [
       "<Figure size 432x288 with 1 Axes>"
      ]
     },
     "metadata": {},
     "output_type": "display_data"
    },
    {
     "name": "stdout",
     "output_type": "stream",
     "text": [
      "REGION_POPULATION_RELATIVE 80\n"
     ]
    },
    {
     "data": {
      "image/png": "[encoded data removed]",
      "text/plain": [
       "<Figure size 432x288 with 1 Axes>"
      ]
     },
     "metadata": {},
     "output_type": "display_data"
    },
    {
     "name": "stdout",
     "output_type": "stream",
     "text": [
      "CNT_FAM_MEMBERS 13\n"
     ]
    },
    {
     "data": {
      "image/png": "[encoded data removed]",
      "text/plain": [
       "<Figure size 432x288 with 1 Axes>"
      ]
     },
     "metadata": {},
     "output_type": "display_data"
    },
    {
     "name": "stdout",
     "output_type": "stream",
     "text": [
      "EXT_SOURCE_1 54701\n"
     ]
    },
    {
     "data": {
      "image/png": "[encoded data removed]",
      "text/plain": [
       "<Figure size 432x288 with 1 Axes>"
      ]
     },
     "metadata": {},
     "output_type": "display_data"
    },
    {
     "name": "stdout",
     "output_type": "stream",
     "text": [
      "EXT_SOURCE_2 75312\n"
     ]
    },
    {
     "data": {
      "image/png": "[encoded data removed]",
      "text/plain": [
       "<Figure size 432x288 with 1 Axes>"
      ]
     },
     "metadata": {},
     "output_type": "display_data"
    },
    {
     "name": "stdout",
     "output_type": "stream",
     "text": [
      "EXT_SOURCE_3 781\n"
     ]
    },
    {
     "data": {
      "image/png": "[encoded data removed]",
      "text/plain": [
       "<Figure size 432x288 with 1 Axes>"
      ]
     },
     "metadata": {},
     "output_type": "display_data"
    },
    {
     "name": "stdout",
     "output_type": "stream",
     "text": [
      "OBS_30_CNT_SOCIAL_CIRCLE 30\n"
     ]
    },
    {
     "data": {
      "image/png": "[encoded data removed]",
      "text/plain": [
       "<Figure size 432x288 with 1 Axes>"
      ]
     },
     "metadata": {},
     "output_type": "display_data"
    },
    {
     "name": "stdout",
     "output_type": "stream",
     "text": [
      "DEF_30_CNT_SOCIAL_CIRCLE 8\n"
     ]
    },
    {
     "data": {
      "image/png": "[encoded data removed]",
      "text/plain": [
       "<Figure size 432x288 with 1 Axes>"
      ]
     },
     "metadata": {},
     "output_type": "display_data"
    },
    {
     "name": "stdout",
     "output_type": "stream",
     "text": [
      "OBS_60_CNT_SOCIAL_CIRCLE 30\n"
     ]
    },
    {
     "data": {
      "image/png": "[encoded data removed]",
      "text/plain": [
       "<Figure size 432x288 with 1 Axes>"
      ]
     },
     "metadata": {},
     "output_type": "display_data"
    },
    {
     "name": "stdout",
     "output_type": "stream",
     "text": [
      "DEF_60_CNT_SOCIAL_CIRCLE 7\n"
     ]
    },
    {
     "data": {
      "image/png": "[encoded data removed]",
      "text/plain": [
       "<Figure size 432x288 with 1 Axes>"
      ]
     },
     "metadata": {},
     "output_type": "display_data"
    },
    {
     "name": "stdout",
     "output_type": "stream",
     "text": [
      "DAYS_LAST_PHONE_CHANGE 3600\n"
     ]
    },
    {
     "data": {
      "image/png": "[encoded data removed]",
      "text/plain": [
       "<Figure size 432x288 with 1 Axes>"
      ]
     },
     "metadata": {},
     "output_type": "display_data"
    },
    {
     "name": "stdout",
     "output_type": "stream",
     "text": [
      "AMT_REQ_CREDIT_BUREAU_HOUR 4\n"
     ]
    },
    {
     "data": {
      "image/png": "[encoded data removed]",
      "text/plain": [
       "<Figure size 432x288 with 1 Axes>"
      ]
     },
     "metadata": {},
     "output_type": "display_data"
    },
    {
     "name": "stdout",
     "output_type": "stream",
     "text": [
      "AMT_REQ_CREDIT_BUREAU_DAY 8\n"
     ]
    },
    {
     "data": {
      "image/png": "[encoded data removed]",
      "text/plain": [
       "<Figure size 432x288 with 1 Axes>"
      ]
     },
     "metadata": {},
     "output_type": "display_data"
    },
    {
     "name": "stdout",
     "output_type": "stream",
     "text": [
      "AMT_REQ_CREDIT_BUREAU_WEEK 8\n"
     ]
    },
    {
     "data": {
      "image/png": "[encoded data removed]",
      "text/plain": [
       "<Figure size 432x288 with 1 Axes>"
      ]
     },
     "metadata": {},
     "output_type": "display_data"
    },
    {
     "name": "stdout",
     "output_type": "stream",
     "text": [
      "AMT_REQ_CREDIT_BUREAU_MON 22\n"
     ]
    },
    {
     "data": {
      "image/png": "[encoded data removed]",
      "text/plain": [
       "<Figure size 432x288 with 1 Axes>"
      ]
     },
     "metadata": {},
     "output_type": "display_data"
    },
    {
     "name": "stdout",
     "output_type": "stream",
     "text": [
      "AMT_REQ_CREDIT_BUREAU_QRT 9\n"
     ]
    },
    {
     "data": {
      "image/png": "[encoded data removed]",
      "text/plain": [
       "<Figure size 432x288 with 1 Axes>"
      ]
     },
     "metadata": {},
     "output_type": "display_data"
    },
    {
     "name": "stdout",
     "output_type": "stream",
     "text": [
      "AMT_REQ_CREDIT_BUREAU_YEAR 21\n"
     ]
    },
    {
     "data": {
      "image/png": "[encoded data removed]",
      "text/plain": [
       "<Figure size 432x288 with 1 Axes>"
      ]
     },
     "metadata": {},
     "output_type": "display_data"
    },
    {
     "name": "stdout",
     "output_type": "stream",
     "text": [
      "income_fm 1747\n"
     ]
    },
    {
     "data": {
      "image/png": "[encoded data removed]",
      "text/plain": [
       "<Figure size 432x288 with 1 Axes>"
      ]
     },
     "metadata": {},
     "output_type": "display_data"
    },
    {
     "name": "stdout",
     "output_type": "stream",
     "text": [
      "days_emp 121304\n"
     ]
    },
    {
     "data": {
      "image/png": "[encoded data removed]",
      "text/plain": [
       "<Figure size 432x288 with 1 Axes>"
      ]
     },
     "metadata": {},
     "output_type": "display_data"
    },
    {
     "name": "stdout",
     "output_type": "stream",
     "text": [
      "ann_nr 24439\n"
     ]
    },
    {
     "data": {
      "image/png": "[encoded data removed]",
      "text/plain": [
       "<Figure size 432x288 with 1 Axes>"
      ]
     },
     "metadata": {},
     "output_type": "display_data"
    },
    {
     "name": "stdout",
     "output_type": "stream",
     "text": [
      "YEARS_EMPLOYED 10836\n"
     ]
    },
    {
     "data": {
      "image/png": "[encoded data removed]",
      "text/plain": [
       "<Figure size 432x288 with 1 Axes>"
      ]
     },
     "metadata": {},
     "output_type": "display_data"
    },
    {
     "name": "stdout",
     "output_type": "stream",
     "text": [
      "YEARS_BIRTH 15748\n"
     ]
    },
    {
     "data": {
      "image/png": "[encoded data removed]",
      "text/plain": [
       "<Figure size 432x288 with 1 Axes>"
      ]
     },
     "metadata": {},
     "output_type": "display_data"
    },
    {
     "name": "stdout",
     "output_type": "stream",
     "text": [
      "YEAR_REGISTRATION 13396\n"
     ]
    },
    {
     "data": {
      "image/png": "[encoded data removed]",
      "text/plain": [
       "<Figure size 432x288 with 1 Axes>"
      ]
     },
     "metadata": {},
     "output_type": "display_data"
    },
    {
     "name": "stdout",
     "output_type": "stream",
     "text": [
      "YEARS_ID_PUBLISH 6009\n"
     ]
    }
   ],
   "source": [
    "cols=train_df.select_dtypes(include=['float64']).columns.tolist()\n",
    "floats=[]\n",
    "for i in cols:\n",
    "    num_uniq=len(train_df[i].unique().tolist())\n",
    "    train_df.boxplot(i)\n",
    "    plt.show()\n",
    "    print(i,num_uniq)\n",
    "    floats.append(i)"
   ]
  },
  {
   "cell_type": "code",
   "execution_count": 95,
   "metadata": {},
   "outputs": [
    {
     "data": {
      "text/plain": [
       "27"
      ]
     },
     "execution_count": 95,
     "metadata": {},
     "output_type": "execute_result"
    }
   ],
   "source": [
    "len(floats)"
   ]
  },
  {
   "cell_type": "code",
   "execution_count": 96,
   "metadata": {},
   "outputs": [],
   "source": [
    "bi_obj=['FLAG_OWN_CAR','FLAG_OWN_REALTY']\n",
    "for i in bi_obj:\n",
    "    y=train_df[i].map({'Y': 1,'N':0})\n",
    "    train_df[i]=y"
   ]
  },
  {
   "cell_type": "code",
   "execution_count": 97,
   "metadata": {},
   "outputs": [],
   "source": [
    "bi_obj=['FLAG_OWN_CAR','FLAG_OWN_REALTY']\n",
    "for i in bi_obj:\n",
    "    y=test_df[i].map({'Y': 1,'N':0})\n",
    "    test_df[i]=y"
   ]
  },
  {
   "cell_type": "code",
   "execution_count": 98,
   "metadata": {},
   "outputs": [
    {
     "data": {
      "text/plain": [
       "['NAME_CONTRACT_TYPE',\n",
       " 'CODE_GENDER',\n",
       " 'NAME_TYPE_SUITE',\n",
       " 'NAME_INCOME_TYPE',\n",
       " 'NAME_EDUCATION_TYPE',\n",
       " 'NAME_FAMILY_STATUS',\n",
       " 'NAME_HOUSING_TYPE',\n",
       " 'WEEKDAY_APPR_PROCESS_START',\n",
       " 'ORGANIZATION_TYPE']"
      ]
     },
     "execution_count": 98,
     "metadata": {},
     "output_type": "execute_result"
    }
   ],
   "source": [
    "objcols=train_df.select_dtypes(include=['object']).columns.tolist()\n",
    "objcols\n",
    "# train_df['FLAG_OWN_CAR']"
   ]
  },
  {
   "cell_type": "code",
   "execution_count": 99,
   "metadata": {},
   "outputs": [],
   "source": [
    "#dummy variables\n",
    "def getdummies(df):\n",
    "    t1=df.select_dtypes(include='object')\n",
    "    t1dummies=pd.get_dummies(t1)\n",
    "    return t1dummies"
   ]
  },
  {
   "cell_type": "code",
   "execution_count": 100,
   "metadata": {},
   "outputs": [
    {
     "data": {
      "text/plain": [
       "True"
      ]
     },
     "execution_count": 100,
     "metadata": {},
     "output_type": "execute_result"
    }
   ],
   "source": [
    "train_df_dummies=getdummies(train_df)\n",
    "\n",
    "len(train_df_dummies)==len(train_df)"
   ]
  },
  {
   "cell_type": "code",
   "execution_count": 101,
   "metadata": {},
   "outputs": [
    {
     "data": {
      "text/plain": [
       "True"
      ]
     },
     "execution_count": 101,
     "metadata": {},
     "output_type": "execute_result"
    }
   ],
   "source": [
    "test_df_dummies=getdummies(test_df)\n",
    "\n",
    "len(test_df_dummies)==len(test_df)"
   ]
  },
  {
   "cell_type": "code",
   "execution_count": 102,
   "metadata": {},
   "outputs": [],
   "source": [
    "train_df.drop(objcols,axis=1,inplace=True)"
   ]
  },
  {
   "cell_type": "code",
   "execution_count": 103,
   "metadata": {},
   "outputs": [],
   "source": [
    "test_df.drop(objcols,axis=1,inplace=True)"
   ]
  },
  {
   "cell_type": "code",
   "execution_count": 104,
   "metadata": {},
   "outputs": [
    {
     "data": {
      "text/html": [
       "<div>\n",
       "<style scoped>\n",
       "    .dataframe tbody tr th:only-of-type {\n",
       "        vertical-align: middle;\n",
       "    }\n",
       "\n",
       "    .dataframe tbody tr th {\n",
       "        vertical-align: top;\n",
       "    }\n",
       "\n",
       "    .dataframe thead th {\n",
       "        text-align: right;\n",
       "    }\n",
       "</style>\n",
       "<table border=\"1\" class=\"dataframe\">\n",
       "  <thead>\n",
       "    <tr style=\"text-align: right;\">\n",
       "      <th></th>\n",
       "      <th>SK_ID_CURR</th>\n",
       "      <th>TARGET</th>\n",
       "      <th>FLAG_OWN_CAR</th>\n",
       "      <th>FLAG_OWN_REALTY</th>\n",
       "      <th>CNT_CHILDREN</th>\n",
       "      <th>AMT_INCOME_TOTAL</th>\n",
       "      <th>AMT_CREDIT</th>\n",
       "      <th>AMT_ANNUITY</th>\n",
       "      <th>AMT_GOODS_PRICE</th>\n",
       "      <th>REGION_POPULATION_RELATIVE</th>\n",
       "      <th>...</th>\n",
       "      <th>ORGANIZATION_TYPE_Trade: type 3</th>\n",
       "      <th>ORGANIZATION_TYPE_Trade: type 4</th>\n",
       "      <th>ORGANIZATION_TYPE_Trade: type 5</th>\n",
       "      <th>ORGANIZATION_TYPE_Trade: type 6</th>\n",
       "      <th>ORGANIZATION_TYPE_Trade: type 7</th>\n",
       "      <th>ORGANIZATION_TYPE_Transport: type 1</th>\n",
       "      <th>ORGANIZATION_TYPE_Transport: type 2</th>\n",
       "      <th>ORGANIZATION_TYPE_Transport: type 3</th>\n",
       "      <th>ORGANIZATION_TYPE_Transport: type 4</th>\n",
       "      <th>ORGANIZATION_TYPE_University</th>\n",
       "    </tr>\n",
       "  </thead>\n",
       "  <tbody>\n",
       "    <tr>\n",
       "      <th>0</th>\n",
       "      <td>100002</td>\n",
       "      <td>1</td>\n",
       "      <td>0</td>\n",
       "      <td>1</td>\n",
       "      <td>0</td>\n",
       "      <td>202500.0</td>\n",
       "      <td>406597.5</td>\n",
       "      <td>24700.5</td>\n",
       "      <td>351000.0</td>\n",
       "      <td>0.018801</td>\n",
       "      <td>...</td>\n",
       "      <td>0</td>\n",
       "      <td>0</td>\n",
       "      <td>0</td>\n",
       "      <td>0</td>\n",
       "      <td>0</td>\n",
       "      <td>0</td>\n",
       "      <td>0</td>\n",
       "      <td>0</td>\n",
       "      <td>0</td>\n",
       "      <td>0</td>\n",
       "    </tr>\n",
       "    <tr>\n",
       "      <th>1</th>\n",
       "      <td>100003</td>\n",
       "      <td>0</td>\n",
       "      <td>0</td>\n",
       "      <td>0</td>\n",
       "      <td>0</td>\n",
       "      <td>270000.0</td>\n",
       "      <td>1293502.5</td>\n",
       "      <td>35698.5</td>\n",
       "      <td>1129500.0</td>\n",
       "      <td>0.003541</td>\n",
       "      <td>...</td>\n",
       "      <td>0</td>\n",
       "      <td>0</td>\n",
       "      <td>0</td>\n",
       "      <td>0</td>\n",
       "      <td>0</td>\n",
       "      <td>0</td>\n",
       "      <td>0</td>\n",
       "      <td>0</td>\n",
       "      <td>0</td>\n",
       "      <td>0</td>\n",
       "    </tr>\n",
       "    <tr>\n",
       "      <th>2</th>\n",
       "      <td>100004</td>\n",
       "      <td>0</td>\n",
       "      <td>1</td>\n",
       "      <td>1</td>\n",
       "      <td>0</td>\n",
       "      <td>67500.0</td>\n",
       "      <td>135000.0</td>\n",
       "      <td>6750.0</td>\n",
       "      <td>135000.0</td>\n",
       "      <td>0.010032</td>\n",
       "      <td>...</td>\n",
       "      <td>0</td>\n",
       "      <td>0</td>\n",
       "      <td>0</td>\n",
       "      <td>0</td>\n",
       "      <td>0</td>\n",
       "      <td>0</td>\n",
       "      <td>0</td>\n",
       "      <td>0</td>\n",
       "      <td>0</td>\n",
       "      <td>0</td>\n",
       "    </tr>\n",
       "    <tr>\n",
       "      <th>3</th>\n",
       "      <td>100006</td>\n",
       "      <td>0</td>\n",
       "      <td>0</td>\n",
       "      <td>1</td>\n",
       "      <td>0</td>\n",
       "      <td>135000.0</td>\n",
       "      <td>312682.5</td>\n",
       "      <td>29686.5</td>\n",
       "      <td>297000.0</td>\n",
       "      <td>0.008019</td>\n",
       "      <td>...</td>\n",
       "      <td>0</td>\n",
       "      <td>0</td>\n",
       "      <td>0</td>\n",
       "      <td>0</td>\n",
       "      <td>0</td>\n",
       "      <td>0</td>\n",
       "      <td>0</td>\n",
       "      <td>0</td>\n",
       "      <td>0</td>\n",
       "      <td>0</td>\n",
       "    </tr>\n",
       "    <tr>\n",
       "      <th>4</th>\n",
       "      <td>100007</td>\n",
       "      <td>0</td>\n",
       "      <td>0</td>\n",
       "      <td>1</td>\n",
       "      <td>0</td>\n",
       "      <td>121500.0</td>\n",
       "      <td>513000.0</td>\n",
       "      <td>21865.5</td>\n",
       "      <td>513000.0</td>\n",
       "      <td>0.028663</td>\n",
       "      <td>...</td>\n",
       "      <td>0</td>\n",
       "      <td>0</td>\n",
       "      <td>0</td>\n",
       "      <td>0</td>\n",
       "      <td>0</td>\n",
       "      <td>0</td>\n",
       "      <td>0</td>\n",
       "      <td>0</td>\n",
       "      <td>0</td>\n",
       "      <td>0</td>\n",
       "    </tr>\n",
       "  </tbody>\n",
       "</table>\n",
       "<p>5 rows × 166 columns</p>\n",
       "</div>"
      ],
      "text/plain": [
       "   SK_ID_CURR  TARGET  FLAG_OWN_CAR  FLAG_OWN_REALTY  CNT_CHILDREN  \\\n",
       "0      100002       1             0                1             0   \n",
       "1      100003       0             0                0             0   \n",
       "2      100004       0             1                1             0   \n",
       "3      100006       0             0                1             0   \n",
       "4      100007       0             0                1             0   \n",
       "\n",
       "   AMT_INCOME_TOTAL  AMT_CREDIT  AMT_ANNUITY  AMT_GOODS_PRICE  \\\n",
       "0          202500.0    406597.5      24700.5         351000.0   \n",
       "1          270000.0   1293502.5      35698.5        1129500.0   \n",
       "2           67500.0    135000.0       6750.0         135000.0   \n",
       "3          135000.0    312682.5      29686.5         297000.0   \n",
       "4          121500.0    513000.0      21865.5         513000.0   \n",
       "\n",
       "   REGION_POPULATION_RELATIVE              ...               \\\n",
       "0                    0.018801              ...                \n",
       "1                    0.003541              ...                \n",
       "2                    0.010032              ...                \n",
       "3                    0.008019              ...                \n",
       "4                    0.028663              ...                \n",
       "\n",
       "   ORGANIZATION_TYPE_Trade: type 3  ORGANIZATION_TYPE_Trade: type 4  \\\n",
       "0                                0                                0   \n",
       "1                                0                                0   \n",
       "2                                0                                0   \n",
       "3                                0                                0   \n",
       "4                                0                                0   \n",
       "\n",
       "   ORGANIZATION_TYPE_Trade: type 5  ORGANIZATION_TYPE_Trade: type 6  \\\n",
       "0                                0                                0   \n",
       "1                                0                                0   \n",
       "2                                0                                0   \n",
       "3                                0                                0   \n",
       "4                                0                                0   \n",
       "\n",
       "   ORGANIZATION_TYPE_Trade: type 7  ORGANIZATION_TYPE_Transport: type 1  \\\n",
       "0                                0                                    0   \n",
       "1                                0                                    0   \n",
       "2                                0                                    0   \n",
       "3                                0                                    0   \n",
       "4                                0                                    0   \n",
       "\n",
       "   ORGANIZATION_TYPE_Transport: type 2  ORGANIZATION_TYPE_Transport: type 3  \\\n",
       "0                                    0                                    0   \n",
       "1                                    0                                    0   \n",
       "2                                    0                                    0   \n",
       "3                                    0                                    0   \n",
       "4                                    0                                    0   \n",
       "\n",
       "   ORGANIZATION_TYPE_Transport: type 4  ORGANIZATION_TYPE_University  \n",
       "0                                    0                             0  \n",
       "1                                    0                             0  \n",
       "2                                    0                             0  \n",
       "3                                    0                             0  \n",
       "4                                    0                             0  \n",
       "\n",
       "[5 rows x 166 columns]"
      ]
     },
     "execution_count": 104,
     "metadata": {},
     "output_type": "execute_result"
    }
   ],
   "source": [
    "traindf= pd.concat([train_df,train_df_dummies],axis=1)\n",
    "traindf.head(5)"
   ]
  },
  {
   "cell_type": "code",
   "execution_count": 105,
   "metadata": {},
   "outputs": [],
   "source": [
    "testdf= pd.concat([test_df,test_df_dummies],axis=1)"
   ]
  },
  {
   "cell_type": "code",
   "execution_count": 106,
   "metadata": {},
   "outputs": [],
   "source": [
    "testcols=testdf.columns.tolist()\n",
    "traincols=traindf.columns.tolist()"
   ]
  },
  {
   "cell_type": "code",
   "execution_count": 107,
   "metadata": {},
   "outputs": [
    {
     "data": {
      "text/html": [
       "<div>\n",
       "<style scoped>\n",
       "    .dataframe tbody tr th:only-of-type {\n",
       "        vertical-align: middle;\n",
       "    }\n",
       "\n",
       "    .dataframe tbody tr th {\n",
       "        vertical-align: top;\n",
       "    }\n",
       "\n",
       "    .dataframe thead th {\n",
       "        text-align: right;\n",
       "    }\n",
       "</style>\n",
       "<table border=\"1\" class=\"dataframe\">\n",
       "  <thead>\n",
       "    <tr style=\"text-align: right;\">\n",
       "      <th></th>\n",
       "      <th>SK_ID_CURR</th>\n",
       "      <th>TARGET</th>\n",
       "      <th>FLAG_OWN_CAR</th>\n",
       "      <th>FLAG_OWN_REALTY</th>\n",
       "      <th>CNT_CHILDREN</th>\n",
       "      <th>AMT_INCOME_TOTAL</th>\n",
       "      <th>AMT_CREDIT</th>\n",
       "      <th>AMT_ANNUITY</th>\n",
       "      <th>AMT_GOODS_PRICE</th>\n",
       "      <th>REGION_POPULATION_RELATIVE</th>\n",
       "      <th>...</th>\n",
       "      <th>ORGANIZATION_TYPE_Trade: type 3</th>\n",
       "      <th>ORGANIZATION_TYPE_Trade: type 4</th>\n",
       "      <th>ORGANIZATION_TYPE_Trade: type 5</th>\n",
       "      <th>ORGANIZATION_TYPE_Trade: type 6</th>\n",
       "      <th>ORGANIZATION_TYPE_Trade: type 7</th>\n",
       "      <th>ORGANIZATION_TYPE_Transport: type 1</th>\n",
       "      <th>ORGANIZATION_TYPE_Transport: type 2</th>\n",
       "      <th>ORGANIZATION_TYPE_Transport: type 3</th>\n",
       "      <th>ORGANIZATION_TYPE_Transport: type 4</th>\n",
       "      <th>ORGANIZATION_TYPE_University</th>\n",
       "    </tr>\n",
       "  </thead>\n",
       "  <tbody>\n",
       "    <tr>\n",
       "      <th>0</th>\n",
       "      <td>273889</td>\n",
       "      <td>0</td>\n",
       "      <td>1</td>\n",
       "      <td>0</td>\n",
       "      <td>0</td>\n",
       "      <td>324000.0</td>\n",
       "      <td>675000.0</td>\n",
       "      <td>32602.5</td>\n",
       "      <td>675000.0</td>\n",
       "      <td>0.072508</td>\n",
       "      <td>...</td>\n",
       "      <td>0</td>\n",
       "      <td>0</td>\n",
       "      <td>0</td>\n",
       "      <td>0</td>\n",
       "      <td>0</td>\n",
       "      <td>0</td>\n",
       "      <td>0</td>\n",
       "      <td>0</td>\n",
       "      <td>0</td>\n",
       "      <td>0</td>\n",
       "    </tr>\n",
       "  </tbody>\n",
       "</table>\n",
       "<p>1 rows × 160 columns</p>\n",
       "</div>"
      ],
      "text/plain": [
       "   SK_ID_CURR  TARGET  FLAG_OWN_CAR  FLAG_OWN_REALTY  CNT_CHILDREN  \\\n",
       "0      273889       0             1                0             0   \n",
       "\n",
       "   AMT_INCOME_TOTAL  AMT_CREDIT  AMT_ANNUITY  AMT_GOODS_PRICE  \\\n",
       "0          324000.0    675000.0      32602.5         675000.0   \n",
       "\n",
       "   REGION_POPULATION_RELATIVE              ...               \\\n",
       "0                    0.072508              ...                \n",
       "\n",
       "   ORGANIZATION_TYPE_Trade: type 3  ORGANIZATION_TYPE_Trade: type 4  \\\n",
       "0                                0                                0   \n",
       "\n",
       "   ORGANIZATION_TYPE_Trade: type 5  ORGANIZATION_TYPE_Trade: type 6  \\\n",
       "0                                0                                0   \n",
       "\n",
       "   ORGANIZATION_TYPE_Trade: type 7  ORGANIZATION_TYPE_Transport: type 1  \\\n",
       "0                                0                                    0   \n",
       "\n",
       "   ORGANIZATION_TYPE_Transport: type 2  ORGANIZATION_TYPE_Transport: type 3  \\\n",
       "0                                    0                                    0   \n",
       "\n",
       "   ORGANIZATION_TYPE_Transport: type 4  ORGANIZATION_TYPE_University  \n",
       "0                                    0                             0  \n",
       "\n",
       "[1 rows x 160 columns]"
      ]
     },
     "execution_count": 107,
     "metadata": {},
     "output_type": "execute_result"
    }
   ],
   "source": [
    "testdf.head(1)"
   ]
  },
  {
   "cell_type": "markdown",
   "metadata": {},
   "source": [
    "the length of columns don't match so therefore we must align them."
   ]
  },
  {
   "cell_type": "code",
   "execution_count": 108,
   "metadata": {},
   "outputs": [],
   "source": [
    "traindf, testdf = traindf.align(testdf, join = 'inner', axis = 1)"
   ]
  },
  {
   "cell_type": "code",
   "execution_count": 109,
   "metadata": {},
   "outputs": [
    {
     "data": {
      "text/plain": [
       "True"
      ]
     },
     "execution_count": 109,
     "metadata": {},
     "output_type": "execute_result"
    }
   ],
   "source": [
    "len(traindf.columns)==len(testdf.columns)\n",
    "#len(traindf.columns)"
   ]
  },
  {
   "cell_type": "code",
   "execution_count": 110,
   "metadata": {},
   "outputs": [
    {
     "data": {
      "text/plain": [
       "<matplotlib.axes._subplots.AxesSubplot at 0x1e720a339b0>"
      ]
     },
     "execution_count": 110,
     "metadata": {},
     "output_type": "execute_result"
    },
    {
     "data": {
      "image/png": "[encoded data removed]",
      "text/plain": [
       "<Figure size 432x288 with 1 Axes>"
      ]
     },
     "metadata": {},
     "output_type": "display_data"
    }
   ],
   "source": [
    "traindf['YEARS_LAST_PHONE_CHANGE'] = traindf['DAYS_LAST_PHONE_CHANGE']/-365\n",
    "traindf['YEARS_LAST_PHONE_CHANGE'].hist()"
   ]
  },
  {
   "cell_type": "code",
   "execution_count": 111,
   "metadata": {},
   "outputs": [],
   "source": [
    "testdf['YEARS_LAST_PHONE_CHANGE'] = testdf['DAYS_LAST_PHONE_CHANGE']/-365"
   ]
  },
  {
   "cell_type": "code",
   "execution_count": 112,
   "metadata": {},
   "outputs": [],
   "source": [
    "traindf.drop('DAYS_LAST_PHONE_CHANGE',axis=1,inplace=True)"
   ]
  },
  {
   "cell_type": "code",
   "execution_count": 113,
   "metadata": {},
   "outputs": [],
   "source": [
    "testdf.drop('DAYS_LAST_PHONE_CHANGE',axis=1,inplace=True)"
   ]
  },
  {
   "cell_type": "code",
   "execution_count": 114,
   "metadata": {},
   "outputs": [
    {
     "name": "stdout",
     "output_type": "stream",
     "text": [
      "Top Absolute Correlations\n",
      "NAME_CONTRACT_TYPE_Cash loans          NAME_CONTRACT_TYPE_Revolving loans                   1.000000\n",
      "CODE_GENDER_F                          CODE_GENDER_M                                        0.999948\n",
      "OBS_30_CNT_SOCIAL_CIRCLE               OBS_60_CNT_SOCIAL_CIRCLE                             0.998636\n",
      "AMT_CREDIT                             AMT_GOODS_PRICE                                      0.986069\n",
      "days_emp                               YEARS_EMPLOYED                                       0.954942\n",
      "REGION_RATING_CLIENT                   REGION_RATING_CLIENT_W_CITY                          0.951196\n",
      "CNT_CHILDREN                           CNT_FAM_MEMBERS                                      0.893858\n",
      "NAME_EDUCATION_TYPE_Higher education   NAME_EDUCATION_TYPE_Secondary / secondary special    0.890212\n",
      "DEF_30_CNT_SOCIAL_CIRCLE               DEF_60_CNT_SOCIAL_CIRCLE                             0.865298\n",
      "REG_REGION_NOT_WORK_REGION             LIVE_REGION_NOT_WORK_REGION                          0.857114\n",
      "NAME_INCOME_TYPE_Commercial associate  NAME_INCOME_TYPE_Working                             0.822161\n",
      "REG_CITY_NOT_WORK_CITY                 LIVE_CITY_NOT_WORK_CITY                              0.815135\n",
      "NAME_TYPE_SUITE_Family                 NAME_TYPE_SUITE_Unaccompanied                        0.803010\n",
      "AMT_INCOME_TOTAL                       income_fm                                            0.782396\n",
      "AMT_ANNUITY                            AMT_GOODS_PRICE                                      0.781780\n",
      "dtype: float64\n"
     ]
    }
   ],
   "source": [
    "#source: https://stackoverflow.com/questions/17778394/list-highest-correlation-pairs-from-a-large-correlation-matrix-in-pandas\n",
    "\n",
    "def get_redundant_pairs(df):\n",
    "    '''Get diagonal and lower triangular pairs of correlation matrix'''\n",
    "    pairs_to_drop = set()\n",
    "    cols = df.columns\n",
    "    for i in range(0, df.shape[1]):\n",
    "        for j in range(0, i+1):\n",
    "            pairs_to_drop.add((cols[i], cols[j]))\n",
    "    return pairs_to_drop\n",
    "\n",
    "def get_top_abs_correlations(df, n=10):\n",
    "    au_corr = df.corr().abs().unstack()\n",
    "    labels_to_drop = get_redundant_pairs(df)\n",
    "    au_corr = au_corr.drop(labels=labels_to_drop).sort_values(ascending=False)\n",
    "    return au_corr[0:n]\n",
    "\n",
    "print(\"Top Absolute Correlations\")\n",
    "print(get_top_abs_correlations(traindf, 15))"
   ]
  },
  {
   "cell_type": "code",
   "execution_count": 115,
   "metadata": {},
   "outputs": [
    {
     "data": {
      "text/plain": [
       "array([[1.        , 0.03756915],\n",
       "       [0.03756915, 1.        ]])"
      ]
     },
     "execution_count": 115,
     "metadata": {},
     "output_type": "execute_result"
    }
   ],
   "source": [
    "np.corrcoef(traindf.TARGET,traindf['NAME_CONTRACT_TYPE_Cash loans'])"
   ]
  },
  {
   "cell_type": "code",
   "execution_count": 116,
   "metadata": {},
   "outputs": [
    {
     "data": {
      "text/plain": [
       "array([[1.        , 0.01235626],\n",
       "       [0.01235626, 1.        ]])"
      ]
     },
     "execution_count": 116,
     "metadata": {},
     "output_type": "execute_result"
    }
   ],
   "source": [
    "np.corrcoef(traindf.TARGET,traindf.OBS_30_CNT_SOCIAL_CIRCLE)"
   ]
  },
  {
   "cell_type": "code",
   "execution_count": 117,
   "metadata": {},
   "outputs": [],
   "source": [
    "traindf.drop(['OBS_60_CNT_SOCIAL_CIRCLE','NAME_CONTRACT_TYPE_Revolving loans','CODE_GENDER_F'],axis=1,inplace=True)"
   ]
  },
  {
   "cell_type": "code",
   "execution_count": 118,
   "metadata": {},
   "outputs": [],
   "source": [
    "testdf.drop(['OBS_60_CNT_SOCIAL_CIRCLE','NAME_CONTRACT_TYPE_Revolving loans','CODE_GENDER_F'],axis=1,inplace=True)"
   ]
  },
  {
   "cell_type": "code",
   "execution_count": 119,
   "metadata": {},
   "outputs": [],
   "source": [
    "floats= traindf.select_dtypes(include=['float64']).columns.tolist()"
   ]
  },
  {
   "cell_type": "code",
   "execution_count": 120,
   "metadata": {},
   "outputs": [],
   "source": [
    "scaled=traindf[floats]"
   ]
  },
  {
   "cell_type": "code",
   "execution_count": 121,
   "metadata": {},
   "outputs": [],
   "source": [
    "scaled_test=testdf[floats]"
   ]
  },
  {
   "cell_type": "code",
   "execution_count": 122,
   "metadata": {},
   "outputs": [],
   "source": [
    "from sklearn import preprocessing\n",
    "\n",
    "x = scaled.values #returns a numpy array\n",
    "min_max_scaler = preprocessing.MinMaxScaler()\n",
    "x_scaled = min_max_scaler.fit_transform(x)\n",
    "scaled = pd.DataFrame(x_scaled,index=traindf.index)"
   ]
  },
  {
   "cell_type": "code",
   "execution_count": 123,
   "metadata": {},
   "outputs": [],
   "source": [
    "scaled.columns= floats"
   ]
  },
  {
   "cell_type": "code",
   "execution_count": 124,
   "metadata": {},
   "outputs": [],
   "source": [
    "x = scaled_test.values #returns a numpy array\n",
    "min_max_scaler = preprocessing.MinMaxScaler()\n",
    "x_scaled = min_max_scaler.fit_transform(x)\n",
    "scaled_test = pd.DataFrame(x_scaled,index=testdf.index)"
   ]
  },
  {
   "cell_type": "code",
   "execution_count": 125,
   "metadata": {},
   "outputs": [],
   "source": [
    "scaled_test.columns= floats"
   ]
  },
  {
   "cell_type": "code",
   "execution_count": 126,
   "metadata": {},
   "outputs": [],
   "source": [
    "ints= traindf.select_dtypes(include=['int64']).columns.tolist()\n",
    "#ints= ints.remove('SK_ID_CURR')\n",
    "other= ints[:2]\n",
    "ints=ints[2:]\n"
   ]
  },
  {
   "cell_type": "code",
   "execution_count": 127,
   "metadata": {},
   "outputs": [
    {
     "data": {
      "text/plain": [
       "Index(['SK_ID_CURR', 'TARGET'], dtype='object')"
      ]
     },
     "execution_count": 127,
     "metadata": {},
     "output_type": "execute_result"
    }
   ],
   "source": [
    "df=traindf[other]\n",
    "df.columns"
   ]
  },
  {
   "cell_type": "code",
   "execution_count": 128,
   "metadata": {},
   "outputs": [],
   "source": [
    "df_test=testdf[other]"
   ]
  },
  {
   "cell_type": "code",
   "execution_count": 129,
   "metadata": {},
   "outputs": [
    {
     "data": {
      "text/html": [
       "<div>\n",
       "<style scoped>\n",
       "    .dataframe tbody tr th:only-of-type {\n",
       "        vertical-align: middle;\n",
       "    }\n",
       "\n",
       "    .dataframe tbody tr th {\n",
       "        vertical-align: top;\n",
       "    }\n",
       "\n",
       "    .dataframe thead th {\n",
       "        text-align: right;\n",
       "    }\n",
       "</style>\n",
       "<table border=\"1\" class=\"dataframe\">\n",
       "  <thead>\n",
       "    <tr style=\"text-align: right;\">\n",
       "      <th></th>\n",
       "      <th>FLAG_OWN_CAR</th>\n",
       "      <th>FLAG_OWN_REALTY</th>\n",
       "      <th>CNT_CHILDREN</th>\n",
       "      <th>FLAG_MOBIL</th>\n",
       "      <th>FLAG_EMP_PHONE</th>\n",
       "      <th>FLAG_WORK_PHONE</th>\n",
       "      <th>FLAG_CONT_MOBILE</th>\n",
       "      <th>FLAG_PHONE</th>\n",
       "      <th>FLAG_EMAIL</th>\n",
       "      <th>REGION_RATING_CLIENT</th>\n",
       "      <th>...</th>\n",
       "      <th>FLAG_DOCUMENT_12</th>\n",
       "      <th>FLAG_DOCUMENT_13</th>\n",
       "      <th>FLAG_DOCUMENT_14</th>\n",
       "      <th>FLAG_DOCUMENT_15</th>\n",
       "      <th>FLAG_DOCUMENT_16</th>\n",
       "      <th>FLAG_DOCUMENT_17</th>\n",
       "      <th>FLAG_DOCUMENT_18</th>\n",
       "      <th>FLAG_DOCUMENT_19</th>\n",
       "      <th>FLAG_DOCUMENT_20</th>\n",
       "      <th>FLAG_DOCUMENT_21</th>\n",
       "    </tr>\n",
       "  </thead>\n",
       "  <tbody>\n",
       "    <tr>\n",
       "      <th>0</th>\n",
       "      <td>0</td>\n",
       "      <td>1</td>\n",
       "      <td>0</td>\n",
       "      <td>1</td>\n",
       "      <td>1</td>\n",
       "      <td>0</td>\n",
       "      <td>1</td>\n",
       "      <td>1</td>\n",
       "      <td>0</td>\n",
       "      <td>2</td>\n",
       "      <td>...</td>\n",
       "      <td>0</td>\n",
       "      <td>0</td>\n",
       "      <td>0</td>\n",
       "      <td>0</td>\n",
       "      <td>0</td>\n",
       "      <td>0</td>\n",
       "      <td>0</td>\n",
       "      <td>0</td>\n",
       "      <td>0</td>\n",
       "      <td>0</td>\n",
       "    </tr>\n",
       "    <tr>\n",
       "      <th>1</th>\n",
       "      <td>0</td>\n",
       "      <td>0</td>\n",
       "      <td>0</td>\n",
       "      <td>1</td>\n",
       "      <td>1</td>\n",
       "      <td>0</td>\n",
       "      <td>1</td>\n",
       "      <td>1</td>\n",
       "      <td>0</td>\n",
       "      <td>1</td>\n",
       "      <td>...</td>\n",
       "      <td>0</td>\n",
       "      <td>0</td>\n",
       "      <td>0</td>\n",
       "      <td>0</td>\n",
       "      <td>0</td>\n",
       "      <td>0</td>\n",
       "      <td>0</td>\n",
       "      <td>0</td>\n",
       "      <td>0</td>\n",
       "      <td>0</td>\n",
       "    </tr>\n",
       "    <tr>\n",
       "      <th>2</th>\n",
       "      <td>1</td>\n",
       "      <td>1</td>\n",
       "      <td>0</td>\n",
       "      <td>1</td>\n",
       "      <td>1</td>\n",
       "      <td>1</td>\n",
       "      <td>1</td>\n",
       "      <td>1</td>\n",
       "      <td>0</td>\n",
       "      <td>2</td>\n",
       "      <td>...</td>\n",
       "      <td>0</td>\n",
       "      <td>0</td>\n",
       "      <td>0</td>\n",
       "      <td>0</td>\n",
       "      <td>0</td>\n",
       "      <td>0</td>\n",
       "      <td>0</td>\n",
       "      <td>0</td>\n",
       "      <td>0</td>\n",
       "      <td>0</td>\n",
       "    </tr>\n",
       "  </tbody>\n",
       "</table>\n",
       "<p>3 rows × 38 columns</p>\n",
       "</div>"
      ],
      "text/plain": [
       "   FLAG_OWN_CAR  FLAG_OWN_REALTY  CNT_CHILDREN  FLAG_MOBIL  FLAG_EMP_PHONE  \\\n",
       "0             0                1             0           1               1   \n",
       "1             0                0             0           1               1   \n",
       "2             1                1             0           1               1   \n",
       "\n",
       "   FLAG_WORK_PHONE  FLAG_CONT_MOBILE  FLAG_PHONE  FLAG_EMAIL  \\\n",
       "0                0                 1           1           0   \n",
       "1                0                 1           1           0   \n",
       "2                1                 1           1           0   \n",
       "\n",
       "   REGION_RATING_CLIENT        ...         FLAG_DOCUMENT_12  FLAG_DOCUMENT_13  \\\n",
       "0                     2        ...                        0                 0   \n",
       "1                     1        ...                        0                 0   \n",
       "2                     2        ...                        0                 0   \n",
       "\n",
       "   FLAG_DOCUMENT_14  FLAG_DOCUMENT_15  FLAG_DOCUMENT_16  FLAG_DOCUMENT_17  \\\n",
       "0                 0                 0                 0                 0   \n",
       "1                 0                 0                 0                 0   \n",
       "2                 0                 0                 0                 0   \n",
       "\n",
       "   FLAG_DOCUMENT_18  FLAG_DOCUMENT_19  FLAG_DOCUMENT_20  FLAG_DOCUMENT_21  \n",
       "0                 0                 0                 0                 0  \n",
       "1                 0                 0                 0                 0  \n",
       "2                 0                 0                 0                 0  \n",
       "\n",
       "[3 rows x 38 columns]"
      ]
     },
     "execution_count": 129,
     "metadata": {},
     "output_type": "execute_result"
    }
   ],
   "source": [
    "scaled_int=traindf[ints]\n",
    "scaled_int.head(3)"
   ]
  },
  {
   "cell_type": "code",
   "execution_count": 130,
   "metadata": {},
   "outputs": [
    {
     "data": {
      "text/html": [
       "<div>\n",
       "<style scoped>\n",
       "    .dataframe tbody tr th:only-of-type {\n",
       "        vertical-align: middle;\n",
       "    }\n",
       "\n",
       "    .dataframe tbody tr th {\n",
       "        vertical-align: top;\n",
       "    }\n",
       "\n",
       "    .dataframe thead th {\n",
       "        text-align: right;\n",
       "    }\n",
       "</style>\n",
       "<table border=\"1\" class=\"dataframe\">\n",
       "  <thead>\n",
       "    <tr style=\"text-align: right;\">\n",
       "      <th></th>\n",
       "      <th>FLAG_OWN_CAR</th>\n",
       "      <th>FLAG_OWN_REALTY</th>\n",
       "      <th>CNT_CHILDREN</th>\n",
       "      <th>FLAG_MOBIL</th>\n",
       "      <th>FLAG_EMP_PHONE</th>\n",
       "      <th>FLAG_WORK_PHONE</th>\n",
       "      <th>FLAG_CONT_MOBILE</th>\n",
       "      <th>FLAG_PHONE</th>\n",
       "      <th>FLAG_EMAIL</th>\n",
       "      <th>REGION_RATING_CLIENT</th>\n",
       "      <th>...</th>\n",
       "      <th>FLAG_DOCUMENT_12</th>\n",
       "      <th>FLAG_DOCUMENT_13</th>\n",
       "      <th>FLAG_DOCUMENT_14</th>\n",
       "      <th>FLAG_DOCUMENT_15</th>\n",
       "      <th>FLAG_DOCUMENT_16</th>\n",
       "      <th>FLAG_DOCUMENT_17</th>\n",
       "      <th>FLAG_DOCUMENT_18</th>\n",
       "      <th>FLAG_DOCUMENT_19</th>\n",
       "      <th>FLAG_DOCUMENT_20</th>\n",
       "      <th>FLAG_DOCUMENT_21</th>\n",
       "    </tr>\n",
       "  </thead>\n",
       "  <tbody>\n",
       "    <tr>\n",
       "      <th>0</th>\n",
       "      <td>1</td>\n",
       "      <td>0</td>\n",
       "      <td>0</td>\n",
       "      <td>1</td>\n",
       "      <td>1</td>\n",
       "      <td>0</td>\n",
       "      <td>1</td>\n",
       "      <td>1</td>\n",
       "      <td>0</td>\n",
       "      <td>1</td>\n",
       "      <td>...</td>\n",
       "      <td>0</td>\n",
       "      <td>0</td>\n",
       "      <td>0</td>\n",
       "      <td>0</td>\n",
       "      <td>0</td>\n",
       "      <td>0</td>\n",
       "      <td>0</td>\n",
       "      <td>0</td>\n",
       "      <td>0</td>\n",
       "      <td>0</td>\n",
       "    </tr>\n",
       "    <tr>\n",
       "      <th>1</th>\n",
       "      <td>0</td>\n",
       "      <td>0</td>\n",
       "      <td>0</td>\n",
       "      <td>1</td>\n",
       "      <td>1</td>\n",
       "      <td>1</td>\n",
       "      <td>1</td>\n",
       "      <td>0</td>\n",
       "      <td>0</td>\n",
       "      <td>2</td>\n",
       "      <td>...</td>\n",
       "      <td>0</td>\n",
       "      <td>0</td>\n",
       "      <td>0</td>\n",
       "      <td>0</td>\n",
       "      <td>0</td>\n",
       "      <td>0</td>\n",
       "      <td>0</td>\n",
       "      <td>0</td>\n",
       "      <td>0</td>\n",
       "      <td>0</td>\n",
       "    </tr>\n",
       "  </tbody>\n",
       "</table>\n",
       "<p>2 rows × 38 columns</p>\n",
       "</div>"
      ],
      "text/plain": [
       "   FLAG_OWN_CAR  FLAG_OWN_REALTY  CNT_CHILDREN  FLAG_MOBIL  FLAG_EMP_PHONE  \\\n",
       "0             1                0             0           1               1   \n",
       "1             0                0             0           1               1   \n",
       "\n",
       "   FLAG_WORK_PHONE  FLAG_CONT_MOBILE  FLAG_PHONE  FLAG_EMAIL  \\\n",
       "0                0                 1           1           0   \n",
       "1                1                 1           0           0   \n",
       "\n",
       "   REGION_RATING_CLIENT        ...         FLAG_DOCUMENT_12  FLAG_DOCUMENT_13  \\\n",
       "0                     1        ...                        0                 0   \n",
       "1                     2        ...                        0                 0   \n",
       "\n",
       "   FLAG_DOCUMENT_14  FLAG_DOCUMENT_15  FLAG_DOCUMENT_16  FLAG_DOCUMENT_17  \\\n",
       "0                 0                 0                 0                 0   \n",
       "1                 0                 0                 0                 0   \n",
       "\n",
       "   FLAG_DOCUMENT_18  FLAG_DOCUMENT_19  FLAG_DOCUMENT_20  FLAG_DOCUMENT_21  \n",
       "0                 0                 0                 0                 0  \n",
       "1                 0                 0                 0                 0  \n",
       "\n",
       "[2 rows x 38 columns]"
      ]
     },
     "execution_count": 130,
     "metadata": {},
     "output_type": "execute_result"
    }
   ],
   "source": [
    "scaled_int_test=testdf[ints]\n",
    "scaled_int_test.head(2)"
   ]
  },
  {
   "cell_type": "code",
   "execution_count": 131,
   "metadata": {},
   "outputs": [
    {
     "name": "stderr",
     "output_type": "stream",
     "text": [
      "C:\\Users\\umabk\\Anaconda2\\envs\\myenv\\lib\\site-packages\\sklearn\\utils\\validation.py:475: DataConversionWarning: Data with input dtype int64 was converted to float64 by MinMaxScaler.\n",
      "  warnings.warn(msg, DataConversionWarning)\n"
     ]
    }
   ],
   "source": [
    "x = scaled_int.values #returns a numpy array\n",
    "min_max_scaler = preprocessing.MinMaxScaler()\n",
    "x_scaled = min_max_scaler.fit_transform(x)\n",
    "scaled_int = pd.DataFrame(x_scaled,index=traindf.index)\n",
    "scaled_int.columns= ints"
   ]
  },
  {
   "cell_type": "code",
   "execution_count": 132,
   "metadata": {},
   "outputs": [
    {
     "name": "stderr",
     "output_type": "stream",
     "text": [
      "C:\\Users\\umabk\\Anaconda2\\envs\\myenv\\lib\\site-packages\\sklearn\\utils\\validation.py:475: DataConversionWarning: Data with input dtype int64 was converted to float64 by MinMaxScaler.\n",
      "  warnings.warn(msg, DataConversionWarning)\n"
     ]
    }
   ],
   "source": [
    "x = scaled_int_test.values #returns a numpy array\n",
    "min_max_scaler = preprocessing.MinMaxScaler()\n",
    "x_scaled = min_max_scaler.fit_transform(x)\n",
    "scaled_int_test = pd.DataFrame(x_scaled,index=testdf.index)\n",
    "scaled_int_test.columns= ints"
   ]
  },
  {
   "cell_type": "code",
   "execution_count": 133,
   "metadata": {},
   "outputs": [],
   "source": [
    "traindf_num=pd.concat([df,scaled_int], axis=1, ignore_index=True)"
   ]
  },
  {
   "cell_type": "code",
   "execution_count": 134,
   "metadata": {},
   "outputs": [],
   "source": [
    "testdf_num=pd.concat([df_test,scaled_int_test], axis=1, ignore_index=True)"
   ]
  },
  {
   "cell_type": "code",
   "execution_count": 135,
   "metadata": {},
   "outputs": [],
   "source": [
    "traindf_num.columns = train_df.select_dtypes(include=['int64']).columns.tolist()"
   ]
  },
  {
   "cell_type": "code",
   "execution_count": 136,
   "metadata": {},
   "outputs": [],
   "source": [
    "testdf_num.columns= testdf.select_dtypes(include=['int64']).columns.tolist()"
   ]
  },
  {
   "cell_type": "code",
   "execution_count": 137,
   "metadata": {},
   "outputs": [],
   "source": [
    "cols= traindf.select_dtypes(include=['int64']).columns.tolist() + traindf.select_dtypes(include=['float64']).columns.tolist()\n",
    "#cols"
   ]
  },
  {
   "cell_type": "code",
   "execution_count": 138,
   "metadata": {},
   "outputs": [
    {
     "data": {
      "text/html": [
       "<div>\n",
       "<style scoped>\n",
       "    .dataframe tbody tr th:only-of-type {\n",
       "        vertical-align: middle;\n",
       "    }\n",
       "\n",
       "    .dataframe tbody tr th {\n",
       "        vertical-align: top;\n",
       "    }\n",
       "\n",
       "    .dataframe thead th {\n",
       "        text-align: right;\n",
       "    }\n",
       "</style>\n",
       "<table border=\"1\" class=\"dataframe\">\n",
       "  <thead>\n",
       "    <tr style=\"text-align: right;\">\n",
       "      <th></th>\n",
       "      <th>SK_ID_CURR</th>\n",
       "      <th>TARGET</th>\n",
       "      <th>FLAG_OWN_CAR</th>\n",
       "      <th>FLAG_OWN_REALTY</th>\n",
       "      <th>CNT_CHILDREN</th>\n",
       "      <th>FLAG_MOBIL</th>\n",
       "      <th>FLAG_EMP_PHONE</th>\n",
       "      <th>FLAG_WORK_PHONE</th>\n",
       "      <th>FLAG_CONT_MOBILE</th>\n",
       "      <th>FLAG_PHONE</th>\n",
       "      <th>...</th>\n",
       "      <th>AMT_REQ_CREDIT_BUREAU_QRT</th>\n",
       "      <th>AMT_REQ_CREDIT_BUREAU_YEAR</th>\n",
       "      <th>income_fm</th>\n",
       "      <th>days_emp</th>\n",
       "      <th>ann_nr</th>\n",
       "      <th>YEARS_EMPLOYED</th>\n",
       "      <th>YEARS_BIRTH</th>\n",
       "      <th>YEAR_REGISTRATION</th>\n",
       "      <th>YEARS_ID_PUBLISH</th>\n",
       "      <th>YEARS_LAST_PHONE_CHANGE</th>\n",
       "    </tr>\n",
       "  </thead>\n",
       "  <tbody>\n",
       "    <tr>\n",
       "      <th>0</th>\n",
       "      <td>100002</td>\n",
       "      <td>1</td>\n",
       "      <td>0.0</td>\n",
       "      <td>1.0</td>\n",
       "      <td>0.0</td>\n",
       "      <td>0.0</td>\n",
       "      <td>1.0</td>\n",
       "      <td>0.0</td>\n",
       "      <td>1.0</td>\n",
       "      <td>1.0</td>\n",
       "      <td>...</td>\n",
       "      <td>0.0</td>\n",
       "      <td>0.043478</td>\n",
       "      <td>0.032075</td>\n",
       "      <td>0.093005</td>\n",
       "      <td>0.226066</td>\n",
       "      <td>0.036226</td>\n",
       "      <td>0.101860</td>\n",
       "      <td>0.171679</td>\n",
       "      <td>0.294567</td>\n",
       "      <td>0.270968</td>\n",
       "    </tr>\n",
       "    <tr>\n",
       "      <th>1</th>\n",
       "      <td>100003</td>\n",
       "      <td>0</td>\n",
       "      <td>0.0</td>\n",
       "      <td>0.0</td>\n",
       "      <td>0.0</td>\n",
       "      <td>0.0</td>\n",
       "      <td>1.0</td>\n",
       "      <td>0.0</td>\n",
       "      <td>1.0</td>\n",
       "      <td>1.0</td>\n",
       "      <td>...</td>\n",
       "      <td>0.0</td>\n",
       "      <td>0.000000</td>\n",
       "      <td>0.028318</td>\n",
       "      <td>0.097893</td>\n",
       "      <td>0.756666</td>\n",
       "      <td>0.067659</td>\n",
       "      <td>0.518660</td>\n",
       "      <td>0.055814</td>\n",
       "      <td>0.040434</td>\n",
       "      <td>0.197849</td>\n",
       "    </tr>\n",
       "    <tr>\n",
       "      <th>2</th>\n",
       "      <td>100004</td>\n",
       "      <td>0</td>\n",
       "      <td>1.0</td>\n",
       "      <td>1.0</td>\n",
       "      <td>0.0</td>\n",
       "      <td>0.0</td>\n",
       "      <td>1.0</td>\n",
       "      <td>1.0</td>\n",
       "      <td>1.0</td>\n",
       "      <td>1.0</td>\n",
       "      <td>...</td>\n",
       "      <td>0.0</td>\n",
       "      <td>0.000000</td>\n",
       "      <td>0.009536</td>\n",
       "      <td>0.016187</td>\n",
       "      <td>0.321031</td>\n",
       "      <td>0.012722</td>\n",
       "      <td>0.648824</td>\n",
       "      <td>0.200480</td>\n",
       "      <td>0.351674</td>\n",
       "      <td>0.194743</td>\n",
       "    </tr>\n",
       "    <tr>\n",
       "      <th>3</th>\n",
       "      <td>100006</td>\n",
       "      <td>0</td>\n",
       "      <td>0.0</td>\n",
       "      <td>1.0</td>\n",
       "      <td>0.0</td>\n",
       "      <td>0.0</td>\n",
       "      <td>1.0</td>\n",
       "      <td>0.0</td>\n",
       "      <td>1.0</td>\n",
       "      <td>0.0</td>\n",
       "      <td>...</td>\n",
       "      <td>0.0</td>\n",
       "      <td>0.043478</td>\n",
       "      <td>0.013292</td>\n",
       "      <td>0.221104</td>\n",
       "      <td>0.066983</td>\n",
       "      <td>0.173256</td>\n",
       "      <td>0.646485</td>\n",
       "      <td>0.462751</td>\n",
       "      <td>0.338613</td>\n",
       "      <td>0.147431</td>\n",
       "    </tr>\n",
       "    <tr>\n",
       "      <th>4</th>\n",
       "      <td>100007</td>\n",
       "      <td>0</td>\n",
       "      <td>0.0</td>\n",
       "      <td>1.0</td>\n",
       "      <td>0.0</td>\n",
       "      <td>0.0</td>\n",
       "      <td>1.0</td>\n",
       "      <td>0.0</td>\n",
       "      <td>1.0</td>\n",
       "      <td>0.0</td>\n",
       "      <td>...</td>\n",
       "      <td>0.0</td>\n",
       "      <td>0.000000</td>\n",
       "      <td>0.018551</td>\n",
       "      <td>0.210744</td>\n",
       "      <td>0.413922</td>\n",
       "      <td>0.173199</td>\n",
       "      <td>0.699384</td>\n",
       "      <td>0.202880</td>\n",
       "      <td>0.480478</td>\n",
       "      <td>0.264277</td>\n",
       "    </tr>\n",
       "  </tbody>\n",
       "</table>\n",
       "<p>5 rows × 66 columns</p>\n",
       "</div>"
      ],
      "text/plain": [
       "   SK_ID_CURR  TARGET  FLAG_OWN_CAR  FLAG_OWN_REALTY  CNT_CHILDREN  \\\n",
       "0      100002       1           0.0              1.0           0.0   \n",
       "1      100003       0           0.0              0.0           0.0   \n",
       "2      100004       0           1.0              1.0           0.0   \n",
       "3      100006       0           0.0              1.0           0.0   \n",
       "4      100007       0           0.0              1.0           0.0   \n",
       "\n",
       "   FLAG_MOBIL  FLAG_EMP_PHONE  FLAG_WORK_PHONE  FLAG_CONT_MOBILE  FLAG_PHONE  \\\n",
       "0         0.0             1.0              0.0               1.0         1.0   \n",
       "1         0.0             1.0              0.0               1.0         1.0   \n",
       "2         0.0             1.0              1.0               1.0         1.0   \n",
       "3         0.0             1.0              0.0               1.0         0.0   \n",
       "4         0.0             1.0              0.0               1.0         0.0   \n",
       "\n",
       "            ...             AMT_REQ_CREDIT_BUREAU_QRT  \\\n",
       "0           ...                                   0.0   \n",
       "1           ...                                   0.0   \n",
       "2           ...                                   0.0   \n",
       "3           ...                                   0.0   \n",
       "4           ...                                   0.0   \n",
       "\n",
       "   AMT_REQ_CREDIT_BUREAU_YEAR  income_fm  days_emp    ann_nr  YEARS_EMPLOYED  \\\n",
       "0                    0.043478   0.032075  0.093005  0.226066        0.036226   \n",
       "1                    0.000000   0.028318  0.097893  0.756666        0.067659   \n",
       "2                    0.000000   0.009536  0.016187  0.321031        0.012722   \n",
       "3                    0.043478   0.013292  0.221104  0.066983        0.173256   \n",
       "4                    0.000000   0.018551  0.210744  0.413922        0.173199   \n",
       "\n",
       "   YEARS_BIRTH  YEAR_REGISTRATION  YEARS_ID_PUBLISH  YEARS_LAST_PHONE_CHANGE  \n",
       "0     0.101860           0.171679          0.294567                 0.270968  \n",
       "1     0.518660           0.055814          0.040434                 0.197849  \n",
       "2     0.648824           0.200480          0.351674                 0.194743  \n",
       "3     0.646485           0.462751          0.338613                 0.147431  \n",
       "4     0.699384           0.202880          0.480478                 0.264277  \n",
       "\n",
       "[5 rows x 66 columns]"
      ]
     },
     "execution_count": 138,
     "metadata": {},
     "output_type": "execute_result"
    }
   ],
   "source": [
    "traindf_num=pd.concat([traindf_num,scaled], axis=1, ignore_index=True)\n",
    "traindf_num.columns=cols\n",
    "traindf_num.head()"
   ]
  },
  {
   "cell_type": "code",
   "execution_count": 139,
   "metadata": {},
   "outputs": [
    {
     "data": {
      "text/html": [
       "<div>\n",
       "<style scoped>\n",
       "    .dataframe tbody tr th:only-of-type {\n",
       "        vertical-align: middle;\n",
       "    }\n",
       "\n",
       "    .dataframe tbody tr th {\n",
       "        vertical-align: top;\n",
       "    }\n",
       "\n",
       "    .dataframe thead th {\n",
       "        text-align: right;\n",
       "    }\n",
       "</style>\n",
       "<table border=\"1\" class=\"dataframe\">\n",
       "  <thead>\n",
       "    <tr style=\"text-align: right;\">\n",
       "      <th></th>\n",
       "      <th>SK_ID_CURR</th>\n",
       "      <th>TARGET</th>\n",
       "      <th>FLAG_OWN_CAR</th>\n",
       "      <th>FLAG_OWN_REALTY</th>\n",
       "      <th>CNT_CHILDREN</th>\n",
       "      <th>FLAG_MOBIL</th>\n",
       "      <th>FLAG_EMP_PHONE</th>\n",
       "      <th>FLAG_WORK_PHONE</th>\n",
       "      <th>FLAG_CONT_MOBILE</th>\n",
       "      <th>FLAG_PHONE</th>\n",
       "      <th>...</th>\n",
       "      <th>AMT_REQ_CREDIT_BUREAU_QRT</th>\n",
       "      <th>AMT_REQ_CREDIT_BUREAU_YEAR</th>\n",
       "      <th>income_fm</th>\n",
       "      <th>days_emp</th>\n",
       "      <th>ann_nr</th>\n",
       "      <th>YEARS_EMPLOYED</th>\n",
       "      <th>YEARS_BIRTH</th>\n",
       "      <th>YEAR_REGISTRATION</th>\n",
       "      <th>YEARS_ID_PUBLISH</th>\n",
       "      <th>YEARS_LAST_PHONE_CHANGE</th>\n",
       "    </tr>\n",
       "  </thead>\n",
       "  <tbody>\n",
       "    <tr>\n",
       "      <th>0</th>\n",
       "      <td>273889</td>\n",
       "      <td>0</td>\n",
       "      <td>1.0</td>\n",
       "      <td>0.0</td>\n",
       "      <td>0.0</td>\n",
       "      <td>0.0</td>\n",
       "      <td>1.0</td>\n",
       "      <td>0.0</td>\n",
       "      <td>1.0</td>\n",
       "      <td>1.0</td>\n",
       "      <td>...</td>\n",
       "      <td>0.000000</td>\n",
       "      <td>0.052632</td>\n",
       "      <td>0.140069</td>\n",
       "      <td>0.133593</td>\n",
       "      <td>0.340002</td>\n",
       "      <td>0.096006</td>\n",
       "      <td>0.515783</td>\n",
       "      <td>0.175807</td>\n",
       "      <td>0.036822</td>\n",
       "      <td>0.483043</td>\n",
       "    </tr>\n",
       "    <tr>\n",
       "      <th>1</th>\n",
       "      <td>273890</td>\n",
       "      <td>0</td>\n",
       "      <td>0.0</td>\n",
       "      <td>0.0</td>\n",
       "      <td>0.0</td>\n",
       "      <td>0.0</td>\n",
       "      <td>1.0</td>\n",
       "      <td>1.0</td>\n",
       "      <td>1.0</td>\n",
       "      <td>0.0</td>\n",
       "      <td>...</td>\n",
       "      <td>0.000000</td>\n",
       "      <td>0.000000</td>\n",
       "      <td>0.082472</td>\n",
       "      <td>0.089705</td>\n",
       "      <td>0.793614</td>\n",
       "      <td>0.060446</td>\n",
       "      <td>0.456476</td>\n",
       "      <td>0.225144</td>\n",
       "      <td>0.664995</td>\n",
       "      <td>0.000969</td>\n",
       "    </tr>\n",
       "    <tr>\n",
       "      <th>2</th>\n",
       "      <td>273891</td>\n",
       "      <td>0</td>\n",
       "      <td>0.0</td>\n",
       "      <td>1.0</td>\n",
       "      <td>0.0</td>\n",
       "      <td>0.0</td>\n",
       "      <td>1.0</td>\n",
       "      <td>0.0</td>\n",
       "      <td>1.0</td>\n",
       "      <td>0.0</td>\n",
       "      <td>...</td>\n",
       "      <td>0.000000</td>\n",
       "      <td>0.105263</td>\n",
       "      <td>0.055683</td>\n",
       "      <td>0.480536</td>\n",
       "      <td>0.697279</td>\n",
       "      <td>0.412029</td>\n",
       "      <td>0.699812</td>\n",
       "      <td>0.540285</td>\n",
       "      <td>0.528831</td>\n",
       "      <td>0.533672</td>\n",
       "    </tr>\n",
       "    <tr>\n",
       "      <th>3</th>\n",
       "      <td>273893</td>\n",
       "      <td>0</td>\n",
       "      <td>0.0</td>\n",
       "      <td>0.0</td>\n",
       "      <td>0.0</td>\n",
       "      <td>0.0</td>\n",
       "      <td>1.0</td>\n",
       "      <td>0.0</td>\n",
       "      <td>1.0</td>\n",
       "      <td>0.0</td>\n",
       "      <td>...</td>\n",
       "      <td>0.000000</td>\n",
       "      <td>0.315789</td>\n",
       "      <td>0.055683</td>\n",
       "      <td>0.052481</td>\n",
       "      <td>0.321108</td>\n",
       "      <td>0.029983</td>\n",
       "      <td>0.321023</td>\n",
       "      <td>0.322893</td>\n",
       "      <td>0.713569</td>\n",
       "      <td>0.141715</td>\n",
       "    </tr>\n",
       "    <tr>\n",
       "      <th>4</th>\n",
       "      <td>273894</td>\n",
       "      <td>0</td>\n",
       "      <td>0.0</td>\n",
       "      <td>1.0</td>\n",
       "      <td>0.0</td>\n",
       "      <td>0.0</td>\n",
       "      <td>1.0</td>\n",
       "      <td>1.0</td>\n",
       "      <td>1.0</td>\n",
       "      <td>1.0</td>\n",
       "      <td>...</td>\n",
       "      <td>0.142857</td>\n",
       "      <td>0.052632</td>\n",
       "      <td>0.035591</td>\n",
       "      <td>0.046379</td>\n",
       "      <td>0.031580</td>\n",
       "      <td>0.037419</td>\n",
       "      <td>0.632627</td>\n",
       "      <td>0.260165</td>\n",
       "      <td>0.360232</td>\n",
       "      <td>0.065649</td>\n",
       "    </tr>\n",
       "  </tbody>\n",
       "</table>\n",
       "<p>5 rows × 66 columns</p>\n",
       "</div>"
      ],
      "text/plain": [
       "   SK_ID_CURR  TARGET  FLAG_OWN_CAR  FLAG_OWN_REALTY  CNT_CHILDREN  \\\n",
       "0      273889       0           1.0              0.0           0.0   \n",
       "1      273890       0           0.0              0.0           0.0   \n",
       "2      273891       0           0.0              1.0           0.0   \n",
       "3      273893       0           0.0              0.0           0.0   \n",
       "4      273894       0           0.0              1.0           0.0   \n",
       "\n",
       "   FLAG_MOBIL  FLAG_EMP_PHONE  FLAG_WORK_PHONE  FLAG_CONT_MOBILE  FLAG_PHONE  \\\n",
       "0         0.0             1.0              0.0               1.0         1.0   \n",
       "1         0.0             1.0              1.0               1.0         0.0   \n",
       "2         0.0             1.0              0.0               1.0         0.0   \n",
       "3         0.0             1.0              0.0               1.0         0.0   \n",
       "4         0.0             1.0              1.0               1.0         1.0   \n",
       "\n",
       "            ...             AMT_REQ_CREDIT_BUREAU_QRT  \\\n",
       "0           ...                              0.000000   \n",
       "1           ...                              0.000000   \n",
       "2           ...                              0.000000   \n",
       "3           ...                              0.000000   \n",
       "4           ...                              0.142857   \n",
       "\n",
       "   AMT_REQ_CREDIT_BUREAU_YEAR  income_fm  days_emp    ann_nr  YEARS_EMPLOYED  \\\n",
       "0                    0.052632   0.140069  0.133593  0.340002        0.096006   \n",
       "1                    0.000000   0.082472  0.089705  0.793614        0.060446   \n",
       "2                    0.105263   0.055683  0.480536  0.697279        0.412029   \n",
       "3                    0.315789   0.055683  0.052481  0.321108        0.029983   \n",
       "4                    0.052632   0.035591  0.046379  0.031580        0.037419   \n",
       "\n",
       "   YEARS_BIRTH  YEAR_REGISTRATION  YEARS_ID_PUBLISH  YEARS_LAST_PHONE_CHANGE  \n",
       "0     0.515783           0.175807          0.036822                 0.483043  \n",
       "1     0.456476           0.225144          0.664995                 0.000969  \n",
       "2     0.699812           0.540285          0.528831                 0.533672  \n",
       "3     0.321023           0.322893          0.713569                 0.141715  \n",
       "4     0.632627           0.260165          0.360232                 0.065649  \n",
       "\n",
       "[5 rows x 66 columns]"
      ]
     },
     "execution_count": 139,
     "metadata": {},
     "output_type": "execute_result"
    }
   ],
   "source": [
    "testdf_num=pd.concat([testdf_num,scaled_test], axis=1, ignore_index=True)\n",
    "testdf_num.columns=cols\n",
    "testdf_num.head()"
   ]
  },
  {
   "cell_type": "code",
   "execution_count": 140,
   "metadata": {},
   "outputs": [
    {
     "data": {
      "text/plain": [
       "FLAG_MOBIL                  0.000000\n",
       "FLAG_DOCUMENT_12            0.000008\n",
       "FLAG_DOCUMENT_10            0.000008\n",
       "FLAG_DOCUMENT_2             0.000049\n",
       "OBS_30_CNT_SOCIAL_CIRCLE    0.000052\n",
       "dtype: float64"
      ]
     },
     "execution_count": 140,
     "metadata": {},
     "output_type": "execute_result"
    }
   ],
   "source": [
    "traindf_num.var().sort_values(ascending=True)[:5]"
   ]
  },
  {
   "cell_type": "code",
   "execution_count": 141,
   "metadata": {},
   "outputs": [],
   "source": [
    "traindf_num.drop('FLAG_MOBIL',axis=1, inplace=True)"
   ]
  },
  {
   "cell_type": "code",
   "execution_count": 142,
   "metadata": {},
   "outputs": [],
   "source": [
    "testdf_num.drop('FLAG_MOBIL',axis=1, inplace=True)"
   ]
  },
  {
   "cell_type": "code",
   "execution_count": 143,
   "metadata": {},
   "outputs": [
    {
     "data": {
      "text/plain": [
       "91"
      ]
     },
     "execution_count": 143,
     "metadata": {},
     "output_type": "execute_result"
    }
   ],
   "source": [
    "colstoadd=traindf.select_dtypes(include=['uint8']).columns.tolist()\n",
    "len(colstoadd)"
   ]
  },
  {
   "cell_type": "code",
   "execution_count": 144,
   "metadata": {},
   "outputs": [],
   "source": [
    "traindf_b=traindf[colstoadd]\n",
    "traindf_final=pd.concat([traindf_num,traindf_b],axis=1)"
   ]
  },
  {
   "cell_type": "code",
   "execution_count": 145,
   "metadata": {},
   "outputs": [
    {
     "data": {
      "text/plain": [
       "156"
      ]
     },
     "execution_count": 145,
     "metadata": {},
     "output_type": "execute_result"
    }
   ],
   "source": [
    "len(traindf_final.columns)"
   ]
  },
  {
   "cell_type": "code",
   "execution_count": 146,
   "metadata": {},
   "outputs": [],
   "source": [
    "testdf_b=testdf[colstoadd]\n",
    "testdf_final=pd.concat([testdf_num,testdf_b],axis=1)"
   ]
  },
  {
   "cell_type": "code",
   "execution_count": 147,
   "metadata": {},
   "outputs": [
    {
     "data": {
      "text/plain": [
       "156"
      ]
     },
     "execution_count": 147,
     "metadata": {},
     "output_type": "execute_result"
    }
   ],
   "source": [
    "len(testdf_final.columns)"
   ]
  },
  {
   "cell_type": "code",
   "execution_count": 148,
   "metadata": {},
   "outputs": [
    {
     "data": {
      "text/plain": [
       "Index(['FLAG_OWN_CAR', 'FLAG_OWN_REALTY', 'CNT_CHILDREN', 'FLAG_EMP_PHONE',\n",
       "       'FLAG_WORK_PHONE', 'FLAG_CONT_MOBILE', 'FLAG_PHONE', 'FLAG_EMAIL',\n",
       "       'REGION_RATING_CLIENT', 'REGION_RATING_CLIENT_W_CITY',\n",
       "       ...\n",
       "       'ORGANIZATION_TYPE_Trade: type 3', 'ORGANIZATION_TYPE_Trade: type 4',\n",
       "       'ORGANIZATION_TYPE_Trade: type 5', 'ORGANIZATION_TYPE_Trade: type 6',\n",
       "       'ORGANIZATION_TYPE_Trade: type 7',\n",
       "       'ORGANIZATION_TYPE_Transport: type 1',\n",
       "       'ORGANIZATION_TYPE_Transport: type 2',\n",
       "       'ORGANIZATION_TYPE_Transport: type 3',\n",
       "       'ORGANIZATION_TYPE_Transport: type 4', 'ORGANIZATION_TYPE_University'],\n",
       "      dtype='object', length=154)"
      ]
     },
     "execution_count": 148,
     "metadata": {},
     "output_type": "execute_result"
    }
   ],
   "source": [
    "traindf_final.columns[2:]"
   ]
  },
  {
   "cell_type": "markdown",
   "metadata": {},
   "source": [
    "# Feature Selection"
   ]
  },
  {
   "cell_type": "code",
   "execution_count": 274,
   "metadata": {},
   "outputs": [],
   "source": [
    "X=traindf_final.iloc[:,2:]\n",
    "y=traindf_final.iloc[:,1]"
   ]
  },
  {
   "cell_type": "code",
   "execution_count": 275,
   "metadata": {},
   "outputs": [
    {
     "name": "stdout",
     "output_type": "stream",
     "text": [
      "('FLAG_OWN_CAR', 0.006308033980364277)\n",
      "('FLAG_OWN_REALTY', 0.006641501533590614)\n",
      "('CNT_CHILDREN', 0.009716594358385726)\n",
      "('FLAG_EMP_PHONE', 4.2079494734574544e-05)\n",
      "('FLAG_WORK_PHONE', 0.006323625104043988)\n",
      "('FLAG_CONT_MOBILE', 0.0003944927603892079)\n",
      "('FLAG_PHONE', 0.005685149535168913)\n",
      "('FLAG_EMAIL', 0.0030446432057766905)\n",
      "('REGION_RATING_CLIENT', 0.006145804844537853)\n",
      "('REGION_RATING_CLIENT_W_CITY', 0.006330483637866366)\n",
      "('HOUR_APPR_PROCESS_START', 0.02810998197325345)\n",
      "('REG_REGION_NOT_LIVE_REGION', 0.0013407561202859848)\n",
      "('REG_REGION_NOT_WORK_REGION', 0.0025188031075088326)\n",
      "('LIVE_REGION_NOT_WORK_REGION', 0.002155732558363646)\n",
      "('REG_CITY_NOT_LIVE_CITY', 0.0041368584002266775)\n",
      "('REG_CITY_NOT_WORK_CITY', 0.005596149773988875)\n",
      "('LIVE_CITY_NOT_WORK_CITY', 0.005582067560138725)\n",
      "('FLAG_DOCUMENT_2', 9.23974502827264e-05)\n",
      "('FLAG_DOCUMENT_3', 0.004381953393917073)\n",
      "('FLAG_DOCUMENT_4', 1.136253986151046e-06)\n",
      "('FLAG_DOCUMENT_5', 0.0014222297664570143)\n",
      "('FLAG_DOCUMENT_6', 0.0007196678534960802)\n",
      "('FLAG_DOCUMENT_7', 1.4157088282891956e-06)\n",
      "('FLAG_DOCUMENT_8', 0.0028031265390625324)\n",
      "('FLAG_DOCUMENT_9', 0.0006040234670916839)\n",
      "('FLAG_DOCUMENT_10', 0.0)\n",
      "('FLAG_DOCUMENT_11', 0.0003773351413944277)\n",
      "('FLAG_DOCUMENT_12', 0.0)\n",
      "('FLAG_DOCUMENT_13', 0.00027386731514631655)\n",
      "('FLAG_DOCUMENT_14', 0.0002049373877953445)\n",
      "('FLAG_DOCUMENT_15', 6.0313495249163866e-05)\n",
      "('FLAG_DOCUMENT_16', 0.0006663818582298604)\n",
      "('FLAG_DOCUMENT_17', 2.269744543842003e-05)\n",
      "('FLAG_DOCUMENT_18', 0.0007323871383391605)\n",
      "('FLAG_DOCUMENT_19', 0.00014790602268881546)\n",
      "('FLAG_DOCUMENT_20', 0.00012580152593108773)\n",
      "('FLAG_DOCUMENT_21', 9.879035559010728e-05)\n",
      "('AMT_INCOME_TOTAL', 0.029051690259746864)\n",
      "('AMT_CREDIT', 0.03495668298681042)\n",
      "('AMT_ANNUITY', 0.03744128026537296)\n",
      "('AMT_GOODS_PRICE', 0.0292285293498842)\n",
      "('REGION_POPULATION_RELATIVE', 0.031811567403136)\n",
      "('CNT_FAM_MEMBERS', 0.01245343604170342)\n",
      "('EXT_SOURCE_1', 0.031966845715537505)\n",
      "('EXT_SOURCE_2', 0.06263530901871767)\n",
      "('EXT_SOURCE_3', 0.055847033778559235)\n",
      "('OBS_30_CNT_SOCIAL_CIRCLE', 0.018231604867358895)\n",
      "('DEF_30_CNT_SOCIAL_CIRCLE', 0.006388786124074353)\n",
      "('DEF_60_CNT_SOCIAL_CIRCLE', 0.005357902263412344)\n",
      "('AMT_REQ_CREDIT_BUREAU_HOUR', 0.0008683917906924189)\n",
      "('AMT_REQ_CREDIT_BUREAU_DAY', 0.0008244684426624506)\n",
      "('AMT_REQ_CREDIT_BUREAU_WEEK', 0.0022290426520054922)\n",
      "('AMT_REQ_CREDIT_BUREAU_MON', 0.0066732798545394035)\n",
      "('AMT_REQ_CREDIT_BUREAU_QRT', 0.007353310998028079)\n",
      "('AMT_REQ_CREDIT_BUREAU_YEAR', 0.019692294266187224)\n",
      "('income_fm', 0.03268705641432184)\n",
      "('days_emp', 0.04023087458122224)\n",
      "('ann_nr', 0.039644861170223505)\n",
      "('YEARS_EMPLOYED', 0.04144797803299073)\n",
      "('YEARS_BIRTH', 0.04106252713733096)\n",
      "('YEAR_REGISTRATION', 0.04083475682994145)\n",
      "('YEARS_ID_PUBLISH', 0.04143256876279822)\n",
      "('YEARS_LAST_PHONE_CHANGE', 0.03714413130801891)\n",
      "('NAME_CONTRACT_TYPE_Cash loans', 0.002082011658477124)\n",
      "('CODE_GENDER_M', 0.006635326367568949)\n",
      "('NAME_TYPE_SUITE_Children', 0.0010259281447730563)\n",
      "('NAME_TYPE_SUITE_Family', 0.004096285577126492)\n",
      "('NAME_TYPE_SUITE_Group of people', 0.00018001456837773557)\n",
      "('NAME_TYPE_SUITE_Other_A', 0.0005726692861232042)\n",
      "('NAME_TYPE_SUITE_Other_B', 0.0009489185629580105)\n",
      "('NAME_TYPE_SUITE_Spouse, partner', 0.0022701263941400994)\n",
      "('NAME_TYPE_SUITE_Unaccompanied', 0.004879521320284702)\n",
      "('NAME_INCOME_TYPE_Commercial associate', 0.004804741001672152)\n",
      "('NAME_INCOME_TYPE_State servant', 0.002339723522286596)\n",
      "('NAME_INCOME_TYPE_Working', 0.005354342946140845)\n",
      "('NAME_EDUCATION_TYPE_Academic degree', 5.256859876272585e-05)\n",
      "('NAME_EDUCATION_TYPE_Higher education', 0.00393523100537223)\n",
      "('NAME_EDUCATION_TYPE_Incomplete higher', 0.0017862253675177734)\n",
      "('NAME_EDUCATION_TYPE_Lower secondary', 0.0013857782436667058)\n",
      "('NAME_EDUCATION_TYPE_Secondary / secondary special', 0.004418145607366084)\n",
      "('NAME_FAMILY_STATUS_Civil marriage', 0.00455459579409217)\n",
      "('NAME_FAMILY_STATUS_Married', 0.005537574536873566)\n",
      "('NAME_FAMILY_STATUS_Separated', 0.0030581870995001147)\n",
      "('NAME_FAMILY_STATUS_Single / not married', 0.004565438086949045)\n",
      "('NAME_FAMILY_STATUS_Widow', 0.0012954157540429946)\n",
      "('NAME_HOUSING_TYPE_Co-op apartment', 0.0005668186486180042)\n",
      "('NAME_HOUSING_TYPE_House / apartment', 0.004152491178755108)\n",
      "('NAME_HOUSING_TYPE_Municipal apartment', 0.002246468389270824)\n",
      "('NAME_HOUSING_TYPE_Office apartment', 0.0009299065165172667)\n",
      "('NAME_HOUSING_TYPE_Rented apartment', 0.002003381961398794)\n",
      "('NAME_HOUSING_TYPE_With parents', 0.0032657495829620923)\n",
      "('WEEKDAY_APPR_PROCESS_START_FRIDAY', 0.005246450841395019)\n",
      "('WEEKDAY_APPR_PROCESS_START_MONDAY', 0.005310895433149917)\n",
      "('WEEKDAY_APPR_PROCESS_START_SATURDAY', 0.00425252817009279)\n",
      "('WEEKDAY_APPR_PROCESS_START_SUNDAY', 0.0032149412309094468)\n",
      "('WEEKDAY_APPR_PROCESS_START_THURSDAY', 0.005451116173774372)\n",
      "('WEEKDAY_APPR_PROCESS_START_TUESDAY', 0.005683274247499429)\n",
      "('WEEKDAY_APPR_PROCESS_START_WEDNESDAY', 0.0053501624044070975)\n",
      "('ORGANIZATION_TYPE_Advertising', 0.00041635743153567965)\n",
      "('ORGANIZATION_TYPE_Agriculture', 0.0015867875872167475)\n",
      "('ORGANIZATION_TYPE_Bank', 0.0007992737793005251)\n",
      "('ORGANIZATION_TYPE_Business Entity Type 1', 0.002123929650468535)\n",
      "('ORGANIZATION_TYPE_Business Entity Type 2', 0.002668748082726657)\n",
      "('ORGANIZATION_TYPE_Business Entity Type 3', 0.0066050338660981625)\n",
      "('ORGANIZATION_TYPE_Cleaning', 0.00028204515165595296)\n",
      "('ORGANIZATION_TYPE_Construction', 0.002683931042638122)\n",
      "('ORGANIZATION_TYPE_Culture', 0.00032272908309024444)\n",
      "('ORGANIZATION_TYPE_Electricity', 0.0006694840307133572)\n",
      "('ORGANIZATION_TYPE_Emergency', 0.00029141482855052006)\n",
      "('ORGANIZATION_TYPE_Government', 0.0023964069698409886)\n",
      "('ORGANIZATION_TYPE_Hotel', 0.0005806036219232484)\n",
      "('ORGANIZATION_TYPE_Housing', 0.0013719082340498867)\n",
      "('ORGANIZATION_TYPE_Industry: type 1', 0.0009296628992069969)\n",
      "('ORGANIZATION_TYPE_Industry: type 10', 5.448963779222167e-05)\n",
      "('ORGANIZATION_TYPE_Industry: type 11', 0.001242260816170611)\n",
      "('ORGANIZATION_TYPE_Industry: type 12', 0.0001620710706160584)\n",
      "('ORGANIZATION_TYPE_Industry: type 13', 0.00017008844570040604)\n",
      "('ORGANIZATION_TYPE_Industry: type 2', 0.0004545230685678157)\n",
      "('ORGANIZATION_TYPE_Industry: type 3', 0.0018811936032961437)\n",
      "('ORGANIZATION_TYPE_Industry: type 4', 0.0008966789732924472)\n",
      "('ORGANIZATION_TYPE_Industry: type 5', 0.00028278991063669494)\n",
      "('ORGANIZATION_TYPE_Industry: type 6', 5.180534592120615e-05)\n",
      "('ORGANIZATION_TYPE_Industry: type 7', 0.0008872532941926212)\n",
      "('ORGANIZATION_TYPE_Industry: type 9', 0.001191624225734124)\n",
      "('ORGANIZATION_TYPE_Insurance', 0.00043351268413810174)\n",
      "('ORGANIZATION_TYPE_Kindergarten', 0.0018163624371043815)\n",
      "('ORGANIZATION_TYPE_Legal Services', 0.00028728492043138997)\n",
      "('ORGANIZATION_TYPE_Medicine', 0.002319127017040756)\n",
      "('ORGANIZATION_TYPE_Military', 0.0006660935777543366)\n",
      "('ORGANIZATION_TYPE_Mobile', 0.0003200716319525626)\n",
      "('ORGANIZATION_TYPE_Other', 0.003308974833659181)\n",
      "('ORGANIZATION_TYPE_Police', 0.0007582440510096455)\n",
      "('ORGANIZATION_TYPE_Postal', 0.0012823928241484839)\n",
      "('ORGANIZATION_TYPE_Realtor', 0.0003211273823249286)\n",
      "('ORGANIZATION_TYPE_Religion', 0.00012013754282415317)\n",
      "('ORGANIZATION_TYPE_Restaurant', 0.001304648835235807)\n",
      "('ORGANIZATION_TYPE_School', 0.0017180717995449216)\n",
      "('ORGANIZATION_TYPE_Security', 0.0016324589957653274)\n",
      "('ORGANIZATION_TYPE_Security Ministries', 0.0007023670882877986)\n",
      "('ORGANIZATION_TYPE_Self-employed', 0.005930169856936579)\n",
      "('ORGANIZATION_TYPE_Services', 0.0007906611037306862)\n",
      "('ORGANIZATION_TYPE_Telecom', 0.0004024818910810201)\n",
      "('ORGANIZATION_TYPE_Trade: type 1', 0.00036921719626089813)\n",
      "('ORGANIZATION_TYPE_Trade: type 2', 0.0006677253454746733)\n",
      "('ORGANIZATION_TYPE_Trade: type 3', 0.001708055255031575)\n",
      "('ORGANIZATION_TYPE_Trade: type 4', 1.3432315773818033e-05)\n",
      "('ORGANIZATION_TYPE_Trade: type 5', 9.228173615236309e-05)\n",
      "('ORGANIZATION_TYPE_Trade: type 6', 0.000405787980997344)\n",
      "('ORGANIZATION_TYPE_Trade: type 7', 0.0027653397631380973)\n",
      "('ORGANIZATION_TYPE_Transport: type 1', 0.00019335508098521548)\n",
      "('ORGANIZATION_TYPE_Transport: type 2', 0.001086055180741235)\n",
      "('ORGANIZATION_TYPE_Transport: type 3', 0.0013340984419535045)\n",
      "('ORGANIZATION_TYPE_Transport: type 4', 0.0020692087020465887)\n",
      "('ORGANIZATION_TYPE_University', 0.00041986927189064424)\n"
     ]
    }
   ],
   "source": [
    "columnsdf=X.columns\n",
    "\n",
    "rf=RandomForestClassifier(n_estimators=100)\n",
    "rf.fit(X, y)\n",
    "for feature in zip(columnsdf, rf.feature_importances_):\n",
    "    print(feature)"
   ]
  },
  {
   "cell_type": "code",
   "execution_count": 276,
   "metadata": {},
   "outputs": [],
   "source": [
    "features_df= pd.DataFrame(columns=['col','importance'])\n",
    "\n",
    "features_df.col= columnsdf\n",
    "\n",
    "features_df.importance=  rf.feature_importances_"
   ]
  },
  {
   "cell_type": "code",
   "execution_count": 277,
   "metadata": {},
   "outputs": [
    {
     "data": {
      "text/html": [
       "<div>\n",
       "<style scoped>\n",
       "    .dataframe tbody tr th:only-of-type {\n",
       "        vertical-align: middle;\n",
       "    }\n",
       "\n",
       "    .dataframe tbody tr th {\n",
       "        vertical-align: top;\n",
       "    }\n",
       "\n",
       "    .dataframe thead th {\n",
       "        text-align: right;\n",
       "    }\n",
       "</style>\n",
       "<table border=\"1\" class=\"dataframe\">\n",
       "  <thead>\n",
       "    <tr style=\"text-align: right;\">\n",
       "      <th></th>\n",
       "      <th>col</th>\n",
       "      <th>importance</th>\n",
       "    </tr>\n",
       "  </thead>\n",
       "  <tbody>\n",
       "    <tr>\n",
       "      <th>44</th>\n",
       "      <td>EXT_SOURCE_2</td>\n",
       "      <td>0.062635</td>\n",
       "    </tr>\n",
       "    <tr>\n",
       "      <th>45</th>\n",
       "      <td>EXT_SOURCE_3</td>\n",
       "      <td>0.055847</td>\n",
       "    </tr>\n",
       "    <tr>\n",
       "      <th>58</th>\n",
       "      <td>YEARS_EMPLOYED</td>\n",
       "      <td>0.041448</td>\n",
       "    </tr>\n",
       "    <tr>\n",
       "      <th>61</th>\n",
       "      <td>YEARS_ID_PUBLISH</td>\n",
       "      <td>0.041433</td>\n",
       "    </tr>\n",
       "    <tr>\n",
       "      <th>59</th>\n",
       "      <td>YEARS_BIRTH</td>\n",
       "      <td>0.041063</td>\n",
       "    </tr>\n",
       "    <tr>\n",
       "      <th>60</th>\n",
       "      <td>YEAR_REGISTRATION</td>\n",
       "      <td>0.040835</td>\n",
       "    </tr>\n",
       "    <tr>\n",
       "      <th>56</th>\n",
       "      <td>days_emp</td>\n",
       "      <td>0.040231</td>\n",
       "    </tr>\n",
       "    <tr>\n",
       "      <th>57</th>\n",
       "      <td>ann_nr</td>\n",
       "      <td>0.039645</td>\n",
       "    </tr>\n",
       "    <tr>\n",
       "      <th>39</th>\n",
       "      <td>AMT_ANNUITY</td>\n",
       "      <td>0.037441</td>\n",
       "    </tr>\n",
       "    <tr>\n",
       "      <th>62</th>\n",
       "      <td>YEARS_LAST_PHONE_CHANGE</td>\n",
       "      <td>0.037144</td>\n",
       "    </tr>\n",
       "    <tr>\n",
       "      <th>38</th>\n",
       "      <td>AMT_CREDIT</td>\n",
       "      <td>0.034957</td>\n",
       "    </tr>\n",
       "    <tr>\n",
       "      <th>55</th>\n",
       "      <td>income_fm</td>\n",
       "      <td>0.032687</td>\n",
       "    </tr>\n",
       "    <tr>\n",
       "      <th>43</th>\n",
       "      <td>EXT_SOURCE_1</td>\n",
       "      <td>0.031967</td>\n",
       "    </tr>\n",
       "    <tr>\n",
       "      <th>41</th>\n",
       "      <td>REGION_POPULATION_RELATIVE</td>\n",
       "      <td>0.031812</td>\n",
       "    </tr>\n",
       "    <tr>\n",
       "      <th>40</th>\n",
       "      <td>AMT_GOODS_PRICE</td>\n",
       "      <td>0.029229</td>\n",
       "    </tr>\n",
       "  </tbody>\n",
       "</table>\n",
       "</div>"
      ],
      "text/plain": [
       "                           col  importance\n",
       "44                EXT_SOURCE_2    0.062635\n",
       "45                EXT_SOURCE_3    0.055847\n",
       "58              YEARS_EMPLOYED    0.041448\n",
       "61            YEARS_ID_PUBLISH    0.041433\n",
       "59                 YEARS_BIRTH    0.041063\n",
       "60           YEAR_REGISTRATION    0.040835\n",
       "56                    days_emp    0.040231\n",
       "57                      ann_nr    0.039645\n",
       "39                 AMT_ANNUITY    0.037441\n",
       "62     YEARS_LAST_PHONE_CHANGE    0.037144\n",
       "38                  AMT_CREDIT    0.034957\n",
       "55                   income_fm    0.032687\n",
       "43                EXT_SOURCE_1    0.031967\n",
       "41  REGION_POPULATION_RELATIVE    0.031812\n",
       "40             AMT_GOODS_PRICE    0.029229"
      ]
     },
     "execution_count": 277,
     "metadata": {},
     "output_type": "execute_result"
    }
   ],
   "source": [
    "features_df.sort_values(by='importance',ascending=False,inplace=True)\n",
    "\n",
    "\n",
    "features_df.head(15)\n",
    "#topfeat= features_df.loc[:100,'col'].tolist()"
   ]
  },
  {
   "cell_type": "code",
   "execution_count": 278,
   "metadata": {},
   "outputs": [],
   "source": [
    "topfeat=features_df.col[:15].tolist()"
   ]
  },
  {
   "cell_type": "code",
   "execution_count": 279,
   "metadata": {},
   "outputs": [
    {
     "data": {
      "text/plain": [
       "['EXT_SOURCE_2',\n",
       " 'EXT_SOURCE_3',\n",
       " 'YEARS_EMPLOYED',\n",
       " 'YEARS_ID_PUBLISH',\n",
       " 'YEARS_BIRTH',\n",
       " 'YEAR_REGISTRATION',\n",
       " 'days_emp',\n",
       " 'ann_nr',\n",
       " 'AMT_ANNUITY',\n",
       " 'YEARS_LAST_PHONE_CHANGE',\n",
       " 'AMT_CREDIT',\n",
       " 'income_fm',\n",
       " 'EXT_SOURCE_1',\n",
       " 'REGION_POPULATION_RELATIVE',\n",
       " 'AMT_GOODS_PRICE']"
      ]
     },
     "execution_count": 279,
     "metadata": {},
     "output_type": "execute_result"
    }
   ],
   "source": [
    "topfeat"
   ]
  },
  {
   "cell_type": "markdown",
   "metadata": {},
   "source": [
    "# Model 1"
   ]
  },
  {
   "cell_type": "code",
   "execution_count": 281,
   "metadata": {},
   "outputs": [
    {
     "data": {
      "text/plain": [
       "RandomForestClassifier(bootstrap=True, class_weight=None, criterion='gini',\n",
       "            max_depth=None, max_features='auto', max_leaf_nodes=None,\n",
       "            min_impurity_decrease=0.0, min_impurity_split=None,\n",
       "            min_samples_leaf=1, min_samples_split=2,\n",
       "            min_weight_fraction_leaf=0.0, n_estimators=500, n_jobs=1,\n",
       "            oob_score=False, random_state=None, verbose=0,\n",
       "            warm_start=False)"
      ]
     },
     "execution_count": 281,
     "metadata": {},
     "output_type": "execute_result"
    }
   ],
   "source": [
    "newX=X[['EXT_SOURCE_2',\n",
    " 'EXT_SOURCE_3',\n",
    " 'YEARS_ID_PUBLISH',\n",
    " 'YEARS_BIRTH',\n",
    " 'YEARS_EMPLOYED',\n",
    " 'YEAR_REGISTRATION',\n",
    " 'days_emp',\n",
    " 'ann_nr',\n",
    " 'AMT_ANNUITY',\n",
    " 'YEARS_LAST_PHONE_CHANGE',\n",
    " 'AMT_CREDIT',\n",
    " 'income_fm',\n",
    " 'EXT_SOURCE_1',\n",
    " 'REGION_POPULATION_RELATIVE',\n",
    " 'AMT_GOODS_PRICE']]\n",
    "rf=RandomForestClassifier(n_estimators=500)\n",
    "rf.fit(newX, y)"
   ]
  },
  {
   "cell_type": "code",
   "execution_count": 282,
   "metadata": {},
   "outputs": [
    {
     "name": "stdout",
     "output_type": "stream",
     "text": [
      "0.9152062384568028 0.017126546146527116\n"
     ]
    }
   ],
   "source": [
    "from sklearn import metrics\n",
    "\n",
    "X_test=testdf_final.loc[:,topfeat]\n",
    "y_test=testdf_final.iloc[:,1]\n",
    "\n",
    "\n",
    "pred_test=rf.predict(X_test)\n",
    "acc_score = metrics.accuracy_score(y_test,pred_test)\n",
    "f=metrics.f1_score(y_test,pred_test)\n",
    "\n",
    "print(acc_score,f)"
   ]
  },
  {
   "cell_type": "code",
   "execution_count": 283,
   "metadata": {},
   "outputs": [
    {
     "data": {
      "text/plain": [
       "array([[22281,    23],\n",
       "       [ 2043,    18]], dtype=int64)"
      ]
     },
     "execution_count": 283,
     "metadata": {},
     "output_type": "execute_result"
    }
   ],
   "source": [
    "metrics.confusion_matrix(y_test,pred_test)"
   ]
  },
  {
   "cell_type": "markdown",
   "metadata": {},
   "source": [
    "# Feature Selection 2"
   ]
  },
  {
   "cell_type": "markdown",
   "metadata": {},
   "source": [
    "## PCA"
   ]
  },
  {
   "cell_type": "code",
   "execution_count": 157,
   "metadata": {},
   "outputs": [],
   "source": [
    "train_df_new = traindf[['AMT_INCOME_TOTAL', 'AMT_ANNUITY', 'AMT_CREDIT', 'AMT_GOODS_PRICE', 'EXT_SOURCE_1', 'EXT_SOURCE_2','EXT_SOURCE_3','days_emp','income_fm','ann_nr'  ]]\n",
    "y=  traindf['TARGET']"
   ]
  },
  {
   "cell_type": "code",
   "execution_count": 158,
   "metadata": {},
   "outputs": [],
   "source": [
    "test_df_new = testdf[['AMT_INCOME_TOTAL', 'AMT_ANNUITY', 'AMT_CREDIT', 'AMT_GOODS_PRICE', 'EXT_SOURCE_1', 'EXT_SOURCE_2','EXT_SOURCE_3','days_emp','income_fm','ann_nr' ]]\n",
    "y_test=  testdf['TARGET']"
   ]
  },
  {
   "cell_type": "code",
   "execution_count": 159,
   "metadata": {},
   "outputs": [
    {
     "data": {
      "text/plain": [
       "PCA(copy=True, iterated_power='auto', n_components=None, random_state=None,\n",
       "  svd_solver='auto', tol=0.0, whiten=False)"
      ]
     },
     "execution_count": 159,
     "metadata": {},
     "output_type": "execute_result"
    }
   ],
   "source": [
    "from sklearn.decomposition import PCA\n",
    "from sklearn.preprocessing import StandardScaler\n",
    "pca = PCA()\n",
    "standard_scaler = StandardScaler() \n",
    "train_scaled = standard_scaler.fit_transform(train_df_new.fillna(-1))\n",
    "pca.fit(train_scaled)"
   ]
  },
  {
   "cell_type": "code",
   "execution_count": 160,
   "metadata": {},
   "outputs": [
    {
     "data": {
      "text/plain": [
       "array([3.58385839, 1.50088519, 1.23770528, 0.93004964, 0.89990619,\n",
       "       0.83371117, 0.74651064, 0.20376145, 0.05210858, 0.01158553])"
      ]
     },
     "execution_count": 160,
     "metadata": {},
     "output_type": "execute_result"
    }
   ],
   "source": [
    "pca.explained_variance_"
   ]
  },
  {
   "cell_type": "code",
   "execution_count": 161,
   "metadata": {},
   "outputs": [
    {
     "name": "stdout",
     "output_type": "stream",
     "text": [
      "the train dataframe has the shape of: (121880, 10)\n"
     ]
    }
   ],
   "source": [
    "transformed = pca.transform(train_scaled)\n",
    "ans = pd.DataFrame(transformed, columns = ['pca_1','pca_2','pca_3','pca_4','pca_5','pca_6','pca_7','pca_8','pca_9','pca_10'])\n",
    "ans['TARGET'] =traindf_final['TARGET'].tolist()\n",
    "print('the train dataframe has the shape of: {}'.format(transformed.shape))"
   ]
  },
  {
   "cell_type": "code",
   "execution_count": 162,
   "metadata": {},
   "outputs": [
    {
     "name": "stdout",
     "output_type": "stream",
     "text": [
      "the test dataframe has the shape of: (24365, 10)\n"
     ]
    }
   ],
   "source": [
    "test_scaled = standard_scaler.fit_transform(test_df_new.fillna(-1))\n",
    "pca.fit(test_scaled)\n",
    "\n",
    "transformed2 = pca.transform(test_scaled)\n",
    "ans_test = pd.DataFrame(transformed2, columns = ['pca_1','pca_2','pca_3','pca_4','pca_5','pca_6','pca_7','pca_8','pca_9','pca_10'])\n",
    "ans_test['TARGET'] =testdf_final['TARGET'].tolist()\n",
    "print('the test dataframe has the shape of: {}'.format(transformed2.shape))"
   ]
  },
  {
   "cell_type": "markdown",
   "metadata": {},
   "source": [
    "# Model 2"
   ]
  },
  {
   "cell_type": "code",
   "execution_count": 188,
   "metadata": {},
   "outputs": [],
   "source": [
    "X=ans.iloc[:,:9]\n",
    "y=ans.loc[:,'TARGET']\n",
    "\n",
    "X_test=ans_test.iloc[:,:9]\n",
    "y_test=ans_test.loc[:,'TARGET']\n"
   ]
  },
  {
   "cell_type": "code",
   "execution_count": 189,
   "metadata": {},
   "outputs": [],
   "source": [
    "clf = KNeighborsClassifier(n_neighbors=1, weights='distance')"
   ]
  },
  {
   "cell_type": "code",
   "execution_count": 190,
   "metadata": {},
   "outputs": [
    {
     "data": {
      "text/plain": [
       "KNeighborsClassifier(algorithm='auto', leaf_size=30, metric='minkowski',\n",
       "           metric_params=None, n_jobs=1, n_neighbors=1, p=2,\n",
       "           weights='distance')"
      ]
     },
     "execution_count": 190,
     "metadata": {},
     "output_type": "execute_result"
    }
   ],
   "source": [
    "clf.fit(X, y)"
   ]
  },
  {
   "cell_type": "code",
   "execution_count": 191,
   "metadata": {},
   "outputs": [],
   "source": [
    "r=clf.predict(X_test)"
   ]
  },
  {
   "cell_type": "code",
   "execution_count": 192,
   "metadata": {},
   "outputs": [
    {
     "data": {
      "text/plain": [
       "0.13074819786229183"
      ]
     },
     "execution_count": 192,
     "metadata": {},
     "output_type": "execute_result"
    }
   ],
   "source": [
    "metrics.f1_score(y_test,r)"
   ]
  },
  {
   "cell_type": "code",
   "execution_count": 193,
   "metadata": {},
   "outputs": [
    {
     "data": {
      "text/plain": [
       "array([[20605,  1699],\n",
       "       [ 1798,   263]], dtype=int64)"
      ]
     },
     "execution_count": 193,
     "metadata": {},
     "output_type": "execute_result"
    }
   ],
   "source": [
    "metrics.confusion_matrix(y_test,r)"
   ]
  },
  {
   "cell_type": "markdown",
   "metadata": {},
   "source": [
    "# Model 3"
   ]
  },
  {
   "cell_type": "code",
   "execution_count": 197,
   "metadata": {},
   "outputs": [],
   "source": [
    "from xgboost import XGBClassifier"
   ]
  },
  {
   "cell_type": "code",
   "execution_count": 241,
   "metadata": {},
   "outputs": [
    {
     "data": {
      "text/plain": [
       "XGBClassifier(base_score=0.5, booster='gbtree', colsample_bylevel=1,\n",
       "       colsample_bytree=1, eval_metric='auc', gamma=16, learning_rate=0.1,\n",
       "       max_delta_step=0, max_depth=20, min_child_weight=1, missing=None,\n",
       "       n_estimators=100, n_jobs=30, nthread=None,\n",
       "       objective='binary:logistic', random_state=0, reg_alpha=40,\n",
       "       reg_lambda=40, scale_pos_weight=4, seed=None, silent=True,\n",
       "       subsample=1)"
      ]
     },
     "execution_count": 241,
     "metadata": {},
     "output_type": "execute_result"
    }
   ],
   "source": [
    "\n",
    "X_train, X_test, y_train, y_test = train_test_split( traindf_final.drop(['TARGET','SK_ID_CURR'],axis=1) , traindf_final['TARGET'] , test_size=0.2, random_state=42)\n",
    "model = XGBClassifier(max_depth=20, learning_rate=0.1,n_estimators=100,n_jobs=30,scale_pos_weight=4,missing=np.nan,gamma=16, eval_metric=\"auc\",reg_lambda=40,reg_alpha=40)\n",
    "model.fit(X_train,y_train)"
   ]
  },
  {
   "cell_type": "code",
   "execution_count": 242,
   "metadata": {},
   "outputs": [
    {
     "name": "stdout",
     "output_type": "stream",
     "text": [
      "Train Accuracy 0.8824\n",
      "Test Accuracy 0.8702\n"
     ]
    }
   ],
   "source": [
    "y_train_pred = model.predict(X_train)\n",
    "y_test_pred = model.predict(X_test)\n",
    "print(\"Train Accuracy %.4f\" % accuracy_score(y_train,y_train_pred))\n",
    "print(\"Test Accuracy %.4f\" % accuracy_score(y_test,y_test_pred))"
   ]
  },
  {
   "cell_type": "code",
   "execution_count": 243,
   "metadata": {},
   "outputs": [],
   "source": [
    "X_test=testdf_final.iloc[:,2:]\n",
    "y_test=testdf_final.iloc[:,1]\n"
   ]
  },
  {
   "cell_type": "code",
   "execution_count": 244,
   "metadata": {},
   "outputs": [],
   "source": [
    "y_test_pred = model.predict(X_test)"
   ]
  },
  {
   "cell_type": "code",
   "execution_count": 245,
   "metadata": {},
   "outputs": [
    {
     "name": "stdout",
     "output_type": "stream",
     "text": [
      "Test Accuracy 0.8800\n"
     ]
    }
   ],
   "source": [
    "print(\"Test Accuracy %.4f\" % accuracy_score(y_test,y_test_pred))"
   ]
  },
  {
   "cell_type": "code",
   "execution_count": 246,
   "metadata": {},
   "outputs": [
    {
     "name": "stdout",
     "output_type": "stream",
     "text": [
      "[[20868  1436]\n",
      " [ 1489   572]]\n"
     ]
    }
   ],
   "source": [
    "confmat=confusion_matrix(y_test,y_test_pred)\n",
    "print(confmat)"
   ]
  },
  {
   "cell_type": "markdown",
   "metadata": {},
   "source": [
    "# Model 4"
   ]
  },
  {
   "cell_type": "code",
   "execution_count": 247,
   "metadata": {},
   "outputs": [],
   "source": [
    "X=ans.iloc[:,:9]\n",
    "y=ans.loc[:,'TARGET']\n",
    "\n",
    "X_test=ans_test.iloc[:,:9]\n",
    "y_test=ans_test.loc[:,'TARGET']\n"
   ]
  },
  {
   "cell_type": "code",
   "execution_count": 248,
   "metadata": {},
   "outputs": [
    {
     "data": {
      "text/plain": [
       "XGBClassifier(base_score=0.5, booster='gbtree', colsample_bylevel=1,\n",
       "       colsample_bytree=1, eval_metric='auc', gamma=16, learning_rate=0.1,\n",
       "       max_delta_step=0, max_depth=20, min_child_weight=1, missing=None,\n",
       "       n_estimators=100, n_jobs=30, nthread=None,\n",
       "       objective='binary:logistic', random_state=0, reg_alpha=40,\n",
       "       reg_lambda=40, scale_pos_weight=4, seed=None, silent=True,\n",
       "       subsample=1)"
      ]
     },
     "execution_count": 248,
     "metadata": {},
     "output_type": "execute_result"
    }
   ],
   "source": [
    "model.fit(X,y)"
   ]
  },
  {
   "cell_type": "code",
   "execution_count": 249,
   "metadata": {},
   "outputs": [],
   "source": [
    "y_test_pred = model.predict(X_test)"
   ]
  },
  {
   "cell_type": "code",
   "execution_count": 250,
   "metadata": {},
   "outputs": [
    {
     "name": "stdout",
     "output_type": "stream",
     "text": [
      "Test Accuracy 0.8770\n"
     ]
    }
   ],
   "source": [
    "print(\"Test Accuracy %.4f\" % accuracy_score(y_test,y_test_pred))"
   ]
  },
  {
   "cell_type": "code",
   "execution_count": 251,
   "metadata": {},
   "outputs": [
    {
     "name": "stdout",
     "output_type": "stream",
     "text": [
      "[[20886  1418]\n",
      " [ 1578   483]]\n"
     ]
    }
   ],
   "source": [
    "confmat=confusion_matrix(y_test,y_test_pred)\n",
    "print(confmat)"
   ]
  },
  {
   "cell_type": "markdown",
   "metadata": {},
   "source": [
    "# Model 5"
   ]
  },
  {
   "cell_type": "code",
   "execution_count": 252,
   "metadata": {},
   "outputs": [],
   "source": [
    "train_df_new = traindf[['AMT_INCOME_TOTAL', 'AMT_ANNUITY', 'AMT_CREDIT', 'AMT_GOODS_PRICE', 'EXT_SOURCE_1', 'EXT_SOURCE_2','EXT_SOURCE_3','days_emp','income_fm','ann_nr'  ]]\n",
    "y=  traindf['TARGET']"
   ]
  },
  {
   "cell_type": "code",
   "execution_count": 253,
   "metadata": {},
   "outputs": [],
   "source": [
    "test_df_new = testdf[['AMT_INCOME_TOTAL', 'AMT_ANNUITY', 'AMT_CREDIT', 'AMT_GOODS_PRICE', 'EXT_SOURCE_1', 'EXT_SOURCE_2','EXT_SOURCE_3','days_emp','income_fm','ann_nr'  ]]\n",
    "y_test=  testdf['TARGET']"
   ]
  },
  {
   "cell_type": "code",
   "execution_count": 254,
   "metadata": {},
   "outputs": [
    {
     "data": {
      "text/plain": [
       "XGBClassifier(base_score=0.5, booster='gbtree', colsample_bylevel=1,\n",
       "       colsample_bytree=1, eval_metric='auc', gamma=16, learning_rate=0.1,\n",
       "       max_delta_step=0, max_depth=20, min_child_weight=1, missing=None,\n",
       "       n_estimators=100, n_jobs=30, nthread=None,\n",
       "       objective='binary:logistic', random_state=0, reg_alpha=40,\n",
       "       reg_lambda=40, scale_pos_weight=4, seed=None, silent=True,\n",
       "       subsample=1)"
      ]
     },
     "execution_count": 254,
     "metadata": {},
     "output_type": "execute_result"
    }
   ],
   "source": [
    "model.fit(train_df_new,y)"
   ]
  },
  {
   "cell_type": "code",
   "execution_count": 255,
   "metadata": {},
   "outputs": [],
   "source": [
    "y_test_pred = model.predict(test_df_new )"
   ]
  },
  {
   "cell_type": "code",
   "execution_count": 256,
   "metadata": {},
   "outputs": [
    {
     "name": "stdout",
     "output_type": "stream",
     "text": [
      "Test Accuracy 0.8737\n"
     ]
    }
   ],
   "source": [
    "print(\"Test Accuracy %.4f\" % accuracy_score(y_test,y_test_pred))"
   ]
  },
  {
   "cell_type": "code",
   "execution_count": 257,
   "metadata": {},
   "outputs": [
    {
     "name": "stdout",
     "output_type": "stream",
     "text": [
      "[[20659  1645]\n",
      " [ 1433   628]]\n"
     ]
    }
   ],
   "source": [
    "confmat=confusion_matrix(y_test,y_test_pred)\n",
    "print(confmat)"
   ]
  },
  {
   "cell_type": "markdown",
   "metadata": {},
   "source": [
    "# Model 6"
   ]
  },
  {
   "cell_type": "code",
   "execution_count": 284,
   "metadata": {},
   "outputs": [],
   "source": [
    "listdf=[dataframe_file0,dataframe_file1,dataframe_file2,dataframe_file3,dataframe_file4]\n",
    "train_df= pd.concat( listdf,axis=0)\n",
    "train_df=train_df.iloc[:,1:]\n",
    "test_df= pd.read_csv('application_train5.csv')\n",
    "test_df=test_df.iloc[:,1:]"
   ]
  },
  {
   "cell_type": "code",
   "execution_count": 285,
   "metadata": {},
   "outputs": [],
   "source": [
    "train_df=train_df[train_df.AMT_INCOME_TOTAL!=117000000.0]"
   ]
  },
  {
   "cell_type": "code",
   "execution_count": 286,
   "metadata": {},
   "outputs": [],
   "source": [
    "# train_df.loc[train_df.DAYS_EMPLOYED>0,DAYS_EMPLOYED]\n",
    "train_df.loc[train_df.DAYS_EMPLOYED>0,'DAYS_EMPLOYED'] = np.nan"
   ]
  },
  {
   "cell_type": "code",
   "execution_count": 287,
   "metadata": {},
   "outputs": [],
   "source": [
    "train_df['income_fm']= train_df['AMT_INCOME_TOTAL']/(train_df['CNT_FAM_MEMBERS']+1)\n",
    "test_df['income_fm']= test_df['AMT_INCOME_TOTAL']/(test_df['CNT_FAM_MEMBERS']+1)\n",
    "\n",
    "train_df['days_emp']= train_df['DAYS_EMPLOYED']/train_df['DAYS_BIRTH']\n",
    "test_df['days_emp']= test_df['DAYS_EMPLOYED']/test_df['DAYS_BIRTH']\n",
    "\n",
    "\n",
    "train_df['ann_nr'] = train_df['AMT_CREDIT']/train_df['AMT_ANNUITY']\n",
    "test_df['ann_nr'] = test_df['AMT_CREDIT']/test_df['AMT_ANNUITY']"
   ]
  },
  {
   "cell_type": "code",
   "execution_count": 300,
   "metadata": {},
   "outputs": [],
   "source": [
    "X=train_df[['EXT_SOURCE_2',\n",
    " 'EXT_SOURCE_3',\n",
    " 'DAYS_ID_PUBLISH',\n",
    " 'DAYS_BIRTH',\n",
    " 'DAYS_EMPLOYED',\n",
    " 'DAYS_REGISTRATION',\n",
    " 'days_emp',\n",
    " 'ann_nr',\n",
    " 'AMT_ANNUITY',\n",
    " 'DAYS_LAST_PHONE_CHANGE',\n",
    " 'AMT_CREDIT',\n",
    " 'income_fm',\n",
    " 'EXT_SOURCE_1',\n",
    " 'REGION_POPULATION_RELATIVE',\n",
    " 'AMT_GOODS_PRICE']]\n",
    "\n",
    "y=train_df['TARGET']"
   ]
  },
  {
   "cell_type": "code",
   "execution_count": 303,
   "metadata": {},
   "outputs": [],
   "source": [
    "X_test=test_df[['EXT_SOURCE_2',\n",
    " 'EXT_SOURCE_3',\n",
    " 'DAYS_ID_PUBLISH',\n",
    " 'DAYS_BIRTH',\n",
    " 'DAYS_EMPLOYED',\n",
    " 'DAYS_REGISTRATION',\n",
    " 'days_emp',\n",
    " 'ann_nr',\n",
    " 'AMT_ANNUITY',\n",
    " 'DAYS_LAST_PHONE_CHANGE',\n",
    " 'AMT_CREDIT',\n",
    " 'income_fm',\n",
    " 'EXT_SOURCE_1',\n",
    " 'REGION_POPULATION_RELATIVE',\n",
    " 'AMT_GOODS_PRICE']]\n",
    "\n",
    "y_test=test_df['TARGET']"
   ]
  },
  {
   "cell_type": "code",
   "execution_count": 302,
   "metadata": {},
   "outputs": [
    {
     "data": {
      "text/plain": [
       "XGBClassifier(base_score=0.5, booster='gbtree', colsample_bylevel=1,\n",
       "       colsample_bytree=1, eval_metric='auc', gamma=16, learning_rate=0.1,\n",
       "       max_delta_step=0, max_depth=20, min_child_weight=1, missing=None,\n",
       "       n_estimators=100, n_jobs=30, nthread=None,\n",
       "       objective='binary:logistic', random_state=0, reg_alpha=40,\n",
       "       reg_lambda=40, scale_pos_weight=4, seed=None, silent=True,\n",
       "       subsample=1)"
      ]
     },
     "execution_count": 302,
     "metadata": {},
     "output_type": "execute_result"
    }
   ],
   "source": [
    "model = XGBClassifier(max_depth=20, learning_rate=0.1,n_estimators=100,n_jobs=30,scale_pos_weight=4,missing=np.nan,gamma=16, eval_metric=\"auc\",reg_lambda=40,reg_alpha=40)\n",
    "model.fit(X,y)\n"
   ]
  },
  {
   "cell_type": "code",
   "execution_count": 304,
   "metadata": {},
   "outputs": [],
   "source": [
    "y_test_pred = model.predict(X_test )"
   ]
  },
  {
   "cell_type": "code",
   "execution_count": 306,
   "metadata": {},
   "outputs": [
    {
     "name": "stdout",
     "output_type": "stream",
     "text": [
      "Test Accuracy 0.8829\n"
     ]
    }
   ],
   "source": [
    "print(\"Test Accuracy %.4f\" % accuracy_score(y_test,y_test_pred))"
   ]
  },
  {
   "cell_type": "code",
   "execution_count": 305,
   "metadata": {},
   "outputs": [
    {
     "name": "stdout",
     "output_type": "stream",
     "text": [
      "[[25797  1820]\n",
      " [ 1694   689]]\n"
     ]
    }
   ],
   "source": [
    "confmat=confusion_matrix(y_test,y_test_pred)\n",
    "print(confmat)"
   ]
  }
 ],
 "metadata": {
  "kernelspec": {
   "display_name": "Python 3",
   "language": "python",
   "name": "python3"
  },
  "language_info": {
   "codemirror_mode": {
    "name": "ipython",
    "version": 3
   },
   "file_extension": ".py",
   "mimetype": "text/x-python",
   "name": "python",
   "nbconvert_exporter": "python",
   "pygments_lexer": "ipython3",
   "version": "3.5.6"
  }
 },
 "nbformat": 4,
 "nbformat_minor": 2
}
